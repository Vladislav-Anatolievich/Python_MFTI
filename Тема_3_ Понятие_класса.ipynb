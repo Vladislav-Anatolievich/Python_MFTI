{
 "cells": [
  {
   "cell_type": "markdown",
   "id": "0450b38e",
   "metadata": {},
   "source": [
    "# Продвинутый Python\n",
    "## Тема 3: Понятие класса"
   ]
  },
  {
   "cell_type": "markdown",
   "id": "9c6ead34",
   "metadata": {},
   "source": [
    "ООП - объектно ориентированное программирование\n",
    "\n",
    "Класс - это шаблон объекта. Он содержит данные, которые описывают строение объекта и его возможности, методы работы с ним\n",
    "\n",
    "Принципы ООП:\n",
    "* Наследование\n",
    "* Инкапсуляция\n",
    "* Полиморфизм\n",
    "* Абстрагирование\n",
    "\n",
    "Метод - функция внутри класса\n",
    "\n",
    "Класс (упрощенно) - набор объединенных функций\n",
    "\n",
    "Любая переменная вида self.value будет видна любому методу внутри класса. Все методы смогут использовать эту переменную\n",
    "\n",
    "Классы можно наследовать для создания новых. Тогда методы из родительского класса будут автоматически доступны в дочернем классе"
   ]
  },
  {
   "cell_type": "code",
   "execution_count": 23,
   "id": "6faf5f41",
   "metadata": {},
   "outputs": [
    {
     "name": "stdout",
     "output_type": "stream",
     "text": [
      "usd\n",
      "usd\n"
     ]
    }
   ],
   "source": [
    "# Объявление класса (стиль CamelCase)\n",
    "class AnyName:\n",
    "    # self позволяет реализовывать механизм обмена переменными\n",
    "    def method_1(self):\n",
    "        self.currency = 'usd'\n",
    "    def method_2(self):\n",
    "        print(self.currency)\n",
    "        \n",
    "a = AnyName()\n",
    "a.method_1()\n",
    "print(a.currency)\n",
    "a.method_2()"
   ]
  },
  {
   "cell_type": "code",
   "execution_count": 3,
   "id": "8793a0d6",
   "metadata": {},
   "outputs": [
    {
     "data": {
      "text/plain": [
       "'value'"
      ]
     },
     "execution_count": 3,
     "metadata": {},
     "output_type": "execute_result"
    }
   ],
   "source": [
    "# Метод init __init__ выполняется при вызове класса \n",
    "# (выполняет некоторое действие при создании объекта)\n",
    "# В данном примере __init__ сразу инициализирует переменную format,\n",
    "# поэтому если сначала вызвать функцию show_current_format, ошибка не\n",
    "# возникнет (в отличие от прошлого примера)\n",
    "\n",
    "# Шаблон создания класса\n",
    "class Rate:\n",
    "    def __init__(self):\n",
    "        self.format = 'value'\n",
    "    def show_current_format(self):\n",
    "        return self.format\n",
    "r = Rate()\n",
    "r.show_current_format()"
   ]
  },
  {
   "cell_type": "code",
   "execution_count": 5,
   "id": "f6fde61e",
   "metadata": {},
   "outputs": [
    {
     "data": {
      "text/plain": [
       "'value_1'"
      ]
     },
     "execution_count": 5,
     "metadata": {},
     "output_type": "execute_result"
    }
   ],
   "source": [
    "# Вариант 1\n",
    "class Rate:\n",
    "    def __init__(self, format_):\n",
    "        self.format = format_\n",
    "    def show_current_format(self):\n",
    "        return self.format\n",
    "r = Rate(format_ = 'value_1')\n",
    "r.show_current_format()"
   ]
  },
  {
   "cell_type": "code",
   "execution_count": 6,
   "id": "bc14764a",
   "metadata": {},
   "outputs": [
    {
     "data": {
      "text/plain": [
       "'value_2'"
      ]
     },
     "execution_count": 6,
     "metadata": {},
     "output_type": "execute_result"
    }
   ],
   "source": [
    "# Вариант 2\n",
    "class Rate:\n",
    "    def __init__(self, format_ = 'value_2'):\n",
    "        self.format = format_\n",
    "    def show_current_format(self):\n",
    "        return self.format\n",
    "r = Rate()\n",
    "r.show_current_format()"
   ]
  },
  {
   "cell_type": "code",
   "execution_count": 7,
   "id": "d85a1cb1",
   "metadata": {},
   "outputs": [
    {
     "data": {
      "text/plain": [
       "'full_123'"
      ]
     },
     "execution_count": 7,
     "metadata": {},
     "output_type": "execute_result"
    }
   ],
   "source": [
    "# Значения переменных класса (полей) можно менять\n",
    "r.format = 'full_123'\n",
    "r.show_current_format()"
   ]
  },
  {
   "cell_type": "code",
   "execution_count": 21,
   "id": "32d76e47",
   "metadata": {},
   "outputs": [
    {
     "name": "stdout",
     "output_type": "stream",
     "text": [
      "50\n",
      "Сотрудник Иван, зарплата 50\n",
      "Сотрудник Иван, зарплата 150\n",
      "Сотрудник Vladislav, зарплата 500\n"
     ]
    }
   ],
   "source": [
    "# Пример:\n",
    "class Employee:\n",
    "    def __init__(self, name, salary):\n",
    "        self.name = name\n",
    "        self.salary = salary\n",
    "    def up(self):\n",
    "        self.salary += 100\n",
    "    def print_info(self):\n",
    "        print(f\"Сотрудник {self.name}, зарплата {self.salary}\")\n",
    "    #print(\"Сотрудник {}, зарплата {}\".format(self.name, self.salary))\n",
    "# Создание объекта класса\n",
    "ivan = Employee(name = 'Иван', salary = 50)\n",
    "# Печать атрибута salary у объекта ivan\n",
    "print(ivan.salary)\n",
    "# Вызов метода print_info()\n",
    "ivan.print_info()\n",
    "# Вызов метода up()\n",
    "ivan.up()\n",
    "ivan.print_info()\n",
    "\n",
    "vladislav = Employee(name = 'Vladislav', salary = 300)\n",
    "vladislav.up()\n",
    "vladislav.up()\n",
    "vladislav.print_info()"
   ]
  },
  {
   "cell_type": "code",
   "execution_count": 56,
   "id": "d60050de",
   "metadata": {},
   "outputs": [],
   "source": [
    "# Задача: Объявление класса для курсов валют\n",
    "# Требования: 1) запрос к сервису Api,\n",
    "# 2) обрабатывать ответ в нужном формате,\n",
    "# 3) возвращать нужную информацию в нужном формате \n",
    "# для каждой заданной валюты\n",
    "\n",
    "# Импорт библиотеки request, позволяющей делать веб-запросы \n",
    "# к внешним сервисам\n",
    "import requests\n",
    "class Rate:\n",
    "    \n",
    "    def __init__(self, format_info = 'value'):\n",
    "        self.format_info = format_info\n",
    "    \n",
    "    def take_request(self):\n",
    "        \"\"\"\n",
    "        Здесь пишут документацию.\n",
    "        Этот метод возвращает ответ сервиса с информацией о валютах\n",
    "        в виде словаря (валюты) \n",
    "        с несколькими вложенными словарями \n",
    "        (параметры конкретной валюты)\n",
    "        \"\"\"\n",
    "        self.request = requests.get(\n",
    "            'https://www.cbr-xml-daily.ru/daily_json.js')\n",
    "        return self.request.json()['Valute']\n",
    "    \n",
    "    def make_format(self, currency):\n",
    "        \"\"\"\n",
    "        Возвращает информацию о валюте currency в двух вариантах:\n",
    "        - полная информация о валюте при self.format = 'full'\n",
    "        - только текущий курс валюты при self.format = 'value'\n",
    "        \"\"\"\n",
    "        response = self.take_request()\n",
    "        if currency in response:\n",
    "            if self.format_info == 'full':\n",
    "                return response[currency]\n",
    "            if self.format_info == 'value':\n",
    "                return response[currency]['Value']\n",
    "        return 'Error'\n",
    "    \n",
    "    def usd(self):\n",
    "        \"\"\"Возвращает курс доллара на сегодня в формате self.format\"\"\"\n",
    "        return self.make_format('USD')\n",
    "    def eur(self):\n",
    "        \"\"\"Возвращает курс евро на сегодня в формате self.format\"\"\"\n",
    "        return self.make_format('EUR')\n",
    "    def cny(self):\n",
    "        \"\"\"Возвращает курс юаня на сегодня в формате self.format\"\"\"\n",
    "        return self.make_format('CNY')"
   ]
  },
  {
   "cell_type": "code",
   "execution_count": 73,
   "id": "29fffe70",
   "metadata": {},
   "outputs": [
    {
     "name": "stdout",
     "output_type": "stream",
     "text": [
      "92.4151\n",
      "98.7863\n",
      "12.6656\n",
      "USD: format \"full\": {'ID': 'R01235', 'NumCode': '840', 'CharCode': 'USD', 'Nominal': 1, 'Name': 'Доллар США', 'Value': 92.4151, 'Previous': 93.0351}\n"
     ]
    },
    {
     "data": {
      "text/plain": [
       "{'ID': 'R01375',\n",
       " 'NumCode': '156',\n",
       " 'CharCode': 'CNY',\n",
       " 'Nominal': 1,\n",
       " 'Name': 'Китайский юань',\n",
       " 'Value': 12.6656,\n",
       " 'Previous': 12.6911}"
      ]
     },
     "execution_count": 73,
     "metadata": {},
     "output_type": "execute_result"
    }
   ],
   "source": [
    "info = Rate()\n",
    "print(info.usd())\n",
    "print(info.eur())\n",
    "print(info.cny())\n",
    "info = Rate(format_info = 'full')\n",
    "print(f\"USD: format \\\"{info.format_info}\\\":\", info.usd())\n",
    "info.cny()"
   ]
  },
  {
   "cell_type": "code",
   "execution_count": 78,
   "id": "2352a585",
   "metadata": {},
   "outputs": [],
   "source": [
    "# Можно обратиться к документации метода\n",
    "# Документация необходимо почти всем методам, чтобы по прошествию\n",
    "# времени быстро разобраться что происходит\n",
    "?info.take_request\n",
    "?Rate"
   ]
  },
  {
   "cell_type": "markdown",
   "id": "e324573c",
   "metadata": {},
   "source": [
    "### Наследование"
   ]
  },
  {
   "cell_type": "code",
   "execution_count": 81,
   "id": "4b2b06dd",
   "metadata": {},
   "outputs": [],
   "source": [
    "# Наследование классов, класс CurrencyCodes наследуется от Rate\n",
    "# Классу CurrencyCodes доступны все методы класса Rate\n",
    "class CurrencyCodes(Rate):\n",
    "    def __init__(self):\n",
    "        super().__init__(format_info = 'full')\n",
    "    def currency_id(self, currency):\n",
    "        \"\"\"Получение идентификатора валюты\"\"\"\n",
    "        return self.make_format(currency)['ID']"
   ]
  },
  {
   "cell_type": "code",
   "execution_count": 83,
   "id": "0ee39042",
   "metadata": {},
   "outputs": [
    {
     "data": {
      "text/plain": [
       "'R01235'"
      ]
     },
     "execution_count": 83,
     "metadata": {},
     "output_type": "execute_result"
    }
   ],
   "source": [
    "id_code = CurrencyCodes()\n",
    "id_code.currency_id('USD')"
   ]
  },
  {
   "cell_type": "code",
   "execution_count": 84,
   "id": "e9aece0d",
   "metadata": {},
   "outputs": [],
   "source": [
    "# Пример: система повышения сотрудников\n",
    "class Emoployee:\n",
    "    \"\"\"Родительский класс\"\"\"\n",
    "    def __init__(self, name, seniority):\n",
    "        self.name = name\n",
    "        self.seniority = seniority\n",
    "        self.grade = 1\n",
    "    \n",
    "    def grade_up(self):\n",
    "        \"\"\"Повышает уровень сотрудника\"\"\"\n",
    "        self.grade += 1\n",
    "        \n",
    "    def publish_grade(self):\n",
    "        \"\"\"Повышает уровень сотрудника\"\"\"\n",
    "        print(self.name, self.grade)\n",
    "        \n",
    "    def is_it_time_for_upgrade(self):\n",
    "        pass"
   ]
  },
  {
   "cell_type": "code",
   "execution_count": 86,
   "id": "c1d8b726",
   "metadata": {},
   "outputs": [],
   "source": [
    "class Developer(Emoployee):\n",
    "    def __init__(self, name, seniority):\n",
    "        super().__init__(name, seniority)\n",
    "        \n",
    "    def is_it_time_for_upgrade(self):\n",
    "        # Для каждой аккредитации увеличиваем счетчик на 1\n",
    "        # Пока считаем, что все сотрудники проходят аккредитацию\n",
    "        self.seniority += 1\n",
    "        # Условие повышения сотрудника\n",
    "        if self.seniority % 5 == 0:\n",
    "            self.grade_up()\n",
    "        # Публикация результатов\n",
    "        return self.publish_grade()"
   ]
  },
  {
   "cell_type": "code",
   "execution_count": 90,
   "id": "92c919e8",
   "metadata": {},
   "outputs": [
    {
     "name": "stdout",
     "output_type": "stream",
     "text": [
      "Alexandr 1\n",
      "Alexandr 1\n",
      "Alexandr 1\n",
      "Alexandr 1\n",
      "Alexandr 2\n",
      "Alexandr 2\n",
      "Alexandr 2\n",
      "Alexandr 2\n",
      "Alexandr 2\n",
      "Alexandr 3\n"
     ]
    }
   ],
   "source": [
    "alex = Developer(\"Alexandr\", 0)\n",
    "for i in range(10):\n",
    "    alex.is_it_time_for_upgrade()"
   ]
  },
  {
   "cell_type": "markdown",
   "id": "669bc22e",
   "metadata": {},
   "source": [
    "### Импорт классов и функций\n",
    "from папка.название import название\n",
    "\n",
    "from папка.название import * - плохая запись, так как интерпретатор\n",
    "будет забирать все импорты, в том числе написанные в начале файла. При удалении любого из импортом (избежания глупых ошибок) лучше импортировать конкретные методы, нужные в данное задаче"
   ]
  },
  {
   "cell_type": "code",
   "execution_count": 280,
   "id": "17f91ca1",
   "metadata": {},
   "outputs": [
    {
     "name": "stdout",
     "output_type": "stream",
     "text": [
      "5\n"
     ]
    }
   ],
   "source": [
    "# Из библиотеки Lite_ariph импорт класса lite_sum\n",
    "from Lite_ariph import lite_sum\n",
    "lite_sum.lite_sum(2, 3)\n",
    "\n",
    "#Так выглядит содержимое файла Lite_ariph.py\n",
    "#class lite_sum:\n",
    "#    def lite_sum(x, y):\n",
    "#        print(x + y)\n"
   ]
  },
  {
   "cell_type": "code",
   "execution_count": 97,
   "id": "2408c7ea",
   "metadata": {},
   "outputs": [
    {
     "data": {
      "text/plain": [
       "['/Users/vladislavshakhmanov/PYTHON/Python FinTech Maga',\n",
       " '/Users/vladislavshakhmanov/anaconda3/lib/python311.zip',\n",
       " '/Users/vladislavshakhmanov/anaconda3/lib/python3.11',\n",
       " '/Users/vladislavshakhmanov/anaconda3/lib/python3.11/lib-dynload',\n",
       " '',\n",
       " '/Users/vladislavshakhmanov/anaconda3/lib/python3.11/site-packages',\n",
       " '/Users/vladislavshakhmanov/anaconda3/lib/python3.11/site-packages/aeosa']"
      ]
     },
     "execution_count": 97,
     "metadata": {},
     "output_type": "execute_result"
    }
   ],
   "source": [
    "# Если библиотека лежит в произвольной папке\n",
    "import sys\n",
    "# Показ папок, по которым ищется библиотека\n",
    "sys.path\n",
    "# Добавление папки в число \"системных\"\n",
    "sys.path.append('адрес папки')"
   ]
  },
  {
   "cell_type": "markdown",
   "id": "4e5717ca",
   "metadata": {},
   "source": [
    "## Вебинар 3\n",
    "Метод - функция внутри класса (отличие - self)\n",
    "\n",
    "Атрибут - доступен в любом методе (в отличие от параметра) (отличие - self.)\n",
    "\n",
    "Не нужно писать классы в блокнотах! Они пишутся в файлах .py"
   ]
  },
  {
   "cell_type": "code",
   "execution_count": 105,
   "id": "09ab3240",
   "metadata": {},
   "outputs": [
    {
     "name": "stdout",
     "output_type": "stream",
     "text": [
      "3\n"
     ]
    }
   ],
   "source": [
    "# Задача: посчитать количество столбцов\n",
    "line = '2019-07-01, organic, 4293'\n",
    "line = line.strip().split(',')\n",
    "print(len(line))"
   ]
  },
  {
   "cell_type": "code",
   "execution_count": 112,
   "id": "7cdf73f1",
   "metadata": {},
   "outputs": [
    {
     "data": {
      "text/plain": [
       "92.4151"
      ]
     },
     "execution_count": 112,
     "metadata": {},
     "output_type": "execute_result"
    }
   ],
   "source": [
    "# Задача: получить актуальный курс доллара\n",
    "import requests\n",
    "def usd():\n",
    "    \"\"\"Возвращает курс доллара за сегодня\"\"\"\n",
    "    full_data = requests.get(\n",
    "        'https://www.cbr-xml-daily.ru/daily_json.js').json()\n",
    "    return full_data['Valute']['USD']['Value']\n",
    "usd()"
   ]
  },
  {
   "cell_type": "code",
   "execution_count": 115,
   "id": "bf246dd9",
   "metadata": {},
   "outputs": [
    {
     "name": "stdout",
     "output_type": "stream",
     "text": [
      "2\n"
     ]
    }
   ],
   "source": [
    "def func_1():\n",
    "    x = 1\n",
    "    return x + 1\n",
    "def func_2(x):\n",
    "    print(x)\n",
    "result = func_1()\n",
    "func_2(result)"
   ]
  },
  {
   "cell_type": "code",
   "execution_count": 241,
   "id": "0fe7b0ba",
   "metadata": {},
   "outputs": [],
   "source": [
    "class AnyExampleClass:\n",
    "    def method_1(self):\n",
    "        # x ничем не отличается от переменной функции\n",
    "        x = 1 \n",
    "        # self.y - атрибут (доступен любому методу)\n",
    "        self.y = 1\n",
    "        # self._version - рекомендация не менять значение вне кода класса\n",
    "        self._version = 5.31\n",
    "        # self.__secret - запрет на изменение вне кода класса\n",
    "        self.__secret_atr = 0.1\n",
    "    def method_2(self):\n",
    "        print(self.y + 10)\n",
    "    def change_secret(new_secret):\n",
    "        pass"
   ]
  },
  {
   "cell_type": "code",
   "execution_count": 242,
   "id": "289ab1f9",
   "metadata": {},
   "outputs": [
    {
     "name": "stdout",
     "output_type": "stream",
     "text": [
      "20\n"
     ]
    }
   ],
   "source": [
    "# Для использования класса к нему нужно обратиться \n",
    "# (инициализация инстанса класса)\n",
    "ex = AnyExampleClass()\n",
    "ex.method_1()\n",
    "ex.y = 10\n",
    "ex.method_2()"
   ]
  },
  {
   "cell_type": "code",
   "execution_count": 243,
   "id": "a55aaa52",
   "metadata": {
    "scrolled": true
   },
   "outputs": [
    {
     "name": "stdout",
     "output_type": "stream",
     "text": [
      "6.0\n"
     ]
    },
    {
     "ename": "AttributeError",
     "evalue": "'AnyExampleClass' object has no attribute '__secret_atr'",
     "output_type": "error",
     "traceback": [
      "\u001b[0;31m---------------------------------------------------------------------------\u001b[0m",
      "\u001b[0;31mAttributeError\u001b[0m                            Traceback (most recent call last)",
      "Cell \u001b[0;32mIn[243], line 5\u001b[0m\n\u001b[1;32m      3\u001b[0m \u001b[38;5;28mprint\u001b[39m(ex\u001b[38;5;241m.\u001b[39m_version)\n\u001b[1;32m      4\u001b[0m \u001b[38;5;66;03m# Изменить невозможно вне класса\u001b[39;00m\n\u001b[0;32m----> 5\u001b[0m (ex\u001b[38;5;241m.\u001b[39m__secret_atr)\n",
      "\u001b[0;31mAttributeError\u001b[0m: 'AnyExampleClass' object has no attribute '__secret_atr'"
     ]
    }
   ],
   "source": [
    "# Можно поменять, но не отображается при нажатии TAB\n",
    "ex._version = 6.0\n",
    "print(ex._version)\n",
    "# Изменить невозможно вне класса\n",
    "(ex.__secret_atr)"
   ]
  },
  {
   "cell_type": "code",
   "execution_count": 244,
   "id": "4faf542a",
   "metadata": {},
   "outputs": [],
   "source": [
    "# Закрытие доступа с помощью __\n",
    "class Some:\n",
    "    def met_1(self):\n",
    "        self.__example = 0.1\n",
    "    def met_2(self):\n",
    "        print(self.__example)\n",
    "some = Some()"
   ]
  },
  {
   "cell_type": "code",
   "execution_count": 245,
   "id": "620d9311",
   "metadata": {},
   "outputs": [],
   "source": [
    "some.met_1()"
   ]
  },
  {
   "cell_type": "code",
   "execution_count": 246,
   "id": "de86da0c",
   "metadata": {},
   "outputs": [
    {
     "name": "stdout",
     "output_type": "stream",
     "text": [
      "0.1\n"
     ]
    }
   ],
   "source": [
    "some.met_2()"
   ]
  },
  {
   "cell_type": "code",
   "execution_count": 251,
   "id": "28949d0f",
   "metadata": {},
   "outputs": [
    {
     "name": "stdout",
     "output_type": "stream",
     "text": [
      "0.2\n"
     ]
    }
   ],
   "source": [
    "some.__example = 0.2\n",
    "print(some.__example)"
   ]
  },
  {
   "cell_type": "code",
   "execution_count": 250,
   "id": "e609eff8",
   "metadata": {},
   "outputs": [
    {
     "name": "stdout",
     "output_type": "stream",
     "text": [
      "0.1\n"
     ]
    }
   ],
   "source": [
    "some.met_2()"
   ]
  },
  {
   "cell_type": "code",
   "execution_count": 267,
   "id": "04ef1a47",
   "metadata": {},
   "outputs": [],
   "source": [
    "class ExClass:\n",
    "    def __init__(self, atr_1):\n",
    "        print(\"Выполняется при обращении к классу\")\n",
    "        # Создаем все атрибуты, которые нужны для работы\n",
    "        self.atr_1 = atr_1\n",
    "    def print_atr(self):\n",
    "        print(f\"Это атрибут {self.atr_1}\")"
   ]
  },
  {
   "cell_type": "code",
   "execution_count": 268,
   "id": "d611fbd8",
   "metadata": {
    "scrolled": true
   },
   "outputs": [
    {
     "name": "stdout",
     "output_type": "stream",
     "text": [
      "Выполняется при обращении к классу\n",
      "Это атрибут RUB\n"
     ]
    }
   ],
   "source": [
    "ex = ExClass(atr_1 = 'RUB') # Выполнился метод __init__\n",
    "ex.print_atr()"
   ]
  },
  {
   "cell_type": "code",
   "execution_count": 304,
   "id": "c06deaac",
   "metadata": {},
   "outputs": [],
   "source": [
    "class DecClass:\n",
    "    \n",
    "    def __init__(self):\n",
    "        self.price = 100\n",
    "        \n",
    "    # Декоратор (берет метод под ним и совершает действие)\n",
    "    @staticmethod\n",
    "    def useful_func(x, y, z):\n",
    "        \"\"\"Просто функции внутри классов - не используют атрибуты\"\"\"\n",
    "        return x**2 + y**2 + z**2\n",
    "        \n",
    "# Можно написать рядом с классом не используя декоратор, но тогда\n",
    "# придется импортировать все нужные функции вручную отдельно (неудобно),\n",
    "# а так они импортируются вместе с классом\n",
    "    \n",
    "    # Свойство, вычисляемый атрибут\n",
    "    @property\n",
    "    def price_with_discount(self):\n",
    "        \"\"\"Это вычисляемый атрибут (НЕ метод)\"\"\"\n",
    "        return self.price * 0.95\n",
    "        "
   ]
  },
  {
   "cell_type": "code",
   "execution_count": 307,
   "id": "143f8b57",
   "metadata": {
    "scrolled": true
   },
   "outputs": [
    {
     "name": "stdout",
     "output_type": "stream",
     "text": [
      "14\n"
     ]
    },
    {
     "data": {
      "text/plain": [
       "95.0"
      ]
     },
     "execution_count": 307,
     "metadata": {},
     "output_type": "execute_result"
    }
   ],
   "source": [
    "print(DecClass().useful_func(1, 2, 3))\n",
    "result = DecClass()\n",
    "\n",
    "# Можно использовать, как будто он уже есть. При вызове Python смотрит\n",
    "# код, делает вычисления, возвращаемое значение идет пользователю\n",
    "result.price_with_discount"
   ]
  },
  {
   "cell_type": "markdown",
   "id": "8d21d41b",
   "metadata": {},
   "source": [
    "functools (@cache) - позволяет запоминать значение, если метод вызывается с таким же значением, то не будет снова происходить запрос в сеть, а вернется сохраненное в прошлый раз значение\n",
    "\n",
    "Можно запоминать в словарь вида {'params': 'result'}\n",
    "\n",
    "params чтобы не запоминать в лоб можно использовать хэш-функцию\n",
    "\n",
    "например: hash((1, 2, 3))"
   ]
  },
  {
   "cell_type": "code",
   "execution_count": null,
   "id": "520b114a",
   "metadata": {},
   "outputs": [],
   "source": []
  }
 ],
 "metadata": {
  "kernelspec": {
   "display_name": "Python 3 (ipykernel)",
   "language": "python",
   "name": "python3"
  },
  "language_info": {
   "codemirror_mode": {
    "name": "ipython",
    "version": 3
   },
   "file_extension": ".py",
   "mimetype": "text/x-python",
   "name": "python",
   "nbconvert_exporter": "python",
   "pygments_lexer": "ipython3",
   "version": "3.11.5"
  }
 },
 "nbformat": 4,
 "nbformat_minor": 5
}
