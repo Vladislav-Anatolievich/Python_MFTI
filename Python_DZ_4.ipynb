{
 "cells": [
  {
   "cell_type": "markdown",
   "id": "41e64177",
   "metadata": {},
   "source": [
    "## Домашняя работа №4"
   ]
  },
  {
   "cell_type": "markdown",
   "id": "5c4f5e66",
   "metadata": {},
   "source": [
    "### Задача 1"
   ]
  },
  {
   "cell_type": "code",
   "execution_count": 2,
   "id": "4fd4875d",
   "metadata": {},
   "outputs": [
    {
     "name": "stdout",
     "output_type": "stream",
     "text": [
      "Номер A222CC96 валиден. Регион: 96.\n",
      "Номер АБ22ВВ193 не валиден.\n"
     ]
    }
   ],
   "source": [
    "# Решение задачи 1\n",
    "import re\n",
    "car_id = ['A222CC96', 'АБ22ВВ193']\n",
    "cor_let = ['A', 'B', 'C', 'E', 'K', 'M', 'H',\n",
    "           'O', 'P', 'C', 'T', 'Y', 'X']\n",
    "for item in car_id:\n",
    "    if re.search('\\w\\d{3}\\w{2}\\d{2,3}', item):\n",
    "        res = re.search('(\\w)\\d{3}(\\w{2})(\\d{2,3})', item)\n",
    "        if res.group(1) in cor_let and res.group(2)[0] in cor_let and res.group(2)[1] in cor_let:\n",
    "            print(f'Номер {item} валиден. Регион: {res.group(3)}.')\n",
    "        else:\n",
    "            print(f'Номер {item} не валиден.')\n",
    "    else:\n",
    "        print(f'Номер {item} не валиден.')"
   ]
  }
 ],
 "metadata": {
  "kernelspec": {
   "display_name": "Python 3 (ipykernel)",
   "language": "python",
   "name": "python3"
  },
  "language_info": {
   "codemirror_mode": {
    "name": "ipython",
    "version": 3
   },
   "file_extension": ".py",
   "mimetype": "text/x-python",
   "name": "python",
   "nbconvert_exporter": "python",
   "pygments_lexer": "ipython3",
   "version": "3.11.5"
  }
 },
 "nbformat": 4,
 "nbformat_minor": 5
}
