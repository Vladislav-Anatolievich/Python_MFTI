{
 "cells": [
  {
   "cell_type": "markdown",
   "id": "88015ad0",
   "metadata": {},
   "source": [
    "# Продвинутый Python\n",
    "## Тема 4: Регулярные выражения и основы синтаксического разбора"
   ]
  },
  {
   "cell_type": "markdown",
   "id": "8e2d1301",
   "metadata": {},
   "source": [
    "Регулярные выражения - это шаблоны, которые используют для сопоставления последовательностей символов в строках"
   ]
  },
  {
   "cell_type": "code",
   "execution_count": 2,
   "id": "936839b4",
   "metadata": {},
   "outputs": [
    {
     "data": {
      "text/plain": [
       "True"
      ]
     },
     "execution_count": 2,
     "metadata": {},
     "output_type": "execute_result"
    }
   ],
   "source": [
    "'знать' in 'каждый охотник желает знать где сидит фазан'"
   ]
  },
  {
   "cell_type": "code",
   "execution_count": 5,
   "id": "f19022ee",
   "metadata": {},
   "outputs": [
    {
     "data": {
      "text/plain": [
       "7"
      ]
     },
     "execution_count": 5,
     "metadata": {},
     "output_type": "execute_result"
    }
   ],
   "source": [
    "'каждый охотник желает знать где сидит фазан'.find('охотник')"
   ]
  },
  {
   "cell_type": "code",
   "execution_count": 1,
   "id": "040e3a70",
   "metadata": {},
   "outputs": [],
   "source": [
    "import re"
   ]
  },
  {
   "cell_type": "code",
   "execution_count": 61,
   "id": "87d2c5fb",
   "metadata": {},
   "outputs": [
    {
     "name": "stdout",
     "output_type": "stream",
     "text": [
      "['id1234563', 'id4563', 'id325']\n"
     ]
    }
   ],
   "source": [
    "# Найдем идентификаторы пользователей в тексте\n",
    "\n",
    "# (сначала идет строка 'id' + одна или несколько цифр)\n",
    "\n",
    "msg = 'В розыгрыше победили: id1234563, id4563, id325, id'\n",
    "print(re.findall('id\\d+', msg))"
   ]
  },
  {
   "cell_type": "code",
   "execution_count": 60,
   "id": "9883f454",
   "metadata": {},
   "outputs": [
    {
     "data": {
      "text/plain": [
       "['#ливень', '#зонтик', '#4четыре']"
      ]
     },
     "execution_count": 60,
     "metadata": {},
     "output_type": "execute_result"
    }
   ],
   "source": [
    "# Найдем хэштэги в твите\n",
    "\n",
    "# (сначала идет # + одна или несколько букв)\n",
    "\n",
    "tweet = 'когда #ливень, то бери #зонтик #4четыре'\n",
    "re.findall('#\\w+', tweet)"
   ]
  },
  {
   "cell_type": "code",
   "execution_count": 31,
   "id": "e31a8c5d",
   "metadata": {},
   "outputs": [],
   "source": [
    "# Разбить на слова и сравнить с методом split\n",
    "text = 'Дорогие студенты, приветствуем вас на курсе \\\n",
    "«Продвинутый Python»!'"
   ]
  },
  {
   "cell_type": "code",
   "execution_count": 32,
   "id": "d27f3df8",
   "metadata": {
    "scrolled": true
   },
   "outputs": [
    {
     "data": {
      "text/plain": [
       "['Дорогие',\n",
       " 'студенты',\n",
       " 'приветствуем',\n",
       " 'вас',\n",
       " 'на',\n",
       " 'курсе',\n",
       " 'Продвинутый',\n",
       " 'Python']"
      ]
     },
     "execution_count": 32,
     "metadata": {},
     "output_type": "execute_result"
    }
   ],
   "source": [
    "re.findall('\\w+', text)"
   ]
  },
  {
   "cell_type": "code",
   "execution_count": 56,
   "id": "a61e54a7",
   "metadata": {},
   "outputs": [
    {
     "data": {
      "text/plain": [
       "['Дорогие',\n",
       " 'студенты',\n",
       " 'приветствуем',\n",
       " 'вас',\n",
       " 'на',\n",
       " 'курсе',\n",
       " 'Продвинутый',\n",
       " 'Python',\n",
       " '']"
      ]
     },
     "execution_count": 56,
     "metadata": {},
     "output_type": "execute_result"
    }
   ],
   "source": [
    "re.split('\\W+', text)"
   ]
  },
  {
   "cell_type": "code",
   "execution_count": 33,
   "id": "4e963def",
   "metadata": {
    "scrolled": true
   },
   "outputs": [
    {
     "data": {
      "text/plain": [
       "['Дорогие',\n",
       " 'студенты,',\n",
       " 'приветствуем',\n",
       " 'вас',\n",
       " 'на',\n",
       " 'курсе',\n",
       " '«Продвинутый',\n",
       " 'Python»!']"
      ]
     },
     "execution_count": 33,
     "metadata": {},
     "output_type": "execute_result"
    }
   ],
   "source": [
    "# При таком способе знаки препинания тоже включаются в слова (плохо)\n",
    "text.split(' ')"
   ]
  },
  {
   "cell_type": "code",
   "execution_count": 35,
   "id": "2410f43a",
   "metadata": {},
   "outputs": [
    {
     "data": {
      "text/plain": [
       "57"
      ]
     },
     "execution_count": 35,
     "metadata": {},
     "output_type": "execute_result"
    }
   ],
   "source": [
    "text.find('Python')"
   ]
  },
  {
   "cell_type": "code",
   "execution_count": 36,
   "id": "12a534a0",
   "metadata": {},
   "outputs": [
    {
     "data": {
      "text/plain": [
       "<re.Match object; span=(57, 63), match='Python'>"
      ]
     },
     "execution_count": 36,
     "metadata": {},
     "output_type": "execute_result"
    }
   ],
   "source": [
    "re.search('P\\w+', text)"
   ]
  },
  {
   "cell_type": "code",
   "execution_count": 53,
   "id": "a44aa6a5",
   "metadata": {},
   "outputs": [
    {
     "data": {
      "text/plain": [
       "<re.Match object; span=(0, 7), match='Дорогие'>"
      ]
     },
     "execution_count": 53,
     "metadata": {},
     "output_type": "execute_result"
    }
   ],
   "source": [
    "re.match('\\w+', text)"
   ]
  },
  {
   "cell_type": "code",
   "execution_count": 66,
   "id": "40f0047b",
   "metadata": {},
   "outputs": [
    {
     "name": "stdout",
     "output_type": "stream",
     "text": [
      "['4', '12', '20', '11']\n",
      "['4', '12', '20', '11']\n",
      "['4-12', '20-11']\n"
     ]
    }
   ],
   "source": [
    "# Вытащить условные даты из строки\n",
    "registration = 'Date of start: 4-12. Date of registration: 20-11'\n",
    "print(re.findall('\\d+', registration))\n",
    "print(re.findall('\\d{1,4}', registration))\n",
    "print(re.findall('\\d{1,2}-\\d{1,2}', registration))"
   ]
  },
  {
   "cell_type": "code",
   "execution_count": 72,
   "id": "98ca440e",
   "metadata": {},
   "outputs": [
    {
     "data": {
      "text/plain": [
       "['8-495-342-23-32', '+7-323-423-23-67']"
      ]
     },
     "execution_count": 72,
     "metadata": {},
     "output_type": "execute_result"
    }
   ],
   "source": [
    "# Вытащить номера телефонов из строки\n",
    "phone_numbers = 'Мария: 8-495-342-23-32, Александр: +7-323-423-23-67'\n",
    "re.findall('\\d-\\d{3}-\\d{3}-\\d{2}-\\d{2}|\\+7-\\d{3}-\\d{3}-\\d{2}-\\d{2}', \n",
    "           phone_numbers)"
   ]
  },
  {
   "cell_type": "code",
   "execution_count": 96,
   "id": "698ef53a",
   "metadata": {},
   "outputs": [
    {
     "name": "stdout",
     "output_type": "stream",
     "text": [
      "['1 september 2019 07:25']\n",
      "2019-09-01 07:25:00\n"
     ]
    }
   ],
   "source": [
    "# Валидация даты\n",
    "date = 'some text 1 september 2019 07:25 some text'\n",
    "date_string = re.findall('\\d{1,2} \\w+ \\d{4} \\d{2}:\\d{2}', date)\n",
    "print(date_string)\n",
    "from datetime import datetime\n",
    "try:\n",
    "    validate_date = datetime.strptime(re.findall(\n",
    "        '\\d{1,2} \\w+ \\d{4} \\d{2}:\\d{2}', \n",
    "        date)[0], '%d %B %Y %H:%M')\n",
    "except:\n",
    "    print(date_string, \"can't convert in datetime\")\n",
    "print(validate_date)"
   ]
  },
  {
   "cell_type": "code",
   "execution_count": 97,
   "id": "9b65a12d",
   "metadata": {},
   "outputs": [
    {
     "data": {
      "text/plain": [
       "['20 век', '19 век']"
      ]
     },
     "execution_count": 97,
     "metadata": {},
     "output_type": "execute_result"
    }
   ],
   "source": [
    "# Поиск в начале или конце строки\n",
    "history_comment = \"20 век был более опасным, чем 19 век\"\n",
    "re.findall('\\d{2} век', history_comment)"
   ]
  },
  {
   "cell_type": "code",
   "execution_count": 99,
   "id": "9a3db97a",
   "metadata": {},
   "outputs": [
    {
     "data": {
      "text/plain": [
       "['20 век']"
      ]
     },
     "execution_count": 99,
     "metadata": {},
     "output_type": "execute_result"
    }
   ],
   "source": [
    "# Поиск в начале строки (строка начинается на...)\n",
    "re.findall('^\\d{2} век', history_comment)"
   ]
  },
  {
   "cell_type": "code",
   "execution_count": 100,
   "id": "d4705827",
   "metadata": {},
   "outputs": [
    {
     "data": {
      "text/plain": [
       "['19 век']"
      ]
     },
     "execution_count": 100,
     "metadata": {},
     "output_type": "execute_result"
    }
   ],
   "source": [
    "# Поиск в конце строки (строка заканчивается на...)\n",
    "re.findall('\\d{2} век$', history_comment)\n",
    "# Может быть полезно при определении (проверке) расширений файлов"
   ]
  },
  {
   "cell_type": "code",
   "execution_count": 104,
   "id": "a8fbe863",
   "metadata": {},
   "outputs": [
    {
     "data": {
      "text/plain": [
       "['ноутбук', 'компьютер']"
      ]
     },
     "execution_count": 104,
     "metadata": {},
     "output_type": "execute_result"
    }
   ],
   "source": [
    "# или\n",
    "market_search = 'Что лучше, ноутбук или компьютер?'\n",
    "re.findall('ноутбук|компьютер', market_search)"
   ]
  },
  {
   "cell_type": "code",
   "execution_count": 131,
   "id": "70a491a9",
   "metadata": {},
   "outputs": [
    {
     "data": {
      "text/plain": [
       "'censored, жуй, жулик, хорек, censored'"
      ]
     },
     "execution_count": 131,
     "metadata": {},
     "output_type": "execute_result"
    }
   ],
   "source": [
    "# Замена символов/слов\n",
    "censored = 'хуu, жуй, жулик, хорек, хек'\n",
    "re.sub(r'\\b[хХ]\\w{2}\\b', 'censored', censored)\n"
   ]
  },
  {
   "cell_type": "code",
   "execution_count": 145,
   "id": "909ca3a9",
   "metadata": {},
   "outputs": [
    {
     "name": "stdout",
     "output_type": "stream",
     "text": [
      "Лайков: 2\n",
      "2\n"
     ]
    }
   ],
   "source": [
    "# Посчитать количество лайков, репостов и тд\n",
    "message = ['Опять дождь! Лайков: 2', \n",
    "           'Концерт в Москве! Лайков: 28, Репостов: 22']\n",
    "res = re.search('Лайков: (\\d+)', message[0])\n",
    "print(res.group(0))\n",
    "print(res.group(1))"
   ]
  },
  {
   "cell_type": "code",
   "execution_count": 144,
   "id": "9b9176f1",
   "metadata": {},
   "outputs": [
    {
     "name": "stdout",
     "output_type": "stream",
     "text": [
      "user@yandex.ru\n",
      "user\n",
      "yandex.ru\n",
      "yandex\n",
      "ru\n"
     ]
    }
   ],
   "source": [
    "result = re.search('(\\w+)@((\\w+)\\.(\\w+))', \n",
    "                   'Пользователь 1 - user@yandex.ru')\n",
    "print(result.group(0))\n",
    "print(result.group(1))\n",
    "print(result.group(2))\n",
    "print(result.group(3))\n",
    "print(result.group(4))"
   ]
  },
  {
   "cell_type": "code",
   "execution_count": 261,
   "id": "8b9710b7",
   "metadata": {},
   "outputs": [
    {
     "name": "stdout",
     "output_type": "stream",
     "text": [
      "Номер A222CC96 валиден. Регион: 96.\n",
      "Номер АБ22ВВ193 не валиден.\n"
     ]
    }
   ],
   "source": [
    "# Решение задачи 1\n",
    "car_id = ['A222CC96', 'АБ22ВВ193']\n",
    "cor_let = ['A', 'B', 'C', 'E', 'K', 'M', 'H',\n",
    "           'O', 'P', 'C', 'T', 'Y', 'X']\n",
    "for item in car_id:\n",
    "    if re.search('\\w\\d{3}\\w{2}\\d{2,3}', item):\n",
    "        res = re.search('(\\w)\\d{3}(\\w{2})(\\d{2,3})', item)\n",
    "        if res.group(1) in cor_let and res.group(2)[0] in cor_let and res.group(2)[1] in cor_let:\n",
    "            print(f'Номер {item} валиден. Регион: {res.group(3)}.')\n",
    "        else:\n",
    "            print(f'Номер {item} не валиден.')\n",
    "    else:\n",
    "        print(f'Номер {item} не валиден.')\n"
   ]
  }
 ],
 "metadata": {
  "kernelspec": {
   "display_name": "Python 3 (ipykernel)",
   "language": "python",
   "name": "python3"
  },
  "language_info": {
   "codemirror_mode": {
    "name": "ipython",
    "version": 3
   },
   "file_extension": ".py",
   "mimetype": "text/x-python",
   "name": "python",
   "nbconvert_exporter": "python",
   "pygments_lexer": "ipython3",
   "version": "3.11.5"
  }
 },
 "nbformat": 4,
 "nbformat_minor": 5
}
