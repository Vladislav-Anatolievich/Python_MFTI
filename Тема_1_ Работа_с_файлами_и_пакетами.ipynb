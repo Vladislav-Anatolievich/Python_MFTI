{
 "cells": [
  {
   "cell_type": "markdown",
   "id": "4936c81f",
   "metadata": {},
   "source": [
    "# Продвинутый Python\n",
    "## ТЕМА 1: Работа с файлами и пакетами                                   "
   ]
  },
  {
   "cell_type": "markdown",
   "id": "273a25b4",
   "metadata": {},
   "source": [
    "Google Collaboratory (Colab) - облачная среда для работы Python. \t          Бесплатная, код выполняется построчно, отображаются промежуточные результаты.\n",
    "\n",
    "Ноутбук - файл с кодом. Состоит из ячеек (код или текст).\n",
    "\n",
    "Ячейки с кодом можно выполнять в произвольном порядке, но \t\tрекомендуется сверху вниз.\n",
    "\n",
    "Можно добавлять текстовые комментарии (в формате markdown).\n"
   ]
  },
  {
   "cell_type": "markdown",
   "id": "14e35335",
   "metadata": {},
   "source": [
    "jupyter-notebook - запуск (терминал)"
   ]
  },
  {
   "cell_type": "markdown",
   "id": "af401a75",
   "metadata": {},
   "source": [
    "D,D - удалить ячейку\n",
    "\n",
    "B - создать ячейку снизу\n",
    "\n",
    "Command + Enter / Control + Enter - запуск блок кода\n",
    "\n"
   ]
  },
  {
   "cell_type": "markdown",
   "id": "2cda93d7",
   "metadata": {},
   "source": [
    "Jupyterhub позволяет организовывать раздельные пространства (несколько ноутбуков для команды разработчиков), OAuth (GitHub), Админка, SSL\n",
    "Можно интегрировать Telegram (бот), который будет уведомлять об выполнении ячейки или ошибках"
   ]
  },
  {
   "cell_type": "markdown",
   "id": "fa9c53f5",
   "metadata": {},
   "source": [
    "Сквозная аналитика - объединение данных из разных систем в одну таблицу (в идеале).\n",
    "* Просмотр рекламы: Яндекс директ,  MyTarget, AdWords, Вконтакте\t\n",
    "* Переход на сайт: Яндекс метрика, Appmetrica, Google Analytics\n",
    "* Оформление заказа: Каталог, Рекомендации, Склады, Поставщики\n",
    "* Получение заказа: Курьеры, Отказы\n",
    "* Взаимодействие с магазином: Сторонние CRM и БД\n",
    "* Оплата заказа: Биллинги, 1C, Axapta, Аудит"
   ]
  },
  {
   "cell_type": "markdown",
   "id": "89054794",
   "metadata": {},
   "source": [
    "Ограничение по памяти (размеру файла):\n",
    "* Excel / Google Docs -> 100 Mb\n",
    "* Pandas -> 1 - 100 Gb (Ограничена объемом RAM)\n",
    "* Чтение построчно -> 256 Gb+ (Ограничен объемом HDD)"
   ]
  },
  {
   "cell_type": "markdown",
   "id": "ba13026f",
   "metadata": {},
   "source": [
    "Общие рекомендации по работе с исходными данным:\n",
    "* Если позволяет задача, читать построчно\n",
    "* При использовании параметра mode = «w», файл чистится\n",
    "* Не пишите одновременно в один и тот же файл два потока данных"
   ]
  },
  {
   "cell_type": "markdown",
   "id": "c5372b29",
   "metadata": {},
   "source": [
    "Опции при открытии файлов:\n",
    "* r - открыть для чтения. Файл не меняется\n",
    "* w - открыть для записи. Файл полностью чистится (создается)\n",
    "* a - открыть для добавления. Записи добавляются в конец"
   ]
  },
  {
   "cell_type": "code",
   "execution_count": 68,
   "id": "228364d5",
   "metadata": {},
   "outputs": [],
   "source": [
    "# Открыть файл для чтения (опция r)\n",
    "f = open('visit_log.csv', 'r')"
   ]
  },
  {
   "cell_type": "code",
   "execution_count": 69,
   "id": "8b2206b8",
   "metadata": {},
   "outputs": [],
   "source": [
    "# Открыть для чтения в кодировке utf-8 \n",
    "f = open('visit_log.csv', 'r', encoding = 'utf-8')"
   ]
  },
  {
   "cell_type": "code",
   "execution_count": 10,
   "id": "1cb763b0",
   "metadata": {},
   "outputs": [
    {
     "data": {
      "text/plain": [
       "<_io.TextIOWrapper name='visit_log.csv' mode='r' encoding='utf-8'>"
      ]
     },
     "execution_count": 10,
     "metadata": {},
     "output_type": "execute_result"
    }
   ],
   "source": [
    "# После его открытия на чтение получается генератор, готовый перебирать файл построчно\n",
    "f"
   ]
  },
  {
   "cell_type": "code",
   "execution_count": 70,
   "id": "8d1a8999",
   "metadata": {},
   "outputs": [
    {
     "data": {
      "text/plain": [
       "'user_id,source\\n'"
      ]
     },
     "execution_count": 70,
     "metadata": {},
     "output_type": "execute_result"
    }
   ],
   "source": [
    "# Прочитать первую строку файла\n",
    "f.readline()"
   ]
  },
  {
   "cell_type": "code",
   "execution_count": 71,
   "id": "fb712c08",
   "metadata": {},
   "outputs": [
    {
     "data": {
      "text/plain": [
       "'6450655ae8,other\\n'"
      ]
     },
     "execution_count": 71,
     "metadata": {},
     "output_type": "execute_result"
    }
   ],
   "source": [
    "# Прочитать еще одну строку (вторую, и тд)\n",
    "f.readline()"
   ]
  },
  {
   "cell_type": "code",
   "execution_count": 72,
   "id": "882e3c65",
   "metadata": {},
   "outputs": [
    {
     "data": {
      "text/plain": [
       "'b4ea53e670,other\\n'"
      ]
     },
     "execution_count": 72,
     "metadata": {},
     "output_type": "execute_result"
    }
   ],
   "source": [
    "# Еще один способ прочитать одну строку (next перебирает любой генератор)\n",
    "next(f)"
   ]
  },
  {
   "cell_type": "code",
   "execution_count": 73,
   "id": "71019f8b",
   "metadata": {},
   "outputs": [],
   "source": [
    "# Прочитать все содержимое файла в переменную content\n",
    "content = f.readlines()"
   ]
  },
  {
   "cell_type": "code",
   "execution_count": 74,
   "id": "c4218f31",
   "metadata": {},
   "outputs": [
    {
     "data": {
      "text/plain": [
       "'c23704ea54,other\\n'"
      ]
     },
     "execution_count": 74,
     "metadata": {},
     "output_type": "execute_result"
    }
   ],
   "source": [
    "# Вывести последний элемент (первый с конца)\n",
    "content[-1]"
   ]
  },
  {
   "cell_type": "code",
   "execution_count": 75,
   "id": "dbbbe1a0",
   "metadata": {},
   "outputs": [
    {
     "data": {
      "text/plain": [
       "['0e37347152,other\\n', '96064ae9e0,other\\n', 'e1bd168161,context\\n']"
      ]
     },
     "execution_count": 75,
     "metadata": {},
     "output_type": "execute_result"
    }
   ],
   "source": [
    "# Вывести три строки\n",
    "content[:3]"
   ]
  },
  {
   "cell_type": "code",
   "execution_count": 76,
   "id": "99663953",
   "metadata": {},
   "outputs": [
    {
     "data": {
      "text/plain": [
       "0"
      ]
     },
     "execution_count": 76,
     "metadata": {},
     "output_type": "execute_result"
    }
   ],
   "source": [
    "# Смесить курсор в самое начало файла\n",
    "f.seek(0)"
   ]
  },
  {
   "cell_type": "code",
   "execution_count": 77,
   "id": "5c5f27d1",
   "metadata": {},
   "outputs": [
    {
     "name": "stdout",
     "output_type": "stream",
     "text": [
      "user_id,source\n",
      "\n"
     ]
    }
   ],
   "source": [
    "# Построчное чтение файла\n",
    "for line in f:\n",
    "    print(line)\n",
    "    break"
   ]
  },
  {
   "cell_type": "code",
   "execution_count": 78,
   "id": "43d9de58",
   "metadata": {},
   "outputs": [
    {
     "name": "stdout",
     "output_type": "stream",
     "text": [
      "6450655ae8,other\n",
      "\n",
      "b4ea53e670,other\n",
      "\n",
      "0e37347152,other\n",
      "\n",
      "96064ae9e0,other\n",
      "\n",
      "e1bd168161,context\n",
      "\n"
     ]
    }
   ],
   "source": [
    "#1-й способ прочитать часть файла \n",
    "i = 0\n",
    "for line in f:\n",
    "    print(line)\n",
    "    i += 1\n",
    "    if i >= 5:\n",
    "        break"
   ]
  },
  {
   "cell_type": "code",
   "execution_count": 79,
   "id": "f7dc5491",
   "metadata": {},
   "outputs": [
    {
     "name": "stdout",
     "output_type": "stream",
     "text": [
      "0 71bcf169b4,other\n",
      "\n",
      "1 e0aee73c5d,other\n",
      "\n",
      "2 1f8845e157,context\n",
      "\n",
      "3 78d22c5c78,other\n",
      "\n",
      "4 dd85040770,other\n",
      "\n",
      "5 2301051b25,other\n",
      "\n"
     ]
    }
   ],
   "source": [
    "#2-й способ прочитать часть файла\n",
    "for i, line in enumerate(f):\n",
    "    print(i, line)\n",
    "    if i >= 5:\n",
    "        break"
   ]
  },
  {
   "cell_type": "code",
   "execution_count": 80,
   "id": "3fd0c37e",
   "metadata": {},
   "outputs": [
    {
     "data": {
      "text/plain": [
       "'86835b81ac,context\\n'"
      ]
     },
     "execution_count": 80,
     "metadata": {},
     "output_type": "execute_result"
    }
   ],
   "source": [
    "another_line = f.readline()\n",
    "another_line"
   ]
  },
  {
   "cell_type": "code",
   "execution_count": 81,
   "id": "795d1b7f",
   "metadata": {},
   "outputs": [
    {
     "data": {
      "text/plain": [
       "'86835b81ac,context'"
      ]
     },
     "execution_count": 81,
     "metadata": {},
     "output_type": "execute_result"
    }
   ],
   "source": [
    "# Удаление переноса строки и лишние пробелы\n",
    "another_line.strip()"
   ]
  },
  {
   "cell_type": "code",
   "execution_count": 82,
   "id": "8b5ce4fb",
   "metadata": {},
   "outputs": [
    {
     "data": {
      "text/plain": [
       "'Hello world!'"
      ]
     },
     "execution_count": 82,
     "metadata": {},
     "output_type": "execute_result"
    }
   ],
   "source": [
    "# Можно указывать комбинации символов, которые нужно удалить\n",
    "'@#Hello world!;#'.strip(';#@')"
   ]
  },
  {
   "cell_type": "code",
   "execution_count": 83,
   "id": "13bb601a",
   "metadata": {},
   "outputs": [
    {
     "data": {
      "text/plain": [
       "['86835b81ac', 'context']"
      ]
     },
     "execution_count": 83,
     "metadata": {},
     "output_type": "execute_result"
    }
   ],
   "source": [
    "# Преобразование строки в список с помощью указанного разделителя\n",
    "another_line.strip().split(',')\n"
   ]
  },
  {
   "cell_type": "code",
   "execution_count": 250,
   "id": "404944bb",
   "metadata": {},
   "outputs": [],
   "source": [
    "# Закрытие файла. Закрытый файл не получится прочитать\n",
    "f.close()\n"
   ]
  },
  {
   "cell_type": "code",
   "execution_count": 151,
   "id": "59d17c9f",
   "metadata": {},
   "outputs": [],
   "source": [
    "# Контекстный менеджер позволяет обезопасить от накладок (запись в файл)\n",
    "with open('visit_log.csv', 'w') as file: #работает только для параметра w\n",
    "    file.write('Записываю новую строку...\\n')\n",
    "    incorrect_process = open('visit_log.csv', 'a') #Будет игнорироваться\n",
    "    incorrect_process.write('1243423') #Будет игнорироваться\n",
    "    incorrect_process.close()\n",
    "    incorrect_process = open('visit_log.csv', 'w') #Будет игнорироваться\n",
    "    incorrect_process.write('$@%#$@') #Будет игнорироваться\n",
    "    incorrect_process.close()\n",
    "# После окончания действия контектсного менеджера файл закроется автоматически"
   ]
  },
  {
   "cell_type": "code",
   "execution_count": 239,
   "id": "b89a9918",
   "metadata": {},
   "outputs": [],
   "source": [
    "# Одновременное чтение и запись (вложенные контекстные менеджеры)\n",
    "with open('personal_logs.csv', 'w') as personal_logs:\n",
    "    personal_logs.write('id:123 - Moscow\\n')\n",
    "    personal_logs.write('id:124 - Minsk\\n')\n",
    "    personal_logs.write('id:125 - Moscow\\n')\n",
    "with open('personal_logs.csv', 'r') as personal_logs:\n",
    "    with open('new_personal_logs.csv', 'w') as new_personal_logs:\n",
    "        for line in personal_logs:\n",
    "            if 'Moscow' in line:\n",
    "                new_personal_logs.write(line)"
   ]
  },
  {
   "cell_type": "code",
   "execution_count": 260,
   "id": "f1c8c051",
   "metadata": {
    "scrolled": true
   },
   "outputs": [],
   "source": [
    "# Открыть файл для добавления и добавить еще одну строку\n",
    "with open('personal_logs.csv', 'w') as f:\n",
    "    f.write('id:126 - Samara\\n')"
   ]
  },
  {
   "cell_type": "code",
   "execution_count": 264,
   "id": "94cfe5ba",
   "metadata": {},
   "outputs": [
    {
     "name": "stdout",
     "output_type": "stream",
     "text": [
      "['{\"user_id\": \"user_id\", \"category\": \"category\"}\\n', '{\"category\": \"Продукты\", \"user_id\": \"1840e0b9d4\"}\\n', '{\"user_id\": \"4e4f90fcfb\", \"category\": \"Электроника\"}\\n', '{\"user_id\": \"afea8d72fc\", \"category\": \"Электроника\"}\\n', '{\"user_id\": \"373a6055fe\", \"category\": \"Бытовая техника\"}\\n']\n"
     ]
    }
   ],
   "source": [
    "# Формат Json используется в разных ЯП, БД, Api\n",
    "# Представляет собой набор вложенных структур (словарей, списков)\n",
    "with open(\"purchase_log.txt\") as file:\n",
    "    print([next(file) for x in range(5)])\n",
    "# На данном этапе Python не знает, что это словарь"
   ]
  },
  {
   "cell_type": "code",
   "execution_count": 267,
   "id": "b5610b68",
   "metadata": {},
   "outputs": [],
   "source": [
    "# Импорт библиотеки json\n",
    "import json"
   ]
  },
  {
   "cell_type": "code",
   "execution_count": 271,
   "id": "caf359bb",
   "metadata": {},
   "outputs": [],
   "source": [
    "# Получение справки / описания\n",
    "json?\n",
    "??json"
   ]
  },
  {
   "cell_type": "code",
   "execution_count": 280,
   "id": "688afa3a",
   "metadata": {},
   "outputs": [
    {
     "name": "stdout",
     "output_type": "stream",
     "text": [
      "<class 'dict'>\n",
      "{'a': 1, 'b': 2, 'c': 3}\n"
     ]
    }
   ],
   "source": [
    "# Преобразование данных в словарь. Нельзя допускать опечаток (красивые данные)\n",
    "dict_in_str = '{\"a\": 1, \"b\": 2, \"c\": 3}'\n",
    "print(type(json.loads(dict_in_str)))\n",
    "print(json.loads(dict_in_str))"
   ]
  },
  {
   "cell_type": "code",
   "execution_count": 284,
   "id": "9001c8f1",
   "metadata": {},
   "outputs": [
    {
     "data": {
      "text/plain": [
       "3"
      ]
     },
     "execution_count": 284,
     "metadata": {},
     "output_type": "execute_result"
    }
   ],
   "source": [
    "# Преобразование строки в список\n",
    "list_in_str = '[1, 2, 3]'\n",
    "json.loads(list_in_str)\n",
    "json.loads(list_in_str)[-1]"
   ]
  },
  {
   "cell_type": "code",
   "execution_count": 289,
   "id": "9b3f4d00",
   "metadata": {},
   "outputs": [
    {
     "name": "stdout",
     "output_type": "stream",
     "text": [
      "0 {'user_id': 'user_id', 'category': 'category'} <class 'str'>\n",
      "1 {'category': 'Продукты', 'user_id': '1840e0b9d4'} <class 'str'>\n",
      "2 {'user_id': '4e4f90fcfb', 'category': 'Электроника'} <class 'str'>\n",
      "3 {'user_id': 'afea8d72fc', 'category': 'Электроника'} <class 'str'>\n",
      "4 {'user_id': '373a6055fe', 'category': 'Бытовая техника'} <class 'str'>\n",
      "5 {'user_id': '9b2ab046f3', 'category': 'Электроника'} <class 'str'>\n"
     ]
    }
   ],
   "source": [
    "# Преобразование файла с данными json в список словарей\n",
    "with open(\"purchase_log.txt\") as file:\n",
    "    for i, line in enumerate(file):\n",
    "        line = line.strip()\n",
    "        dct = json.loads(line)\n",
    "        print(i, dct, type(line))\n",
    "        i += 1\n",
    "        if i > 5:\n",
    "            break"
   ]
  },
  {
   "cell_type": "code",
   "execution_count": 293,
   "id": "d731b357",
   "metadata": {},
   "outputs": [
    {
     "name": "stdout",
     "output_type": "stream",
     "text": [
      "{'id:': 'df213', 'city': 'Moscow'} <class 'str'>\n"
     ]
    }
   ],
   "source": [
    "# Преобразование из словаря в строку\n",
    "# Формат json в данном случае не получится (другие кавычки)\n",
    "data = {'id:': 'df213', 'city': 'Moscow'}\n",
    "print(str(data), type(str(data)))"
   ]
  },
  {
   "cell_type": "code",
   "execution_count": 294,
   "id": "ba22f0de",
   "metadata": {},
   "outputs": [
    {
     "name": "stdout",
     "output_type": "stream",
     "text": [
      "{\"id:\": \"df213\", \"city\": \"Moscow\"} <class 'str'>\n"
     ]
    }
   ],
   "source": [
    "# Преобразование из словаря в строку\n",
    "# Если стоит задача записать словарь в файл и потом прочитать его как json:\n",
    "print(json.dumps(data), type(json.dumps(data)))"
   ]
  },
  {
   "cell_type": "code",
   "execution_count": 12,
   "id": "bc84e7b4",
   "metadata": {},
   "outputs": [],
   "source": [
    "# Запись объекта сразу в файл как поток байт (модуль pickle)\n",
    "# Это более универсальный способ\n",
    "# Сложные модели нельзя выразить в виде строки, поэтому для их передачи\n",
    "# используют преобразование с помощью модуля pickle\n",
    "import pickle\n",
    "data = {'id:': 'df213', 'city': 'Moscow'}\n",
    "with open('files/data.pickle', 'wb') as f:\n",
    "    pickle.dump(data, f)"
   ]
  },
  {
   "cell_type": "code",
   "execution_count": 11,
   "id": "dbe03d7d",
   "metadata": {},
   "outputs": [
    {
     "name": "stdout",
     "output_type": "stream",
     "text": [
      "{'id:': 'df213', 'city': 'Moscow'}\n"
     ]
    }
   ],
   "source": [
    "# Чтение объекта из файла .pickle\n",
    "with open('files/data.pickle', 'rb') as f:\n",
    "    dict_ = pickle.load(f)\n",
    "print(dict_)"
   ]
  },
  {
   "cell_type": "markdown",
   "id": "dc025792",
   "metadata": {},
   "source": [
    "## Вебинар 1"
   ]
  },
  {
   "cell_type": "code",
   "execution_count": 14,
   "id": "1d117d3e",
   "metadata": {},
   "outputs": [],
   "source": [
    "# Вариант 1 - файл лежит рядом с кодом (в той же папке)\n",
    "f = open('visit_log.csv')"
   ]
  },
  {
   "cell_type": "code",
   "execution_count": 27,
   "id": "3809a2d1",
   "metadata": {
    "scrolled": true
   },
   "outputs": [],
   "source": [
    "# Вариант 2 - файл во вложенной папке (относительный путь)\n",
    "open('files/text.txt')"
   ]
  },
  {
   "cell_type": "code",
   "execution_count": null,
   "id": "47be16db",
   "metadata": {},
   "outputs": [],
   "source": [
    "# Вариант 3 - произвольная папка\n",
    "open('/Users/vladislavshakhmanov/Desktop/example.csv')\n",
    "# r - опция, игнорирующая служебные символы внутри строки\n",
    "# \\ - символ экранирования\n",
    "# проблема - на разных ОС разные слэши (решение - библиотека os)\n",
    "#os.path.join('logs', 'data', 'cards.csv') - сгенерирует корректный путь в любой ОС"
   ]
  },
  {
   "cell_type": "code",
   "execution_count": null,
   "id": "97398110",
   "metadata": {},
   "outputs": [],
   "source": [
    "# Редко, но бывает: если в пути есть латинские буквы или пробелы\n",
    "# Решение - перенести файл в папку без русских букв и пробелов"
   ]
  },
  {
   "cell_type": "markdown",
   "id": "bff7c6db",
   "metadata": {},
   "source": [
    "### Типичная задача на файлы\n",
    "- Есть файл cards.csv\n",
    "- Сколько раз каждая масть встретилась в файле?\n",
    "- А что если файл большой?"
   ]
  },
  {
   "cell_type": "code",
   "execution_count": 57,
   "id": "c7f838ab",
   "metadata": {},
   "outputs": [
    {
     "name": "stdout",
     "output_type": "stream",
     "text": [
      "{'червы': 25020, 'пики': 24933, 'бубны': 24932, 'трефы': 25110, 'Пики': 1, 'крести': 1, 'Трефы': 3} \n",
      " {'червы': 25020, 'пики': 24933, 'бубны': 24932, 'трефы': 25110, 'Пики': 1, 'крести': 1, 'Трефы': 3}\n"
     ]
    }
   ],
   "source": [
    "# Прочитаем первые несколько строк файла и напишем черновик решения\n",
    "f = open('cards.csv')\n",
    "stats = {}\n",
    "stats_2 = {}\n",
    "for i, line in enumerate(f):\n",
    "    line = line.strip().split(',')\n",
    "    \n",
    "    # suit = line[0]\n",
    "    # value = line[1]\n",
    "    suit, _ = line\n",
    "    \n",
    "    # 1 - собрать в список - плохо - список занимает память\n",
    "    # 2 - создать 4 переменных - плохо - не факт, что мастей 4\n",
    "    # 3 - словарь - хорошо - будут учтены все название (правильные и неправильные); \n",
    "        # дальше проще работать со словарем (он получится относительно небольшим)\n",
    "    \n",
    "    # Вариант 1 - проверять, если ли масть в словаре\n",
    "    if suit in stats:\n",
    "        stats[suit] += 1\n",
    "    else: \n",
    "        stats[suit] = 1\n",
    "        \n",
    "    # Вариант 2 - метод .setdefault - если ключ уже есть, то не делает ничего. \n",
    "    # Если нет - то создаст его и добавит указанное значение\n",
    "    \n",
    "    stats_2.setdefault(suit, 0)\n",
    "    stats_2[suit] += 1\n",
    "    \n",
    "    #if i == 9:\n",
    "        #break\n",
    "print(stats, \"\\n\", stats_2)\n",
    "\n",
    "    "
   ]
  },
  {
   "cell_type": "code",
   "execution_count": null,
   "id": "262722d5",
   "metadata": {},
   "outputs": [],
   "source": [
    "# Библиотека csv позволяет считывать строки с запятыми корректно\n",
    "import csv\n",
    "with open('sample.csv') as f:\n",
    "    reader = csv.reader(f, delimiter = ',')\n",
    "    for line in reader:\n",
    "        print(line)"
   ]
  },
  {
   "cell_type": "markdown",
   "id": "fbc4ef9d",
   "metadata": {},
   "source": [
    "### Кодировки"
   ]
  },
  {
   "cell_type": "code",
   "execution_count": 62,
   "id": "beb802f4",
   "metadata": {},
   "outputs": [
    {
     "name": "stdout",
     "output_type": "stream",
     "text": [
      "a: 97\n"
     ]
    },
    {
     "data": {
      "text/plain": [
       "'a'"
      ]
     },
     "execution_count": 62,
     "metadata": {},
     "output_type": "execute_result"
    }
   ],
   "source": [
    "# ASCII\n",
    "# Функция ord() возвращает ASCII код символа\n",
    "print(\"a:\", ord('a'))\n",
    "# Функция ord() возвращает символ по его ASCII коду\n",
    "chr(97)"
   ]
  },
  {
   "cell_type": "code",
   "execution_count": null,
   "id": "3fa31f4f",
   "metadata": {},
   "outputs": [],
   "source": [
    "# Unicode\n",
    "# 1. Параметр encoding:\n",
    "# open('data.csv', encoding = 'utf-8')\n",
    "# utf-8, cp1251\n",
    "# 2. Текстовые редакторы - если открывает некорректно, \n",
    "# то надо поменять настройки кодировки\n",
    "# 3. Excel - импорт текста из внешнего источника"
   ]
  },
  {
   "cell_type": "code",
   "execution_count": null,
   "id": "6f9969e3",
   "metadata": {},
   "outputs": [],
   "source": [
    "# Библиотека chardet - определеяет кодировку файла"
   ]
  },
  {
   "cell_type": "code",
   "execution_count": null,
   "id": "8fe018d4",
   "metadata": {},
   "outputs": [],
   "source": [
    "# Работа с ошибками\n",
    "try:\n",
    "    # Чтение, обработка\n",
    "except: # Можно написать название ошибки\n",
    "    # Что делать в случае ошибки\n",
    "\n",
    "# Если ошибки на другой стороне:\n",
    "if request.status_code == 200:\n",
    "    # Все ок"
   ]
  },
  {
   "cell_type": "markdown",
   "id": "71d580bf",
   "metadata": {},
   "source": [
    "## Домашняя работа №1\n",
    "\n",
    "Никогда не стоит делать поиск по словарю циклом. Это долго и не эффективно.\n",
    "\n",
    "Правильно: if user_id in purchases (пример)"
   ]
  },
  {
   "cell_type": "code",
   "execution_count": 6,
   "id": "40cfbf3d",
   "metadata": {},
   "outputs": [
    {
     "name": "stdout",
     "output_type": "stream",
     "text": [
      "1840e0b9d4 Продукты\n",
      "4e4f90fcfb Электроника\n"
     ]
    }
   ],
   "source": [
    "# Импортирую библиотеку json\n",
    "import json\n",
    "# Открываю файл 'purchase_log.txt'\n",
    "f = open('Homework/purchase_log.txt')\n",
    "# Создаю пустой словарь\n",
    "purchases = {}\n",
    "# Пропускаю первую строку, в которой содержится заголовок\n",
    "f.readline()\n",
    "# Преобразую каждую строку файла в словарь с помощью метода json.loads\n",
    "for i, line in enumerate(f):\n",
    "    line = json.loads(line)\n",
    "    # Записываю в словарь purchases значения, полученное по ключу user_id и category\n",
    "    purchases[line['user_id']] = line['category']\n",
    "\n",
    "# Проверка и демонстрация работы\n",
    "for i, key in enumerate(purchases):\n",
    "    if i == 2:\n",
    "        break\n",
    "    print(key, purchases[key]) "
   ]
  },
  {
   "cell_type": "code",
   "execution_count": 7,
   "id": "91e68152",
   "metadata": {},
   "outputs": [
    {
     "name": "stdout",
     "output_type": "stream",
     "text": [
      "1840e0b9d4, other, Продукты\n",
      "4e4f90fcfb, context, Электроника\n",
      "afea8d72fc, other, Электроника\n"
     ]
    }
   ],
   "source": [
    "# В задаче №2 используется решение задачи №1 (словарь purchases)\n",
    "# Открываю файлы с помощью контекстного менеджера\n",
    "with open('Homework/visit_log.csv') as visit:\n",
    "        with open('Homework/funnel.csv', 'w') as funnel:\n",
    "            # Построчно перебираю файл visit_log.csv\n",
    "            for i, line in enumerate(visit):\n",
    "                line = line.strip().split(',')\n",
    "                # Проверяю наличие user_id из visit_log.csv в словаре purchases\n",
    "                if line[0] in purchases:\n",
    "                    funnel.write(line[0]+ ', ' \n",
    "                                 + line[1] + ', ' \n",
    "                                 + purchases[line[0]] + '\\n')\n",
    "                    # Демонстрирую работу алгоритма на первых 100 строках\n",
    "                    if i < 100:\n",
    "                        print(line[0]+ ', ' + line[1] + ', ' + purchases[line[0]])"
   ]
  }
 ],
 "metadata": {
  "kernelspec": {
   "display_name": "Python 3 (ipykernel)",
   "language": "python",
   "name": "python3"
  },
  "language_info": {
   "codemirror_mode": {
    "name": "ipython",
    "version": 3
   },
   "file_extension": ".py",
   "mimetype": "text/x-python",
   "name": "python",
   "nbconvert_exporter": "python",
   "pygments_lexer": "ipython3",
   "version": "3.11.5"
  }
 },
 "nbformat": 4,
 "nbformat_minor": 5
}
