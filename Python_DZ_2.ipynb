{
 "cells": [
  {
   "cell_type": "markdown",
   "id": "3a06c96c",
   "metadata": {},
   "source": [
    "## Домашняя работа №2"
   ]
  },
  {
   "cell_type": "markdown",
   "id": "0361a2f6",
   "metadata": {},
   "source": [
    "### Задача 1"
   ]
  },
  {
   "cell_type": "code",
   "execution_count": 14,
   "id": "f53dd338",
   "metadata": {},
   "outputs": [
    {
     "name": "stdout",
     "output_type": "stream",
     "text": [
      "moscow_times: 2002-10-02 00:00:00, type: <class 'datetime.datetime'>\n",
      "guardian: 2023-10-11 00:00:00, type: <class 'datetime.datetime'>\n",
      "daily_news: 1977-08-18 00:00:00, type: <class 'datetime.datetime'>\n"
     ]
    }
   ],
   "source": [
    "# Записываю исходные данные в виде строк\n",
    "moscow_times = 'Wednesday, October 2, 2002'\n",
    "guardian = 'Friday, 11.10.23'\n",
    "daily_news = 'Thursday, 18 August 1977'\n",
    "\n",
    "from datetime import datetime\n",
    "\n",
    "# Преобразую сроку moscow_times в формат datetime с помощью метода strptime\n",
    "moscow_times = datetime.strptime(moscow_times, '%A, %B %d, %Y')\n",
    "print(f\"moscow_times: {moscow_times}, type: {type(moscow_times)}\")\n",
    "\n",
    "# Преобразую сроку guardian в формат datetime с помощью метода strptime\n",
    "guardian = datetime.strptime(guardian, '%A, %d.%m.%y')\n",
    "print(f\"guardian: {guardian}, type: {type(guardian)}\")\n",
    "\n",
    "# Преобразую сроку daily_news в формат datetime с помощью метода strptime\n",
    "daily_news = datetime.strptime(daily_news, '%A, %d %B %Y')\n",
    "print(f\"daily_news: {daily_news}, type: {type(daily_news)}\")"
   ]
  },
  {
   "cell_type": "markdown",
   "id": "cdec09cb",
   "metadata": {},
   "source": [
    "### Задача 2"
   ]
  },
  {
   "cell_type": "code",
   "execution_count": 104,
   "id": "49ce1d09",
   "metadata": {},
   "outputs": [
    {
     "name": "stdout",
     "output_type": "stream",
     "text": [
      "2022-01-01 00:00:00\n",
      "2022-01-03 00:00:00\n",
      "['2022-01-01', '2022-01-02']\n",
      "[]\n",
      "[]\n"
     ]
    }
   ],
   "source": [
    "# Решение задачи 2 для случая когда подходящий формат YYYY-MM-DD - единственный\n",
    "from datetime import datetime\n",
    "from datetime import timedelta\n",
    "\n",
    "def date_range(start_date, end_date):\n",
    "    \n",
    "    date_list = []\n",
    "    \n",
    "    # Проверка, что диапазон задан корректно (от меньшего к большему)\n",
    "    if start_date > end_date:\n",
    "        return date_list\n",
    "    \n",
    "    # Попытка преобразовать строки к формату даты\n",
    "    try:\n",
    "        start_date = datetime.strptime(start_date, '%Y-%m-%d')\n",
    "        print(start_date)\n",
    "        end_date = datetime.strptime(end_date, '%Y-%m-%d')\n",
    "        print(end_date)\n",
    "    # Если преобразование не удастся, сработает блок except\n",
    "    except:\n",
    "        return date_list\n",
    "    \n",
    "    # Заполняем список date_list датами из диапазона, конвертированными обратно в строки\n",
    "    date = start_date\n",
    "    while date < end_date:\n",
    "        date_list.append(datetime.strftime(date, '%Y-%m-%d'))\n",
    "        date += timedelta(days = 1)\n",
    "        \n",
    "    return date_list\n",
    "\n",
    "print(date_range('2022-01-01', '2022-01-03'))\n",
    "print(date_range('2022-01-03', '2022-01-01'))\n",
    "print(date_range('2022-02-30', '2022-02-31'))"
   ]
  },
  {
   "cell_type": "code",
   "execution_count": 127,
   "id": "3730829a",
   "metadata": {},
   "outputs": [
    {
     "name": "stdout",
     "output_type": "stream",
     "text": [
      "['2022 01 01', '2022 01 02', '2022 01 03']\n",
      "['2022 01 01', '2022 01 02', '2022 01 03', '2022 01 04']\n",
      "['2022 01 01', '2022 01 02', '2022 01 03', '2022 01 04', '2022 01 05']\n",
      "[]\n",
      "[]\n"
     ]
    }
   ],
   "source": [
    "# Решение задачи 2 для случая когда подоходящих форматов несколько\n",
    "from datetime import datetime\n",
    "from datetime import timedelta\n",
    "\n",
    "def date_range(start_date, end_date):\n",
    "    \n",
    "    date_list = []\n",
    "    # Создаем список допустимых форматов дат\n",
    "    formats_list = ['%Y-%m-%d', '%Y.%m.%d', '%Y %m %d']\n",
    "    \n",
    "    # Проверка на корректность задания диапазона\n",
    "    if start_date > end_date:\n",
    "        return date_list\n",
    "    \n",
    "    # Поиск подходящего формата даты\n",
    "    for format_value in formats_list:\n",
    "        # Попытки преобразовать строки к разным форматам даты\n",
    "        try:\n",
    "            start_date = datetime.strptime(start_date, format_value)\n",
    "            end_date = datetime.strptime(end_date, format_value)\n",
    "        # Если ни один доступный формат даты не подойдет, то выполнится блок except\n",
    "        except:\n",
    "            pass\n",
    "            #format_value = 'No Format'\n",
    "        \n",
    "    # Попытка привести к формату. Если на предыдущем шаги формат был найден, то код\n",
    "    # будет выполняться корректно. Если подходящий формат не найден, \n",
    "    # выполнится блок except\n",
    "    try:\n",
    "        date = start_date\n",
    "        while date <= end_date:\n",
    "            date_list.append(datetime.strftime(date, format_value))\n",
    "            date += timedelta(days = 1)\n",
    "    except:    \n",
    "        return date_list\n",
    "    \n",
    "    return date_list\n",
    "\n",
    "print(date_range('2022.01.01', '2022.01.03'))\n",
    "print(date_range('2022-01-01', '2022-01-04'))\n",
    "print(date_range('2022 01 01', '2022 01 05'))\n",
    "print(date_range('2022-01-03', '2022-01-01'))\n",
    "print(date_range('2022-02-30', '2022-02-31'))"
   ]
  }
 ],
 "metadata": {
  "kernelspec": {
   "display_name": "Python 3 (ipykernel)",
   "language": "python",
   "name": "python3"
  },
  "language_info": {
   "codemirror_mode": {
    "name": "ipython",
    "version": 3
   },
   "file_extension": ".py",
   "mimetype": "text/x-python",
   "name": "python",
   "nbconvert_exporter": "python",
   "pygments_lexer": "ipython3",
   "version": "3.11.5"
  }
 },
 "nbformat": 4,
 "nbformat_minor": 5
}
