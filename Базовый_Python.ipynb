{
 "cells": [
  {
   "cell_type": "markdown",
   "id": "0254c19f",
   "metadata": {},
   "source": [
    "# **Python base**"
   ]
  },
  {
   "cell_type": "markdown",
   "id": "ad81aadc",
   "metadata": {},
   "source": [
    "Цифра - символ для кодирования числа."
   ]
  },
  {
   "cell_type": "markdown",
   "id": "8b098f0b",
   "metadata": {},
   "source": [
    "### Полезные сочетания клавиш в Jupyter:\n",
    "- A - добавить ячейку выше\n",
    "- B - добавить ячейку ниже\n",
    "- С, V - копировать и вставить ячейку\n",
    "- X, V - вырезать и вставить ячейку\n",
    "- D, D или X - удалить ячейку\n",
    "- Command + A - выделить все ячейки\n",
    "- Shift + ↓ - выделить несколько ячеек\n",
    "- Shift + M - объединить ячейки\n",
    "- Shift + Enter - выполнить и перейти к нижней ячейке\n",
    "- Command + Enter - выполнить\n",
    "- M - переключить ячейку в markdown\n",
    "- Y - переключить ячейку в code\n",
    "- Command + S - сохранить файл"
   ]
  },
  {
   "cell_type": "code",
   "execution_count": 25,
   "id": "41ce2ff4",
   "metadata": {},
   "outputs": [],
   "source": [
    "# - символ для написания комменатрия"
   ]
  },
  {
   "cell_type": "code",
   "execution_count": 26,
   "id": "4fe198ec",
   "metadata": {
    "scrolled": true
   },
   "outputs": [
    {
     "name": "stdout",
     "output_type": "stream",
     "text": [
      "Hello world!\n",
      "5\n",
      "Number is: 5\n",
      "Example: 5 + 3 = 8\n"
     ]
    }
   ],
   "source": [
    "# Print - функция для вывода в консоль \n",
    "print(\"Hello world!\")\n",
    "print(5)\n",
    "print(\"Number is:\", 5)\n",
    "print(\"Example:\", 5, \"+\", 3, \"=\", 8)"
   ]
  },
  {
   "cell_type": "code",
   "execution_count": 35,
   "id": "b06b54c8",
   "metadata": {
    "scrolled": true
   },
   "outputs": [
    {
     "name": "stdout",
     "output_type": "stream",
     "text": [
      "1 2 3\n",
      "123\n",
      "1|2|3\n",
      "1<=>2<=>3\n"
     ]
    }
   ],
   "source": [
    "# sep - ключевое слово для модификации разделения символов в строке\n",
    "print(1, 2, 3)\n",
    "print(1, 2, 3, sep=\"\")\n",
    "print(1, 2, 3, sep=\"|\")\n",
    "print(1, 2, 3, sep=\"<=>\")"
   ]
  },
  {
   "cell_type": "code",
   "execution_count": 28,
   "id": "ea6474f9",
   "metadata": {},
   "outputs": [
    {
     "name": "stdout",
     "output_type": "stream",
     "text": [
      "123!1|2|3\n"
     ]
    }
   ],
   "source": [
    "# end - ключевое слово для модификации переноса на новою строку\n",
    "print(1, 2, 3, sep = \"\", end = \"!\")\n",
    "print(1, 2, 3, sep = \"|\")"
   ]
  },
  {
   "cell_type": "code",
   "execution_count": 29,
   "id": "e57face0",
   "metadata": {},
   "outputs": [
    {
     "name": "stdout",
     "output_type": "stream",
     "text": [
      "Это кавычки \"...\" и это тоже '...'\n",
      "Это кавычки \"...\" и это тоже '...'\n"
     ]
    }
   ],
   "source": [
    "# Вывод специальных символов\n",
    "# \"\" и '' эквивалентны\n",
    "print('Это кавычки \"...\"', \"и это тоже '...'\")\n",
    "print(\"Это кавычки \\\"...\\\"\", 'и это тоже \\'...\\'')"
   ]
  },
  {
   "cell_type": "code",
   "execution_count": 30,
   "id": "04bfb509",
   "metadata": {},
   "outputs": [
    {
     "name": "stdout",
     "output_type": "stream",
     "text": [
      "1\t2\t3\n"
     ]
    }
   ],
   "source": [
    "# \\t - символ табуляции (отступа)\n",
    "print(\"1\\t2\\t3\")"
   ]
  },
  {
   "cell_type": "code",
   "execution_count": 51,
   "id": "dc1932d7",
   "metadata": {},
   "outputs": [
    {
     "name": "stdout",
     "output_type": "stream",
     "text": [
      "Пример: 21.5\n",
      "Возведение в степень: 1024\n",
      "Деление: 0.6666666666666666\n",
      "Целочисленное деление: 0\n",
      "Остаток от деления: 2\n"
     ]
    }
   ],
   "source": [
    "# Математический операции внутри print()\n",
    "print(\"Пример:\", 5 * 5 - 5 + 3 / 2) \n",
    "print(\"Возведение в степень:\", 2 ** 10)\n",
    "print(\"Деление:\", 2 / 3)\n",
    "print(\"Целочисленное деление:\", 2 // 3)\n",
    "print(\"Остаток от деления:\", 2 % 3)"
   ]
  },
  {
   "cell_type": "code",
   "execution_count": 65,
   "id": "8732b4ac",
   "metadata": {},
   "outputs": [
    {
     "name": "stdout",
     "output_type": "stream",
     "text": [
      "min: -5\n",
      "max: 15\n",
      "abs: 10\n",
      "pow: 1024\n",
      "round 2\n"
     ]
    }
   ],
   "source": [
    "# Встроенные математические функции\n",
    "print(\"min:\", min(1, 0, 4, -3, 15, -4, -5, 9))\n",
    "print(\"max:\", max(1, 0, 4, -3, 15, -4, -5, 9))\n",
    "print(\"abs:\", abs(-10))\n",
    "print(\"pow:\", pow(2, 10))\n",
    "print(\"round\", round(5 / 3))"
   ]
  },
  {
   "cell_type": "code",
   "execution_count": 69,
   "id": "d1b14952",
   "metadata": {
    "scrolled": true
   },
   "outputs": [
    {
     "name": "stdout",
     "output_type": "stream",
     "text": [
      "-1\n",
      "Введите свой возраст 22\n"
     ]
    },
    {
     "data": {
      "text/plain": [
       "'22'"
      ]
     },
     "execution_count": 69,
     "metadata": {},
     "output_type": "execute_result"
    }
   ],
   "source": [
    "# Получение данных (строки) от пользователя\n",
    "input()\n",
    "# По умолчанию input() принимает строку\n",
    "input(\"Введите свой возраст \")"
   ]
  },
  {
   "cell_type": "code",
   "execution_count": 3,
   "id": "65cd68d4",
   "metadata": {},
   "outputs": [
    {
     "name": "stdout",
     "output_type": "stream",
     "text": [
      "<class 'int'> Значение:  10\n",
      "<class 'str'> Значение:  Hello world\n"
     ]
    }
   ],
   "source": [
    "# x - именнованная ссылка. Ссылается на область памяти, где лежит значение 10\n",
    "x = 10\n",
    "print(type(x), \"Значение: \", x)\n",
    "# Теперь x ссылается на новую область памяти, где лежит строка. Объект 10, оставшийся\n",
    "# без ссылок на него, будет удален из памяти.\n",
    "x = 'Hello world'\n",
    "print(type(x), \"Значение: \", x)"
   ]
  },
  {
   "cell_type": "code",
   "execution_count": 43,
   "id": "52d0cc15",
   "metadata": {},
   "outputs": [],
   "source": [
    "# Переменная - ячейка памяти\n",
    "# Python не является строго типизированным языком\n",
    "# Объявление и инициализация переменной value\n",
    "value_int = 10\n",
    "value_float = 4.346524\n",
    "value_string = \"value = \"\n",
    "value_string_2 = '5'\n",
    "value_bool = True"
   ]
  },
  {
   "cell_type": "code",
   "execution_count": 97,
   "id": "5f36bfd7",
   "metadata": {},
   "outputs": [
    {
     "name": "stdout",
     "output_type": "stream",
     "text": [
      "0 0 0\n"
     ]
    }
   ],
   "source": [
    "# Каскадное присваивание. Всем переменные будет присвоено указанное значение.\n",
    "x = y = z = 0\n",
    "print(x, y, z)\n",
    "\n",
    "# Множественное присваивание. Кортеж имен (переменных) и кортеж значений.\n",
    "x, y, z = 1, 2, 3"
   ]
  },
  {
   "cell_type": "code",
   "execution_count": 44,
   "id": "3d23b75f",
   "metadata": {},
   "outputs": [
    {
     "name": "stdout",
     "output_type": "stream",
     "text": [
      "value = 4.346524\n",
      "value =  19.346524\n"
     ]
    }
   ],
   "source": [
    "# Приведение типов\n",
    "print(value_string + str(value_float))\n",
    "print(value_string, int(value_string_2) + value_int + value_float)"
   ]
  },
  {
   "cell_type": "code",
   "execution_count": 45,
   "id": "c101145f",
   "metadata": {},
   "outputs": [
    {
     "name": "stdout",
     "output_type": "stream",
     "text": [
      "value =  10\n",
      "value =  10\n"
     ]
    },
    {
     "data": {
      "text/plain": [
       "10"
      ]
     },
     "execution_count": 45,
     "metadata": {},
     "output_type": "execute_result"
    }
   ],
   "source": [
    "# Печать значения переменной\n",
    "print(value_string, value_int)\n",
    "\n",
    "# Печать значения переменной\n",
    "print(\"value = \", value_int)\n",
    "\n",
    "# Печать значения переменной\n",
    "value_int"
   ]
  },
  {
   "cell_type": "code",
   "execution_count": 41,
   "id": "9e5050c7",
   "metadata": {},
   "outputs": [],
   "source": [
    "# Удаление переменной\n",
    "del value_int, value_float, value_string, value_bool"
   ]
  },
  {
   "cell_type": "code",
   "execution_count": 109,
   "id": "31b27cd2",
   "metadata": {},
   "outputs": [],
   "source": [
    "# Приоритет операций\n",
    "# 1. Возведение в степень \"**\"\n",
    "# 2. Унарный минус \"-\"\n",
    "# 3. Умножение и деление \"*\", \"/\", \"//\", \"%\"\n",
    "# 4. Сложение и вычетание \"+\", \"-\""
   ]
  },
  {
   "cell_type": "code",
   "execution_count": 110,
   "id": "8b7f6689",
   "metadata": {},
   "outputs": [],
   "source": [
    "# Деление отрицательных чисел\n",
    "# (-12) // 5 = -3\n",
    "# (-12) % 5 = 3\n",
    "# (-11) // 10 = -2\n",
    "# (-11) % 10 = 9"
   ]
  },
  {
   "cell_type": "code",
   "execution_count": 104,
   "id": "51555307",
   "metadata": {
    "scrolled": false
   },
   "outputs": [
    {
     "name": "stdout",
     "output_type": "stream",
     "text": [
      "Введите первое число: 125\n",
      "Введите второе число: 3\n",
      "Сумма (+) =  128 \n",
      "Разность (-) = 122 \n",
      "Произведение (*) = 375 \n",
      "Частное (/) = 41.666666666666664 \n",
      "Возведение в степень (**) = 1953125 \n",
      "Целочисленное деление (//) = 41 \n",
      "Остаток от деление (%) = 2 \n",
      "Извлечение корня = 1\n"
     ]
    }
   ],
   "source": [
    "# Калькулятор\n",
    "num_1 = int(input(\"Введите первое число: \"))\n",
    "num_2 = int(input(\"Введите второе число: \"))\n",
    "print(\"Сумма (+) = \", num_1 + num_2, \"\\nРазность (-) =\", num_1 - num_2,\n",
    "      \"\\nПроизведение (*) =\", num_1 * num_2, \"\\nЧастное (/) =\", num_1 / num_2,\n",
    "      \"\\nВозведение в степень (**) =\", num_1 ** num_2, \"\\nЦелочисленное деление (//) =\", num_1 // num_2,\n",
    "      \"\\nОстаток от деление (%) =\", num_1 % num_2, \"\\nИзвлечение корня =\", num_1 ** (1 / num_2))"
   ]
  },
  {
   "cell_type": "code",
   "execution_count": 108,
   "id": "266418e0",
   "metadata": {},
   "outputs": [
    {
     "name": "stdout",
     "output_type": "stream",
     "text": [
      "8.0\n"
     ]
    }
   ],
   "source": [
    "# Множественная степень a^b^c. В Python выполняется справа налево\n",
    "a = 2\n",
    "b = 9\n",
    "c = 0.5\n",
    "print(a ** b ** c) "
   ]
  },
  {
   "cell_type": "code",
   "execution_count": 56,
   "id": "a21071dc",
   "metadata": {},
   "outputs": [
    {
     "data": {
      "text/plain": [
       "15"
      ]
     },
     "execution_count": 56,
     "metadata": {},
     "output_type": "execute_result"
    }
   ],
   "source": [
    "# Арифметические операции можно записывать сокращенно\n",
    "example = 10\n",
    "example += 5\n",
    "example"
   ]
  },
  {
   "cell_type": "code",
   "execution_count": 57,
   "id": "c6d81f9a",
   "metadata": {},
   "outputs": [
    {
     "name": "stdout",
     "output_type": "stream",
     "text": [
      "HelloHello\n"
     ]
    }
   ],
   "source": [
    "# Можно умножать строки\n",
    "string = \"Hello\" #String\n",
    "print(string * 2)"
   ]
  },
  {
   "cell_type": "code",
   "execution_count": 60,
   "id": "9032ee1e",
   "metadata": {},
   "outputs": [
    {
     "name": "stdout",
     "output_type": "stream",
     "text": [
      "something <class 'str'>\n",
      "5 <class 'int'>\n"
     ]
    }
   ],
   "source": [
    "# При попытке поместить в переменную новый тип данных, имя переменной будет связано с новым объектом другого типа,\n",
    "# а старый объект, оставшийся без ссылок, будет удален (память будет очищена)\n",
    "word = \"something\"\n",
    "print(word, type(word))\n",
    "word = 5\n",
    "print(word, type(word))"
   ]
  },
  {
   "cell_type": "code",
   "execution_count": 71,
   "id": "8219ac9c",
   "metadata": {},
   "outputs": [
    {
     "name": "stdout",
     "output_type": "stream",
     "text": [
      "Введите число: 6\n",
      "Number == 6\n"
     ]
    }
   ],
   "source": [
    "# Условные конструкции (отделение блоков кода обеспечивают отступы)\n",
    "user_data = int(input(\"Введите число: \"))\n",
    "if user_data == 5:\n",
    "    print(\"Number == 5\")\n",
    "elif user_data == 6:\n",
    "    print(\"Number == 6\")\n",
    "else:\n",
    "    print(\"Number != 5, != 6\")"
   ]
  },
  {
   "cell_type": "code",
   "execution_count": null,
   "id": "fb9acf12",
   "metadata": {},
   "outputs": [],
   "source": [
    "# \"=\" - операция присваивания\n",
    "\n",
    "# Операции сравнения: \">\" \"<\", \"==\", \"!=\", \">=\", \"<=\""
   ]
  },
  {
   "cell_type": "code",
   "execution_count": null,
   "id": "6bcf9348",
   "metadata": {},
   "outputs": [],
   "source": [
    "isHappy = True\n",
    "#Более короткая и часто используемая запись\n",
    "if isHappy:\n",
    "    print(\"Happy\")\n",
    "if not isHappy:\n",
    "    print(\"Not happy\")\n",
    "#Более длинная и редко используемая запись\n",
    "if isHappy == True:\n",
    "    print(\"Happy\")\n",
    "if isHappy == false:\n",
    "    print(\"Not happy\")"
   ]
  },
  {
   "cell_type": "code",
   "execution_count": 73,
   "id": "4d396539",
   "metadata": {},
   "outputs": [
    {
     "name": "stdout",
     "output_type": "stream",
     "text": [
      "User is happy or user_data == 10\n"
     ]
    }
   ],
   "source": [
    "# Логические операции\n",
    "user_data = 10\n",
    "isHappy = False\n",
    "# \"and\" - И\n",
    "if isHappy and user_data == 10:\n",
    "    print(\"User is happy and user_data == 10\")\n",
    "# \"or\" - ИЛИ\n",
    "if isHappy or user_data == 10:\n",
    "    print(\"User is happy or user_data == 10\")"
   ]
  },
  {
   "cell_type": "code",
   "execution_count": 80,
   "id": "70179629",
   "metadata": {},
   "outputs": [
    {
     "name": "stdout",
     "output_type": "stream",
     "text": [
      "int\n",
      "int\n"
     ]
    }
   ],
   "source": [
    "# Тернарный оператор\n",
    "data = 10\n",
    "print(\"int\") if type(data) == int else print(\"Another type\")\n",
    "# Аналогичная запись без тернарного оператора\n",
    "\n",
    "if type(data) == int:\n",
    "    print(\"int\")\n",
    "else:\n",
    "    print(\"Another type\")\n",
    "\n"
   ]
  },
  {
   "cell_type": "code",
   "execution_count": null,
   "id": "c37e3df5",
   "metadata": {},
   "outputs": [],
   "source": [
    "# Итерация - однократное выполнение тела цикла\n",
    "# Тело цикла - последовательность операторов, выполняющаяся циклически"
   ]
  },
  {
   "cell_type": "code",
   "execution_count": 118,
   "id": "5a3b2252",
   "metadata": {},
   "outputs": [
    {
     "name": "stdout",
     "output_type": "stream",
     "text": [
      "1\n",
      "25\n",
      "4\n",
      "16\n",
      "9\n"
     ]
    }
   ],
   "source": [
    "# Цикл for. Диапазон можно задать вручную\n",
    "for x in 1, 5, 2, 4, 3:\n",
    "    print(x ** 2)"
   ]
  },
  {
   "cell_type": "code",
   "execution_count": 121,
   "id": "b62f555b",
   "metadata": {
    "scrolled": true
   },
   "outputs": [
    {
     "name": "stdout",
     "output_type": "stream",
     "text": [
      "0\n",
      "1\n",
      "2\n",
      "---\n",
      "1\n",
      "2\n",
      "---\n",
      "1\n",
      "4\n",
      "7\n",
      "---\n",
      "10\n",
      "7\n",
      "4\n"
     ]
    }
   ],
   "source": [
    "# Цикл for. Генератор range (start, stop, step)\n",
    "for i in range(3):\n",
    "    print(i)\n",
    "print(\"---\")\n",
    "for i in range(1, 3):\n",
    "    print(i)\n",
    "print(\"---\")\n",
    "for i in range(1, 10, 3):\n",
    "    print(i)\n",
    "print(\"---\")\n",
    "for i in range(10, 1, -3):\n",
    "    print(i)"
   ]
  },
  {
   "cell_type": "code",
   "execution_count": null,
   "id": "46a037c2",
   "metadata": {},
   "outputs": [],
   "source": []
  },
  {
   "cell_type": "code",
   "execution_count": 112,
   "id": "9320f149",
   "metadata": {},
   "outputs": [
    {
     "name": "stdout",
     "output_type": "stream",
     "text": [
      "5\n",
      "7\n",
      "9\n"
     ]
    }
   ],
   "source": [
    "# Цикл while\n",
    "item = 5\n",
    "while item < 15:\n",
    "    print(item)\n",
    "    item += 2\n",
    "else: # Можно не писать. Сработает после прохождения всех итераций цикла\n",
    "    print(\"All\")"
   ]
  },
  {
   "cell_type": "code",
   "execution_count": 88,
   "id": "2a40d475",
   "metadata": {},
   "outputs": [
    {
     "name": "stdout",
     "output_type": "stream",
     "text": [
      "H\n",
      "e\n",
      "l\n",
      "l\n",
      "o\n",
      " \n",
      "w\n",
      "o\n",
      "r\n",
      "l\n",
      "d\n",
      "!\n"
     ]
    }
   ],
   "source": [
    "# Перебор строк\n",
    "word = \"Hello world!\"\n",
    "for i in word:\n",
    "    print(i)"
   ]
  },
  {
   "cell_type": "code",
   "execution_count": 90,
   "id": "09d60b31",
   "metadata": {},
   "outputs": [
    {
     "name": "stdout",
     "output_type": "stream",
     "text": [
      "Count = 1\n"
     ]
    }
   ],
   "source": [
    "# Поиск символа в строке, определение количества символов\n",
    "word = \"Hello world!\"\n",
    "count = 0\n",
    "for i in word:\n",
    "    if i == \"!\":\n",
    "        count += 1\n",
    "print(\"Count =\", count)"
   ]
  },
  {
   "cell_type": "code",
   "execution_count": 94,
   "id": "be481cc3",
   "metadata": {
    "scrolled": true
   },
   "outputs": [
    {
     "name": "stdout",
     "output_type": "stream",
     "text": [
      "Enter data: sdjkfjw\n",
      "Enter data: 24m54k5k\n",
      "Enter data: $@%&^&#@\n",
      "Enter data: stop\n"
     ]
    }
   ],
   "source": [
    "# Бесконечный цикл\n",
    "isHasCar = True\n",
    "while isHasCar:\n",
    "    if input(\"Enter data: \") == \"stop\":\n",
    "        isHasCar = False"
   ]
  },
  {
   "cell_type": "code",
   "execution_count": 95,
   "id": "361e84b7",
   "metadata": {},
   "outputs": [
    {
     "name": "stdout",
     "output_type": "stream",
     "text": [
      "Enter data: 238592385\n",
      "Enter data: KJKSFJKHFk234\n",
      "Enter data: STOP\n",
      "Enter data: stop\n"
     ]
    }
   ],
   "source": [
    "# Оператор break (выход из бесконечного цикла)\n",
    "isHasCar = True\n",
    "while isHasCar:\n",
    "    if input(\"Enter data: \") == \"stop\":\n",
    "        break"
   ]
  },
  {
   "cell_type": "code",
   "execution_count": 96,
   "id": "23b168aa",
   "metadata": {
    "scrolled": true
   },
   "outputs": [
    {
     "name": "stdout",
     "output_type": "stream",
     "text": [
      "11\n",
      "13\n",
      "15\n",
      "17\n",
      "19\n"
     ]
    }
   ],
   "source": [
    "# Оператор continue (Только нечетные числа)\n",
    "for i in range(10, 21):\n",
    "    if i % 2 == 0:\n",
    "        continue\n",
    "    print(i)"
   ]
  },
  {
   "cell_type": "code",
   "execution_count": null,
   "id": "ef4670d8",
   "metadata": {},
   "outputs": [],
   "source": [
    "# Вложенные циклы\n",
    "x = int(input())\n",
    "while x > 0:\n",
    "    y = x\n",
    "    while y > 0:\n",
    "        print(y)\n",
    "        y -= 1\n",
    "    x -= 1\n",
    "print(\"stop\")\n",
    "   "
   ]
  },
  {
   "cell_type": "code",
   "execution_count": 129,
   "id": "a0eedeec",
   "metadata": {},
   "outputs": [
    {
     "name": "stdout",
     "output_type": "stream",
     "text": [
      "[1, 3.14, 'hello']\n",
      "[False, 3.14, 'hello']\n"
     ]
    }
   ],
   "source": [
    "# Списки\n",
    "nums = [1, 3.14, \"hello\"]\n",
    "nums[0] = False\n",
    "print(nums)"
   ]
  },
  {
   "cell_type": "code",
   "execution_count": 132,
   "id": "7ed628d3",
   "metadata": {},
   "outputs": [
    {
     "name": "stdout",
     "output_type": "stream",
     "text": [
      "[True, False]\n",
      "True False\n"
     ]
    }
   ],
   "source": [
    "# Можно создавать вложенные списки\n",
    "num = [1, 2, [True, False]]\n",
    "# Обращение к последнему элементу массива\n",
    "print(num[-1])\n",
    "print(num[-1][0], num[-1][1])"
   ]
  },
  {
   "cell_type": "code",
   "execution_count": 157,
   "id": "16a0c71c",
   "metadata": {},
   "outputs": [
    {
     "name": "stdout",
     "output_type": "stream",
     "text": [
      "append(100): [5, 2, 7, 100]\n",
      "insert(0, True): [True, 5, 2, 7, 100]\n",
      "extend([3.1, True, False]): [True, 5, 2, 7, 100, 3.1, True, False]\n",
      "sort(): [False, True, True, 2, 3.1, 5, 7, 100]\n",
      "reverse(): [100, 7, 5, 3.1, 2, True, True, False]\n",
      "pop(): [100, 7, 5, 3.1, 2, True, True]\n",
      "pop(0) [7, 5, 3.1, 2, True, True]\n",
      "remove(True) [7, 5, 3.1, 2, True]\n",
      "count(1): 1\n",
      "len(numbers): 5\n"
     ]
    }
   ],
   "source": [
    "# Встроенные функции для работы со списками\n",
    "numbers = [5, 2, 7]\n",
    "\n",
    "# Append. Добавление элемента в конец списка\n",
    "numbers.append(100)\n",
    "print(\"append(100):\", numbers)\n",
    "\n",
    "# Insers. Добавление элемента по индексу\n",
    "numbers.insert(0, True)\n",
    "print(\"insert(0, True):\", numbers)\n",
    "\n",
    "# Extend. Добавление элементов одного списка в другой\n",
    "numbers.extend([3.1, True, False])\n",
    "print(\"extend([3.1, True, False]):\", numbers)\n",
    "\n",
    "# Sort. Сортировка\n",
    "numbers.sort()\n",
    "print(\"sort():\", numbers)\n",
    "\n",
    "# Reverse. Переворачивание списка\n",
    "numbers.reverse()\n",
    "print(\"reverse():\", numbers)\n",
    "\n",
    "# Pop. Удаление элемента списка\n",
    "numbers.pop()\n",
    "print(\"pop():\", numbers)\n",
    "numbers.pop(0)\n",
    "print(\"pop(0)\", numbers)\n",
    "\n",
    "# Remove. Удаление элемента по значению\n",
    "numbers.remove(True)\n",
    "print(\"remove(True)\", numbers)\n",
    "\n",
    "# Count. Подсчет количества элементов\n",
    "print(\"count(1):\", numbers.count(True))\n",
    "\n",
    "# Len. Подсчет длины списка (количество всех элементов)\n",
    "print(\"len(numbers):\", len(numbers))\n",
    "# Clear. Очистка списка"
   ]
  },
  {
   "cell_type": "code",
   "execution_count": 165,
   "id": "4e04e895",
   "metadata": {},
   "outputs": [
    {
     "name": "stdout",
     "output_type": "stream",
     "text": [
      "20\n",
      "40\n",
      "60\n",
      "0\n",
      "2\n",
      "hellohello\n"
     ]
    }
   ],
   "source": [
    "# Перебор списка\n",
    "nums = [10, 20, 30, False, True, \"hello\"]\n",
    "for el in nums:\n",
    "    el *= 2\n",
    "    print(el)"
   ]
  },
  {
   "cell_type": "code",
   "execution_count": 182,
   "id": "c65f5e59",
   "metadata": {},
   "outputs": [
    {
     "name": "stdout",
     "output_type": "stream",
     "text": [
      "Enter length: 3\n",
      "Enter element #1:99\n",
      "Enter element #2:false\n",
      "Enter element #3:2343\n",
      "['99', 'false', '2343']\n"
     ]
    }
   ],
   "source": [
    "# Создание списка с клавиатуры\n",
    "n = int(input(\"Enter length: \"))\n",
    "user_list = []\n",
    "for el in range(n):\n",
    "    string = \"Enter element #\"  + str(el + 1) + \":\"\n",
    "    user_list.append(input(string))\n",
    "    el += 1\n",
    "print(user_list)"
   ]
  },
  {
   "cell_type": "code",
   "execution_count": 188,
   "id": "5c657f04",
   "metadata": {},
   "outputs": [
    {
     "name": "stdout",
     "output_type": "stream",
     "text": [
      "a 2 9\n"
     ]
    }
   ],
   "source": [
    "# Строка - список из символов\n",
    "word = \"Vladislav\"\n",
    "print(word[2], word.count(\"a\"), len(word))"
   ]
  },
  {
   "cell_type": "code",
   "execution_count": 202,
   "id": "94b36b08",
   "metadata": {},
   "outputs": [
    {
     "name": "stdout",
     "output_type": "stream",
     "text": [
      "VLADISLAV\n",
      "False\n",
      "vladislav\n",
      "False\n",
      "Vladislav\n",
      "2\n",
      "['vlad', 'slaV']\n"
     ]
    }
   ],
   "source": [
    "# Методы для работы со строками\n",
    "word = \"vladislaV\"\n",
    "print(word.upper())\n",
    "print(word.isupper())\n",
    "print(word.lower())\n",
    "print(word.islower())\n",
    "print(word.capitalize())\n",
    "print(word.find(\"a\"))"
   ]
  },
  {
   "cell_type": "code",
   "execution_count": 218,
   "id": "67f43106",
   "metadata": {
    "scrolled": false
   },
   "outputs": [
    {
     "name": "stdout",
     "output_type": "stream",
     "text": [
      "['Football', 'Skate', 'Basketball']\n"
     ]
    }
   ],
   "source": [
    "# Каждый элемент списка с большой буквы\n",
    "hobby = ['fooTBall', 'skAte', 'basketbaLL']\n",
    "for i in range(len(hobby)):\n",
    "    hobby[i] = hobby[i].capitalize()\n",
    "print(hobby)\n"
   ]
  },
  {
   "cell_type": "code",
   "execution_count": 228,
   "id": "62c45c60",
   "metadata": {},
   "outputs": [
    {
     "name": "stdout",
     "output_type": "stream",
     "text": [
      "fooTBall, skAte, basketbaLL\n",
      "['fooTBall', ' skAte', ' basketbaLL']\n",
      "fooTBall,  skAte,  basketbaLL\n"
     ]
    }
   ],
   "source": [
    "# Split и Join\n",
    "hobby = \"fooTBall, skAte, basketbaLL\"\n",
    "print(hobby)\n",
    "hobby = hobby.split(',')\n",
    "print(hobby)\n",
    "#result = \", \".join(hobby)\n",
    "print(result)"
   ]
  },
  {
   "cell_type": "code",
   "execution_count": 256,
   "id": "b919a821",
   "metadata": {},
   "outputs": [
    {
     "name": "stdout",
     "output_type": "stream",
     "text": [
      "ball\n",
      "ball\n",
      "Foot\n",
      "Fobl\n",
      "[1, 2, 3, 4, 5]\n",
      "[1, 3, 5, 7, 9]\n",
      "[10, 9, 8, 7, 6, 5, 4, 3, 2, 1]\n"
     ]
    }
   ],
   "source": [
    "# Срез - обращение сразу к нескольким индексам\n",
    "word = 'Football'\n",
    "print(word[4:8])\n",
    "print(word[4:])\n",
    "print(word[:4])\n",
    "print(word[::2])\n",
    "nums = [1, 2, 3, 4, 5, 6, 7, 8, 9, 10]\n",
    "print(nums[:-5])\n",
    "print(nums[::2])\n",
    "print(nums[::-1])"
   ]
  },
  {
   "cell_type": "code",
   "execution_count": 260,
   "id": "fc2e8c19",
   "metadata": {},
   "outputs": [
    {
     "name": "stdout",
     "output_type": "stream",
     "text": [
      "(4, 5) 10\n",
      "1 4\n"
     ]
    }
   ],
   "source": [
    "# Кортежи (tuple). Значения в кортеже нельзя изменять\n",
    "data = (4, 5, 6, 7)\n",
    "data_2 = True, 3.14, 'hello', 10\n",
    "print(data[:2], data_2[-1])\n",
    "print(data.count(5), len(data))"
   ]
  },
  {
   "cell_type": "code",
   "execution_count": 263,
   "id": "c2cdff9b",
   "metadata": {},
   "outputs": [
    {
     "name": "stdout",
     "output_type": "stream",
     "text": [
      "True\n",
      "3.14\n",
      "hello\n",
      "10\n"
     ]
    }
   ],
   "source": [
    "# Перебор кортежа\n",
    "for el in data_2:\n",
    "    print(el)"
   ]
  },
  {
   "cell_type": "code",
   "execution_count": 268,
   "id": "df060410",
   "metadata": {},
   "outputs": [
    {
     "name": "stdout",
     "output_type": "stream",
     "text": [
      "<class 'list'>\n",
      "<class 'tuple'>\n"
     ]
    }
   ],
   "source": [
    "# Преобразование списка в кортеж\n",
    "nums = [5, 7, 8]\n",
    "print(type(nums))\n",
    "nums = tuple(nums)\n",
    "print(type(nums))"
   ]
  },
  {
   "cell_type": "code",
   "execution_count": 269,
   "id": "a7a35eed",
   "metadata": {
    "scrolled": true
   },
   "outputs": [
    {
     "name": "stdout",
     "output_type": "stream",
     "text": [
      "('H', 'e', 'l', 'l', 'o', ' ', 'w', 'o', 'r', 'l', 'd')\n"
     ]
    }
   ],
   "source": [
    "# Преобразование строки в кортеж\n",
    "word = 'Hello world'\n",
    "print(tuple(word))"
   ]
  },
  {
   "cell_type": "code",
   "execution_count": 308,
   "id": "7ebabf83",
   "metadata": {},
   "outputs": [
    {
     "name": "stdout",
     "output_type": "stream",
     "text": [
      "Belarus --- ('China', 'Italy', 'France', 'Ukraine', 'Turkey')\n"
     ]
    }
   ],
   "source": [
    "# Словари [key: value]\n",
    "country = {\"Moscow\": \"Russia\", \n",
    "           \"Minsk\": \"Belarus\", \n",
    "           \"Washington\": \"USA\", \n",
    "           \"Another\": (\"China\", \"Italy\", \"France\", \"Ukraine\", \"Turkey\")}\n",
    "# Ключом или значением может быть кортеж\n",
    "print(country[\"Minsk\"], \"---\", country[\"Another\"])\n",
    "# Еще один способ создания кортежа. Здесь ключом может быть только строка\n",
    "country_2 = dict(code = \"Ru\", name = \"Russia\")"
   ]
  },
  {
   "cell_type": "code",
   "execution_count": 309,
   "id": "1fc39b99",
   "metadata": {
    "scrolled": false
   },
   "outputs": [
    {
     "name": "stdout",
     "output_type": "stream",
     "text": [
      "Moscow -> Russia\n",
      "Minsk -> Belarus\n",
      "Washington -> USA\n",
      "Another -> ('China', 'Italy', 'France', 'Ukraine', 'Turkey')\n",
      "USA\n",
      "('Another', ('China', 'Italy', 'France', 'Ukraine', 'Turkey'))\n",
      "{'Moscow': 'Russia', 'Minsk': 'Belarus'}\n"
     ]
    }
   ],
   "source": [
    "# Перебор словаря\n",
    "for key, value in country.items():\n",
    "    print(key, \"->\", value)\n",
    "print(country.pop(\"Washington\"))\n",
    "print(country.popitem())\n"
   ]
  },
  {
   "cell_type": "code",
   "execution_count": 310,
   "id": "4d4aeaaa",
   "metadata": {},
   "outputs": [
    {
     "name": "stdout",
     "output_type": "stream",
     "text": [
      "dict_keys(['Moscow', 'Minsk'])\n",
      "dict_values(['Russia', 'Belarus'])\n",
      "dict_items([('Moscow', 'Russia'), ('Minsk', 'Belarus')])\n"
     ]
    }
   ],
   "source": [
    "# Получение списка ключей\n",
    "print(country.keys())\n",
    "# Получение списка значений\n",
    "print(country.values())\n",
    "# Получение списка из картежей вида (key, value)\n",
    "print(country.items())"
   ]
  },
  {
   "cell_type": "code",
   "execution_count": 315,
   "id": "061e4d27",
   "metadata": {},
   "outputs": [
    {
     "name": "stdout",
     "output_type": "stream",
     "text": [
      "RUS\n",
      "{'Moscow': 'RUS', 'Minsk': 'Belarus'}\n"
     ]
    }
   ],
   "source": [
    "# Изменение элемента словаря\n",
    "country['Moscow'] = \"RUS\"\n",
    "print(country['Moscow'])\n",
    "print(country)"
   ]
  },
  {
   "cell_type": "code",
   "execution_count": 322,
   "id": "0dbd4f56",
   "metadata": {},
   "outputs": [
    {
     "name": "stdout",
     "output_type": "stream",
     "text": [
      "Arbat street 10\n"
     ]
    }
   ],
   "source": [
    "# Вложенные словари\n",
    "person = {\n",
    "    'user_1': {\n",
    "        'name': 'Vladislav',\n",
    "        'last_name': 'Medvedev',\n",
    "        'address': ['Moscow', 'Arbat street', ('house', 10)]\n",
    "    },\n",
    "    'user_2': {}\n",
    "}\n",
    "print(person['user_1']['address'][1], person['user_1']['address'][2][1])"
   ]
  },
  {
   "cell_type": "code",
   "execution_count": 4,
   "id": "f0988151",
   "metadata": {},
   "outputs": [
    {
     "name": "stdout",
     "output_type": "stream",
     "text": [
      "{'h', 'l', 'o', 'e'}\n",
      "{True, 20, 5, 25, 10, 15}\n",
      "{True, 5, '$#%@', 10, 15, 20, 25, 30, 50}\n",
      "set()\n"
     ]
    }
   ],
   "source": [
    "# Множества set (случайный порядок и уникальные элементы)\n",
    "data = set('hello')\n",
    "print(data)\n",
    "data = {5, 10, 15, 5, 20, 20, 25, True}\n",
    "print(data)\n",
    "data.add(30)\n",
    "data.update([True, 50, 50, 50, '$#%@'])\n",
    "print(data)\n",
    "data.clear()\n",
    "print(data)"
   ]
  },
  {
   "cell_type": "code",
   "execution_count": 340,
   "id": "427751f8",
   "metadata": {},
   "outputs": [
    {
     "name": "stdout",
     "output_type": "stream",
     "text": [
      "<class 'list'>\n",
      "<class 'set'>\n"
     ]
    }
   ],
   "source": [
    "# Преобразование списка в множество\n",
    "nums = [1, 2, 3, 3, 2, 1, 4, 4, 5]\n",
    "print(type(nums))\n",
    "nums = set(nums)\n",
    "print(type(nums))"
   ]
  },
  {
   "cell_type": "code",
   "execution_count": 356,
   "id": "259c18cc",
   "metadata": {},
   "outputs": [
    {
     "name": "stdout",
     "output_type": "stream",
     "text": [
      "frozenset({False, True, 2, 3, 4, 5})\n"
     ]
    }
   ],
   "source": [
    "# frozenset (множество, в котором нельзя изменять элементы)\n",
    "nums = frozenset([True, False, 5, 5, 4, 4, 3, 3, 2, 1])\n",
    "print(nums)"
   ]
  },
  {
   "cell_type": "code",
   "execution_count": 361,
   "id": "9cdb5bfd",
   "metadata": {},
   "outputs": [
    {
     "name": "stdout",
     "output_type": "stream",
     "text": [
      "Value = 10\n"
     ]
    }
   ],
   "source": [
    "# Функции\n",
    "def function(value):\n",
    "    print(\"Value =\", value)\n",
    "function(10)"
   ]
  },
  {
   "cell_type": "code",
   "execution_count": 370,
   "id": "66f745f8",
   "metadata": {
    "scrolled": true
   },
   "outputs": [
    {
     "name": "stdout",
     "output_type": "stream",
     "text": [
      "Result = 3\n",
      "Result = Hello!\n",
      "Result = 1\n"
     ]
    }
   ],
   "source": [
    "# Функция с параметрами на вход\n",
    "def function(a, b):\n",
    "    print(\"Result =\", a+b)\n",
    "function(1, 2)\n",
    "function(\"Hel\", \"lo!\")\n",
    "function(True, False)"
   ]
  },
  {
   "cell_type": "code",
   "execution_count": 371,
   "id": "98abf8a6",
   "metadata": {},
   "outputs": [
    {
     "name": "stdout",
     "output_type": "stream",
     "text": [
      "60\n"
     ]
    }
   ],
   "source": [
    "# Функция может возвращать значение\n",
    "def function(a, b, c):\n",
    "    return a + b + c\n",
    "print(function(10, 20, 30))"
   ]
  },
  {
   "cell_type": "code",
   "execution_count": 386,
   "id": "66ba47fe",
   "metadata": {},
   "outputs": [
    {
     "name": "stdout",
     "output_type": "stream",
     "text": [
      "15\n",
      "15\n"
     ]
    }
   ],
   "source": [
    "# Поиск минимального элемента списка\n",
    "nums = [100, 25, 15]\n",
    "def min_foo():\n",
    "    result = nums[0]\n",
    "    for item in nums:\n",
    "        if item < result:\n",
    "            result = item\n",
    "    print(result)\n",
    "min_foo()\n",
    "# Встроенная функция min\n",
    "print(min(nums))"
   ]
  },
  {
   "cell_type": "code",
   "execution_count": 388,
   "id": "95cfe395",
   "metadata": {
    "scrolled": true
   },
   "outputs": [
    {
     "name": "stdout",
     "output_type": "stream",
     "text": [
      "10\n"
     ]
    }
   ],
   "source": [
    "# lambda функции (анонимная)\n",
    "func = lambda x, y: x * y\n",
    "print(func(5, 2))"
   ]
  },
  {
   "cell_type": "code",
   "execution_count": 397,
   "id": "243ec302",
   "metadata": {},
   "outputs": [],
   "source": [
    "# Работа с файлами (write)\n",
    "file = open('files/text.txt', 'w')\n",
    "file.write('hello world\\n')\n",
    "file.write('@R$#&')\n",
    "file.close()"
   ]
  },
  {
   "cell_type": "code",
   "execution_count": 398,
   "id": "7b443d3d",
   "metadata": {},
   "outputs": [],
   "source": [
    "# Работа с файлами (append)\n",
    "file = open('files/text.txt', 'a')\n",
    "file.write(' - information\\n')\n",
    "file.close()"
   ]
  },
  {
   "cell_type": "code",
   "execution_count": 401,
   "id": "985841e3",
   "metadata": {},
   "outputs": [
    {
     "name": "stdout",
     "output_type": "stream",
     "text": [
      "Enter your text: id:2935423\n"
     ]
    }
   ],
   "source": [
    "# Работа с файлам из консоли\n",
    "data = input(\"Enter your text: \")\n",
    "file = open('files/text.txt', 'a')\n",
    "file.write(data + \"\\n\")\n",
    "file.close()"
   ]
  },
  {
   "cell_type": "code",
   "execution_count": 404,
   "id": "71ee9795",
   "metadata": {},
   "outputs": [
    {
     "name": "stdout",
     "output_type": "stream",
     "text": [
      "hello\n",
      " world\n",
      "@R$#& - information\n",
      "id: 238452384\n",
      "id:39245239453\n",
      "id:2935423\n",
      "\n"
     ]
    }
   ],
   "source": [
    "# Работа с файлами (read)\n",
    "file = open('files/text.txt', 'r')\n",
    "print(file.read(5))\n",
    "print(file.read())\n",
    "file.close()"
   ]
  },
  {
   "cell_type": "code",
   "execution_count": 406,
   "id": "c8720fa7",
   "metadata": {},
   "outputs": [
    {
     "name": "stdout",
     "output_type": "stream",
     "text": [
      "hello world\n",
      "@R$#& - information\n",
      "id: 238452384\n",
      "id:39245239453\n",
      "id:2935423\n"
     ]
    }
   ],
   "source": [
    "# Построчное чтение файла\n",
    "file = open('files/text.txt', 'r')\n",
    "for line in file:\n",
    "    print(line, end = \"\")\n",
    "file.close()"
   ]
  },
  {
   "cell_type": "code",
   "execution_count": 412,
   "id": "923a7b63",
   "metadata": {},
   "outputs": [
    {
     "name": "stdout",
     "output_type": "stream",
     "text": [
      "Введите число: ывп\n",
      "Неверный формат числа\n"
     ]
    }
   ],
   "source": [
    "# Обработка исключений (ошибок)\n",
    "try:\n",
    "    x = int(input(\"Введите число: \"))\n",
    "    print(x * 2)\n",
    "except ValueError:\n",
    "    print(\"Неверный формат числа\")\n"
   ]
  },
  {
   "cell_type": "code",
   "execution_count": 417,
   "id": "16fef953",
   "metadata": {},
   "outputs": [
    {
     "name": "stdout",
     "output_type": "stream",
     "text": [
      "На ноль делить нельзя\n",
      "finally\n"
     ]
    }
   ],
   "source": [
    "# finally сработает в любом случае\n",
    "# else сработает если выполнился блок try\n",
    "try:\n",
    "    x = 5 / 0\n",
    "except ZeroDivisionError:\n",
    "    print(\"На ноль делить нельзя\")\n",
    "else:\n",
    "    print(\"else\")\n",
    "finally: \n",
    "    print(\"finally\")"
   ]
  },
  {
   "cell_type": "code",
   "execution_count": 420,
   "id": "2c37aa66",
   "metadata": {
    "scrolled": true
   },
   "outputs": [
    {
     "name": "stdout",
     "output_type": "stream",
     "text": [
      "hello world\n",
      "@R$#& - information\n",
      "id: 238452384\n",
      "id:39245239453\n",
      "id:2935423\n",
      "\n"
     ]
    }
   ],
   "source": [
    "# Менеджер with ... as (закрывает файл автоматически после выхода из скоупа)\n",
    "with open('files/text.txt', 'r', encoding = 'utf-8') as file:\n",
    "    print(file.read())\n",
    "    file.close()\n"
   ]
  },
  {
   "cell_type": "code",
   "execution_count": 421,
   "id": "39be59b1",
   "metadata": {},
   "outputs": [
    {
     "name": "stdout",
     "output_type": "stream",
     "text": [
      "hello\n"
     ]
    }
   ],
   "source": [
    "# Работа с модулями (добавляют новый функционал)\n",
    "# Можно создать самому, использовать встроенный или сторонние\n",
    "import time\n",
    "time.sleep(3)\n",
    "print(\"hello\")"
   ]
  },
  {
   "cell_type": "code",
   "execution_count": 427,
   "id": "517f1fca",
   "metadata": {},
   "outputs": [
    {
     "name": "stdout",
     "output_type": "stream",
     "text": [
      "17:01:26.422673\n",
      "17\n"
     ]
    }
   ],
   "source": [
    "# Импортирование модуля и создание псевдонима\n",
    "import datetime as dt\n",
    "print(dt.datetime.now().time())\n",
    "print(dt.datetime.now().hour)"
   ]
  },
  {
   "cell_type": "code",
   "execution_count": 432,
   "id": "d59ad98e",
   "metadata": {},
   "outputs": [
    {
     "name": "stdout",
     "output_type": "stream",
     "text": [
      "['/Users/vladislavshakhmanov/Python Advanced', '/Users/vladislavshakhmanov/anaconda3/lib/python311.zip', '/Users/vladislavshakhmanov/anaconda3/lib/python3.11', '/Users/vladislavshakhmanov/anaconda3/lib/python3.11/lib-dynload', '', '/Users/vladislavshakhmanov/anaconda3/lib/python3.11/site-packages', '/Users/vladislavshakhmanov/anaconda3/lib/python3.11/site-packages/aeosa']\n",
      "posix\n",
      "Darwin\n"
     ]
    }
   ],
   "source": [
    "# Информация о пользователе (sys, os)\n",
    "import datetime as dt, sys, os, platform\n",
    "print(sys.path)\n",
    "print(os.name)\n",
    "print(platform.system())"
   ]
  },
  {
   "cell_type": "code",
   "execution_count": 439,
   "id": "8313c70f",
   "metadata": {},
   "outputs": [
    {
     "name": "stdout",
     "output_type": "stream",
     "text": [
      "3.0 4.0 1.7320508075688772\n"
     ]
    }
   ],
   "source": [
    "# Импорт конкретной функции, а не модуля целиком\n",
    "from math import sqrt\n",
    "print(sqrt(9), sqrt(16), (sqrt(3)))\n"
   ]
  },
  {
   "cell_type": "code",
   "execution_count": 441,
   "id": "d896217f",
   "metadata": {},
   "outputs": [
    {
     "name": "stdout",
     "output_type": "stream",
     "text": [
      "Requirement already satisfied: cowsay in /Users/vladislavshakhmanov/anaconda3/lib/python3.11/site-packages (6.1)\n",
      "Note: you may need to restart the kernel to use updated packages.\n"
     ]
    }
   ],
   "source": [
    "%pip install cowsay"
   ]
  },
  {
   "cell_type": "code",
   "execution_count": 31,
   "id": "b3a1298c",
   "metadata": {},
   "outputs": [
    {
     "name": "stdout",
     "output_type": "stream",
     "text": [
      "  _____________\n",
      " /             \\\n",
      "| Привет, АЛЛА! |\n",
      "| I love you!   |\n",
      " \\             /\n",
      "  =============\n",
      "             \\\n",
      "              \\\n",
      "                ^__^\n",
      "                (oo)\\_______\n",
      "                (__)\\       )\\/\\\n",
      "                    ||----w |\n",
      "                    ||     ||\n"
     ]
    }
   ],
   "source": [
    "import cowsay as cow\n",
    "cow.cow(\"Привет, АЛЛА!\\nI love you!\")"
   ]
  },
  {
   "cell_type": "code",
   "execution_count": 20,
   "id": "40c4e65b",
   "metadata": {},
   "outputs": [
    {
     "name": "stdout",
     "output_type": "stream",
     "text": [
      "3 2\n"
     ]
    }
   ],
   "source": [
    "# Основы ООП\n",
    "class Cat:\n",
    "# Поля - переменные внутри класса\n",
    "    name = None\n",
    "    age = None\n",
    "    isHappy = None\n",
    "# Метод - функция внутри класса\n",
    "    def set_data(self, name, age, isHappy):\n",
    "        self.name = name\n",
    "        self.age = age\n",
    "        self.isHappy = isHappy\n",
    "    \n",
    "barsik = Cat()\n",
    "barsik.name = \"Barsik\"\n",
    "barsik.age = 3\n",
    "barsik.isHappy = True\n",
    "\n",
    "jopen = Cat()\n",
    "jopen.set_data(\"Jopen\", 2, False)\n",
    "\n",
    "print(barsik.age, jopen.age)"
   ]
  },
  {
   "cell_type": "code",
   "execution_count": 19,
   "id": "eec0444a",
   "metadata": {},
   "outputs": [
    {
     "name": "stdout",
     "output_type": "stream",
     "text": [
      "10 1\n"
     ]
    }
   ],
   "source": [
    "# Конструкторы\n",
    "class Dog:\n",
    "    name = None\n",
    "    age = None\n",
    "    isHappy = None\n",
    "    \n",
    "    def __init__(self, name, age, isHappy):\n",
    "            \n",
    "muhtar = Dog(\"Muhtar\", 10, True)\n",
    "rex = Dog(\"Rex\", 1, True)\n",
    "\n",
    "print(muhtar.age, rex.age)\n"
   ]
  },
  {
   "cell_type": "code",
   "execution_count": 28,
   "id": "83ab6d31",
   "metadata": {},
   "outputs": [
    {
     "name": "stdout",
     "output_type": "stream",
     "text": [
      "6\n",
      "2\n",
      "100\n"
     ]
    }
   ],
   "source": [
    "# Переопределение методов. Значения по умолчанию\n",
    "def foo(x = 1, y = 1, z = 1):\n",
    "    return x * y * z\n",
    "print(foo(1, 2, 3))\n",
    "print(foo(1, 2))\n",
    "print(foo(z = 100))"
   ]
  },
  {
   "cell_type": "code",
   "execution_count": 56,
   "id": "2590c2b6",
   "metadata": {},
   "outputs": [
    {
     "name": "stdout",
     "output_type": "stream",
     "text": [
      "Year: 2000 City: Moscow\n",
      "Year: 1978 City: Moscow Profile: Math\n",
      "Year: 1996 City: Moscow Profile: Physics\n"
     ]
    }
   ],
   "source": [
    "# Наследование. Может быть много дочерних классов, но только один родительский\n",
    "# Класс наследник наследует поля, методы и конструкторы класса родителя\n",
    "# Класс наследник может быть родителем для другого класса и так далее\n",
    "\n",
    "class Building:\n",
    "    \n",
    "    year = None\n",
    "    city = None\n",
    "    \n",
    "    def __init__(self, year, city):\n",
    "        self.year = year\n",
    "        self.city = city\n",
    "    \n",
    "    # Полиморфизм\n",
    "    def get_info(self):\n",
    "        print(\"Year:\", self.year, \"City:\", self.city)\n",
    "        \n",
    "house = Building(2000, 'Moscow')\n",
    "house.get_info()\n",
    "\n",
    "\n",
    "class School(Building):\n",
    "    \n",
    "    profile = None\n",
    "    \n",
    "    def __init__(self, profile, year, city):\n",
    "        self.profile = profile\n",
    "        super(School, self).__init__(year, city)\n",
    "    \n",
    "    # Полиморфизм - переписывание метода\n",
    "    def get_info(self):\n",
    "        print(\"Year:\", self.year, \"City:\", self.city, \"Profile:\", self.profile)\n",
    "        \n",
    "school = School('Math', 1978, 'Moscow')\n",
    "school.get_info()\n",
    "\n",
    "\n",
    "class SpecialSchool(School):\n",
    "    pass\n",
    "\n",
    "school_1511 = SpecialSchool(\"Physics\", 1996, 'Moscow')\n",
    "school_1511.get_info()"
   ]
  },
  {
   "cell_type": "code",
   "execution_count": 61,
   "id": "87156039",
   "metadata": {},
   "outputs": [
    {
     "name": "stdout",
     "output_type": "stream",
     "text": [
      "Неверный URL\n"
     ]
    }
   ],
   "source": [
    "import webbrowser\n",
    "# Декораторы\n",
    "def validator(func):\n",
    "    def wrapper(url):\n",
    "        if \".\" in url:\n",
    "            func(url)\n",
    "        else:\n",
    "            print(\"Неверный URL\")\n",
    "    return wrapper\n",
    "\n",
    "@validator\n",
    "def open_url(url):\n",
    "    webbrowser.open(url)\n",
    "open_url(\"https://itprogercom\")"
   ]
  },
  {
   "cell_type": "code",
   "execution_count": null,
   "id": "e23efdd3",
   "metadata": {},
   "outputs": [],
   "source": []
  }
 ],
 "metadata": {
  "kernelspec": {
   "display_name": "Python 3 (ipykernel)",
   "language": "python",
   "name": "python3"
  },
  "language_info": {
   "codemirror_mode": {
    "name": "ipython",
    "version": 3
   },
   "file_extension": ".py",
   "mimetype": "text/x-python",
   "name": "python",
   "nbconvert_exporter": "python",
   "pygments_lexer": "ipython3",
   "version": "3.11.5"
  }
 },
 "nbformat": 4,
 "nbformat_minor": 5
}
