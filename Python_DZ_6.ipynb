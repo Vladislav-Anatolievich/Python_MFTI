{
 "cells": [
  {
   "cell_type": "markdown",
   "id": "95b7ce65",
   "metadata": {},
   "source": [
    "## Домашняя работа 6"
   ]
  },
  {
   "cell_type": "markdown",
   "id": "acedc065",
   "metadata": {},
   "source": [
    "### Задача 1"
   ]
  },
  {
   "cell_type": "code",
   "execution_count": 1,
   "id": "75d6caff",
   "metadata": {},
   "outputs": [],
   "source": [
    "import pandas as pd"
   ]
  },
  {
   "cell_type": "code",
   "execution_count": 36,
   "id": "6b02a5a6",
   "metadata": {},
   "outputs": [],
   "source": [
    "df = pd.read_csv('ratings.csv')"
   ]
  },
  {
   "cell_type": "code",
   "execution_count": 64,
   "id": "4c1ad887",
   "metadata": {},
   "outputs": [
    {
     "name": "stdout",
     "output_type": "stream",
     "text": [
      "<class 'pandas.core.frame.DataFrame'>\n",
      "RangeIndex: 25000095 entries, 0 to 25000094\n",
      "Data columns (total 4 columns):\n",
      " #   Column     Dtype  \n",
      "---  ------     -----  \n",
      " 0   userId     int64  \n",
      " 1   movieId    int64  \n",
      " 2   rating     float64\n",
      " 3   timestamp  int64  \n",
      "dtypes: float64(1), int64(3)\n",
      "memory usage: 762.9 MB\n"
     ]
    }
   ],
   "source": [
    "df.info()"
   ]
  },
  {
   "cell_type": "code",
   "execution_count": 72,
   "id": "ba4418a9",
   "metadata": {},
   "outputs": [],
   "source": [
    "def rate_func(value):\n",
    "    if value <= 2:\n",
    "        return 'низкий рейтинг'\n",
    "    if value > 2 and value <= 4:\n",
    "        return 'средний рейтинг'\n",
    "    if value > 4:\n",
    "        return 'высокий рейтинг'\n",
    "    return 'none'"
   ]
  },
  {
   "cell_type": "code",
   "execution_count": 73,
   "id": "46d632fd",
   "metadata": {
    "scrolled": true
   },
   "outputs": [
    {
     "name": "stdout",
     "output_type": "stream",
     "text": [
      "CPU times: user 2.13 s, sys: 517 ms, total: 2.65 s\n",
      "Wall time: 2.91 s\n"
     ]
    }
   ],
   "source": [
    "%%time\n",
    "df['class'] = df['rating'].apply(rate_func)"
   ]
  },
  {
   "cell_type": "code",
   "execution_count": 69,
   "id": "0d8af544",
   "metadata": {},
   "outputs": [
    {
     "data": {
      "text/html": [
       "<div>\n",
       "<style scoped>\n",
       "    .dataframe tbody tr th:only-of-type {\n",
       "        vertical-align: middle;\n",
       "    }\n",
       "\n",
       "    .dataframe tbody tr th {\n",
       "        vertical-align: top;\n",
       "    }\n",
       "\n",
       "    .dataframe thead th {\n",
       "        text-align: right;\n",
       "    }\n",
       "</style>\n",
       "<table border=\"1\" class=\"dataframe\">\n",
       "  <thead>\n",
       "    <tr style=\"text-align: right;\">\n",
       "      <th></th>\n",
       "      <th>userId</th>\n",
       "      <th>movieId</th>\n",
       "      <th>rating</th>\n",
       "      <th>timestamp</th>\n",
       "      <th>class</th>\n",
       "    </tr>\n",
       "  </thead>\n",
       "  <tbody>\n",
       "    <tr>\n",
       "      <th>0</th>\n",
       "      <td>1</td>\n",
       "      <td>296</td>\n",
       "      <td>5.0</td>\n",
       "      <td>1147880044</td>\n",
       "      <td>высокий рейтинг</td>\n",
       "    </tr>\n",
       "    <tr>\n",
       "      <th>1</th>\n",
       "      <td>1</td>\n",
       "      <td>306</td>\n",
       "      <td>3.5</td>\n",
       "      <td>1147868817</td>\n",
       "      <td>средний рейтинг</td>\n",
       "    </tr>\n",
       "    <tr>\n",
       "      <th>2</th>\n",
       "      <td>1</td>\n",
       "      <td>307</td>\n",
       "      <td>5.0</td>\n",
       "      <td>1147868828</td>\n",
       "      <td>высокий рейтинг</td>\n",
       "    </tr>\n",
       "    <tr>\n",
       "      <th>3</th>\n",
       "      <td>1</td>\n",
       "      <td>665</td>\n",
       "      <td>5.0</td>\n",
       "      <td>1147878820</td>\n",
       "      <td>высокий рейтинг</td>\n",
       "    </tr>\n",
       "    <tr>\n",
       "      <th>4</th>\n",
       "      <td>1</td>\n",
       "      <td>899</td>\n",
       "      <td>3.5</td>\n",
       "      <td>1147868510</td>\n",
       "      <td>средний рейтинг</td>\n",
       "    </tr>\n",
       "    <tr>\n",
       "      <th>...</th>\n",
       "      <td>...</td>\n",
       "      <td>...</td>\n",
       "      <td>...</td>\n",
       "      <td>...</td>\n",
       "      <td>...</td>\n",
       "    </tr>\n",
       "    <tr>\n",
       "      <th>25000090</th>\n",
       "      <td>162541</td>\n",
       "      <td>50872</td>\n",
       "      <td>4.5</td>\n",
       "      <td>1240953372</td>\n",
       "      <td>высокий рейтинг</td>\n",
       "    </tr>\n",
       "    <tr>\n",
       "      <th>25000091</th>\n",
       "      <td>162541</td>\n",
       "      <td>55768</td>\n",
       "      <td>2.5</td>\n",
       "      <td>1240951998</td>\n",
       "      <td>средний рейтинг</td>\n",
       "    </tr>\n",
       "    <tr>\n",
       "      <th>25000092</th>\n",
       "      <td>162541</td>\n",
       "      <td>56176</td>\n",
       "      <td>2.0</td>\n",
       "      <td>1240950697</td>\n",
       "      <td>низкий рейтинг</td>\n",
       "    </tr>\n",
       "    <tr>\n",
       "      <th>25000093</th>\n",
       "      <td>162541</td>\n",
       "      <td>58559</td>\n",
       "      <td>4.0</td>\n",
       "      <td>1240953434</td>\n",
       "      <td>средний рейтинг</td>\n",
       "    </tr>\n",
       "    <tr>\n",
       "      <th>25000094</th>\n",
       "      <td>162541</td>\n",
       "      <td>63876</td>\n",
       "      <td>5.0</td>\n",
       "      <td>1240952515</td>\n",
       "      <td>высокий рейтинг</td>\n",
       "    </tr>\n",
       "  </tbody>\n",
       "</table>\n",
       "<p>25000095 rows × 5 columns</p>\n",
       "</div>"
      ],
      "text/plain": [
       "          userId  movieId  rating   timestamp            class\n",
       "0              1      296     5.0  1147880044  высокий рейтинг\n",
       "1              1      306     3.5  1147868817  средний рейтинг\n",
       "2              1      307     5.0  1147868828  высокий рейтинг\n",
       "3              1      665     5.0  1147878820  высокий рейтинг\n",
       "4              1      899     3.5  1147868510  средний рейтинг\n",
       "...          ...      ...     ...         ...              ...\n",
       "25000090  162541    50872     4.5  1240953372  высокий рейтинг\n",
       "25000091  162541    55768     2.5  1240951998  средний рейтинг\n",
       "25000092  162541    56176     2.0  1240950697   низкий рейтинг\n",
       "25000093  162541    58559     4.0  1240953434  средний рейтинг\n",
       "25000094  162541    63876     5.0  1240952515  высокий рейтинг\n",
       "\n",
       "[25000095 rows x 5 columns]"
      ]
     },
     "execution_count": 69,
     "metadata": {},
     "output_type": "execute_result"
    }
   ],
   "source": [
    "df"
   ]
  },
  {
   "cell_type": "markdown",
   "id": "a346fd30",
   "metadata": {},
   "source": [
    "### Задача 2"
   ]
  },
  {
   "cell_type": "code",
   "execution_count": 70,
   "id": "5979626d",
   "metadata": {},
   "outputs": [],
   "source": [
    "key_words = pd.read_csv('keywords.csv')"
   ]
  },
  {
   "cell_type": "code",
   "execution_count": 71,
   "id": "06383c5f",
   "metadata": {
    "scrolled": false
   },
   "outputs": [
    {
     "data": {
      "text/html": [
       "<div>\n",
       "<style scoped>\n",
       "    .dataframe tbody tr th:only-of-type {\n",
       "        vertical-align: middle;\n",
       "    }\n",
       "\n",
       "    .dataframe tbody tr th {\n",
       "        vertical-align: top;\n",
       "    }\n",
       "\n",
       "    .dataframe thead th {\n",
       "        text-align: right;\n",
       "    }\n",
       "</style>\n",
       "<table border=\"1\" class=\"dataframe\">\n",
       "  <thead>\n",
       "    <tr style=\"text-align: right;\">\n",
       "      <th></th>\n",
       "      <th>keyword</th>\n",
       "      <th>shows</th>\n",
       "    </tr>\n",
       "  </thead>\n",
       "  <tbody>\n",
       "    <tr>\n",
       "      <th>0</th>\n",
       "      <td>вк</td>\n",
       "      <td>64292779</td>\n",
       "    </tr>\n",
       "    <tr>\n",
       "      <th>1</th>\n",
       "      <td>одноклассники</td>\n",
       "      <td>63810309</td>\n",
       "    </tr>\n",
       "    <tr>\n",
       "      <th>2</th>\n",
       "      <td>порно</td>\n",
       "      <td>41747114</td>\n",
       "    </tr>\n",
       "    <tr>\n",
       "      <th>3</th>\n",
       "      <td>ютуб</td>\n",
       "      <td>39995567</td>\n",
       "    </tr>\n",
       "    <tr>\n",
       "      <th>4</th>\n",
       "      <td>вконтакте</td>\n",
       "      <td>21014195</td>\n",
       "    </tr>\n",
       "  </tbody>\n",
       "</table>\n",
       "</div>"
      ],
      "text/plain": [
       "         keyword     shows\n",
       "0             вк  64292779\n",
       "1  одноклассники  63810309\n",
       "2          порно  41747114\n",
       "3           ютуб  39995567\n",
       "4      вконтакте  21014195"
      ]
     },
     "execution_count": 71,
     "metadata": {},
     "output_type": "execute_result"
    }
   ],
   "source": [
    "key_words.head()"
   ]
  },
  {
   "cell_type": "code",
   "execution_count": 106,
   "id": "cccfb875",
   "metadata": {},
   "outputs": [
    {
     "name": "stdout",
     "output_type": "stream",
     "text": [
      "<class 'pandas.core.frame.DataFrame'>\n",
      "RangeIndex: 100000 entries, 0 to 99999\n",
      "Data columns (total 3 columns):\n",
      " #   Column   Non-Null Count   Dtype \n",
      "---  ------   --------------   ----- \n",
      " 0   keyword  100000 non-null  object\n",
      " 1   shows    100000 non-null  int64 \n",
      " 2   region   100000 non-null  object\n",
      "dtypes: int64(1), object(2)\n",
      "memory usage: 2.3+ MB\n"
     ]
    }
   ],
   "source": [
    "key_words.info()"
   ]
  },
  {
   "cell_type": "code",
   "execution_count": 102,
   "id": "8c6dc9d9",
   "metadata": {},
   "outputs": [],
   "source": [
    "geo_data = {\n",
    "    'Центр': ['москва', 'тула', 'ярославль'],\n",
    "    'Северо-Запад': ['петербург', 'псков', 'мурманск'],\n",
    "    'Дальний Восток': ['владивосток', 'сахалин', 'хабаровск']\n",
    "}"
   ]
  },
  {
   "cell_type": "code",
   "execution_count": 107,
   "id": "41cee70e",
   "metadata": {},
   "outputs": [],
   "source": [
    "def geo_func(value):\n",
    "    if ('москва' or 'тула' or 'ярославль') in value:\n",
    "        return 'Центр'\n",
    "    if ('петербург' or 'псков' or 'мурманск') in value:\n",
    "        return 'Северо-Запад'\n",
    "    if ('владивосток' or 'сахалин' or 'хабаровск') in value:\n",
    "        return 'Дальний Восток'\n",
    "    return 'undefined'"
   ]
  },
  {
   "cell_type": "code",
   "execution_count": 108,
   "id": "bec57279",
   "metadata": {},
   "outputs": [
    {
     "name": "stdout",
     "output_type": "stream",
     "text": [
      "CPU times: user 30.3 ms, sys: 3.45 ms, total: 33.7 ms\n",
      "Wall time: 31.8 ms\n"
     ]
    }
   ],
   "source": [
    "%%time\n",
    "key_words['region'] = key_words['keyword'].apply(geo_func)"
   ]
  },
  {
   "cell_type": "code",
   "execution_count": 120,
   "id": "332f1b69",
   "metadata": {},
   "outputs": [
    {
     "name": "stdout",
     "output_type": "stream",
     "text": [
      "                        keyword   shows        region\n",
      "127                авито москва  979292         Центр\n",
      "370    авито ру санкт петербург  425134  Северо-Запад\n",
      "564   погода в санкт петербурге  292489  Северо-Запад\n",
      "1063        фарпост владивосток  176951  Северо-Запад\n",
      "1236       банк санкт петербург  174375  Северо-Запад\n",
      "1259                     москва  153050         Центр\n",
      "1346            санкт петербург  144232  Северо-Запад\n",
      "1396            гисметео москва  140279         Центр\n",
      "1482           госуслуги москва  133061         Центр\n",
      "1682              погода москва  151701         Центр\n",
      "                       keyword     shows     region\n",
      "0                           вк  64292779  undefined\n",
      "1                одноклассники  63810309  undefined\n",
      "2                        порно  41747114  undefined\n",
      "3                         ютуб  39995567  undefined\n",
      "4                    вконтакте  21014195  undefined\n",
      "...                        ...       ...        ...\n",
      "99995   эльдорадо старый оскол      3705  undefined\n",
      "99996      frigate для firefox      3630  undefined\n",
      "99997                   укрсиб      3630  undefined\n",
      "99998  погода в ялте на неделю      3688  undefined\n",
      "99999                     ггму      3630  undefined\n",
      "\n",
      "[100000 rows x 3 columns]\n"
     ]
    }
   ],
   "source": [
    "# проверка результата работы\n",
    "print(key_words[key_words['region'].isin\\\n",
    "                           (['Центр', 'Северо-Запад', 'Дальний Восток'])].head(10))\n",
    "print(key_words)"
   ]
  }
 ],
 "metadata": {
  "kernelspec": {
   "display_name": "Python 3 (ipykernel)",
   "language": "python",
   "name": "python3"
  },
  "language_info": {
   "codemirror_mode": {
    "name": "ipython",
    "version": 3
   },
   "file_extension": ".py",
   "mimetype": "text/x-python",
   "name": "python",
   "nbconvert_exporter": "python",
   "pygments_lexer": "ipython3",
   "version": "3.11.5"
  }
 },
 "nbformat": 4,
 "nbformat_minor": 5
}
