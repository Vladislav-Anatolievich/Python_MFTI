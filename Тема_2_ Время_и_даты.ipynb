{
 "cells": [
  {
   "cell_type": "markdown",
   "id": "8b416954",
   "metadata": {},
   "source": [
    "# Продвинутый Python\n",
    "## ТЕМА 2: Время и даты в Python"
   ]
  },
  {
   "cell_type": "markdown",
   "id": "f68f96b2",
   "metadata": {},
   "source": [
    "Время в Unix - количество секунд с 1 января 1970 года 00:00:00 UTC\n",
    "\n",
    "Если подождать ровно одну секунду, время Unix изменится ровно на одну секунду\n",
    "\n",
    "Время Unix никогда не двигается назад\n",
    "\n",
    "Измерения времени:\n",
    "* International Atomic Time - сверхточное время на основе показаний сотен атомных часов\n",
    "* Universal Time - оборот Земли вокруг оси просиходит неравномерно, постепенно замедляется и дает погрешность. Поправка - високосный год.\n",
    "\n",
    "Сверхточность времени лежит в основе работы систем навигации. Система GPS обеспечивает возможность получать точные координаты в любое время суток"
   ]
  },
  {
   "cell_type": "markdown",
   "id": "bfaab6f5",
   "metadata": {},
   "source": [
    "### Обработка ошибок\n",
    "* Текст ошибки указывается в последней строке\n",
    "* Все что перед ней - место, где произошла ошибка\n",
    "* Есть встроенные типы ошибок, но можно создавать и свои\n",
    "\n",
    "Некторые типа ошибок из документации (перевода):\n",
    "* ZeroDivisionError - деление на ноль \n",
    "* ImportError - не удалось импортирование модуля или его атрибута (надо установить эту библиотеку)\n",
    "* IndexError - индекс не входит в диапазон элементов\n",
    "* KeyError - несуществующий ключ (в словаре, множестве или другом объекте)\n",
    "* MemoryError - недостаточно памяти\n",
    "* SyntaxError - синтаксическая ошибка (вы опечатались или не закрыли скобку)\n",
    "* TypeError - операция применена к объекту несоответствующего типа\n",
    "* ValueError - функция получает аргумент правильного типа, но некорректного значения\n",
    "* Warning - предупреждение (текст на красном фоне в юпитере это предупреждение, а не ошибка)"
   ]
  },
  {
   "cell_type": "code",
   "execution_count": null,
   "id": "f480d915",
   "metadata": {},
   "outputs": [],
   "source": [
    "# Блок try except\n",
    "try:\n",
    "    # Код, где может произойти ошибка\n",
    "    float('123a')\n",
    "except:\n",
    "    # Код который выполняется в случае ошибки\n",
    "    # pass - просто ничего не делает\n",
    "    pass"
   ]
  },
  {
   "cell_type": "code",
   "execution_count": 14,
   "id": "80e9ea53",
   "metadata": {},
   "outputs": [
    {
     "name": "stdout",
     "output_type": "stream",
     "text": [
      "Ошибка в данных: \"40@$#\" !!!\n",
      "Result 60.0\n"
     ]
    }
   ],
   "source": [
    "data = ['10', '20', '30', '40@$#']\n",
    "total_sum = 0\n",
    "for num in data:\n",
    "    try:\n",
    "        total_sum += float(num)\n",
    "    except:\n",
    "        print('Ошибка в данных: \"{}\" !!!'.format(num))\n",
    "print('Result', total_sum)"
   ]
  },
  {
   "cell_type": "code",
   "execution_count": 25,
   "id": "c6559470",
   "metadata": {
    "scrolled": true
   },
   "outputs": [
    {
     "name": "stdout",
     "output_type": "stream",
     "text": [
      "Traceback (most recent call last):\n",
      "  File \"/var/folders/lc/gq9gmfgj2bz496xqttsl9hzr0000gn/T/ipykernel_12807/2381522687.py\", line 4, in <module>\n",
      "    float('123fff')\n",
      "ValueError: could not convert string to float: '123fff'\n",
      "\n"
     ]
    },
    {
     "name": "stderr",
     "output_type": "stream",
     "text": [
      "Traceback (most recent call last):\n",
      "  File \"/var/folders/lc/gq9gmfgj2bz496xqttsl9hzr0000gn/T/ipykernel_12807/2381522687.py\", line 4, in <module>\n",
      "    float('123fff')\n",
      "ValueError: could not convert string to float: '123fff'\n"
     ]
    }
   ],
   "source": [
    "# Полная версия traceback (позволяет блок выводить на экран, сохранять в файл...)\n",
    "import traceback\n",
    "try:\n",
    "    float('123fff')\n",
    "except Exception:\n",
    "    traceback.print_exc()\n",
    "    ex = traceback.format_exc()\n",
    "print(ex)"
   ]
  },
  {
   "cell_type": "code",
   "execution_count": 34,
   "id": "d0bf01b3",
   "metadata": {
    "scrolled": true
   },
   "outputs": [
    {
     "name": "stdout",
     "output_type": "stream",
     "text": [
      "Выполнится всегда\n"
     ]
    },
    {
     "ename": "NameError",
     "evalue": "name 'values' is not defined",
     "output_type": "error",
     "traceback": [
      "\u001b[0;31m---------------------------------------------------------------------------\u001b[0m",
      "\u001b[0;31mNameError\u001b[0m                                 Traceback (most recent call last)",
      "Cell \u001b[0;32mIn[34], line 3\u001b[0m\n\u001b[1;32m      1\u001b[0m \u001b[38;5;66;03m# Блок finally. Часто используется для закрытия соединений с БД, закрытии файла на запись\u001b[39;00m\n\u001b[1;32m      2\u001b[0m \u001b[38;5;28;01mtry\u001b[39;00m:\n\u001b[0;32m----> 3\u001b[0m     \u001b[38;5;28mprint\u001b[39m(values)\n\u001b[1;32m      4\u001b[0m \u001b[38;5;28;01mexcept\u001b[39;00m \u001b[38;5;167;01mIndexError\u001b[39;00m:\n\u001b[1;32m      5\u001b[0m     \u001b[38;5;28mprint\u001b[39m(\u001b[38;5;124m'\u001b[39m\u001b[38;5;124mIndexError\u001b[39m\u001b[38;5;124m'\u001b[39m)\n",
      "\u001b[0;31mNameError\u001b[0m: name 'values' is not defined"
     ]
    }
   ],
   "source": [
    "# Блок finally. Часто используется для закрытия соединений с БД, закрытии файла на запись\n",
    "try:\n",
    "    print(values)\n",
    "except IndexError:\n",
    "    print('IndexError')\n",
    "except KeyError:\n",
    "    print('KeyError')\n",
    "finally:\n",
    "    print(\"Выполнится всегда\")\n",
    "    #connection.close()\n",
    "    #file.close()"
   ]
  },
  {
   "cell_type": "markdown",
   "id": "42eb42c2",
   "metadata": {},
   "source": [
    "### Даты"
   ]
  },
  {
   "cell_type": "code",
   "execution_count": 2,
   "id": "f6d52283",
   "metadata": {},
   "outputs": [
    {
     "data": {
      "text/plain": [
       "datetime.datetime(2023, 12, 13, 14, 36, 41, 908190)"
      ]
     },
     "execution_count": 2,
     "metadata": {},
     "output_type": "execute_result"
    }
   ],
   "source": [
    "# Импорт библиотеки\n",
    "import datetime\n",
    "datetime.datetime.today()"
   ]
  },
  {
   "cell_type": "code",
   "execution_count": 3,
   "id": "65db28e3",
   "metadata": {},
   "outputs": [
    {
     "name": "stdout",
     "output_type": "stream",
     "text": [
      "2023-12-13 14:36:47.107127\n",
      "2023-12-13 14:36:47.107198\n"
     ]
    }
   ],
   "source": [
    "# Импорт нужно нам класса datetime из файла datetime.py\n",
    "from datetime import datetime\n",
    "print(datetime.today())\n",
    "print(datetime.now())"
   ]
  },
  {
   "cell_type": "code",
   "execution_count": 44,
   "id": "03ca9a94",
   "metadata": {
    "scrolled": true
   },
   "outputs": [
    {
     "name": "stdout",
     "output_type": "stream",
     "text": [
      "<class 'str'>\n"
     ]
    }
   ],
   "source": [
    "# На данном этапе это просто строка\n",
    "date_string = '09.05.2018 09:00'\n",
    "print(type(date_string))"
   ]
  },
  {
   "cell_type": "code",
   "execution_count": 52,
   "id": "4dae3ac6",
   "metadata": {},
   "outputs": [
    {
     "data": {
      "text/plain": [
       "datetime.datetime(2018, 5, 9, 9, 0)"
      ]
     },
     "execution_count": 52,
     "metadata": {},
     "output_type": "execute_result"
    }
   ],
   "source": [
    "# https://docs.python.org/3/library/datetime.html - все про даты и как их записывать\n",
    "# Преобразование строки в объект типа datetime\n",
    "date = datetime.strptime(date_string, '%d.%m.%Y %H:%M')\n",
    "date"
   ]
  },
  {
   "cell_type": "code",
   "execution_count": 54,
   "id": "c237d379",
   "metadata": {},
   "outputs": [
    {
     "data": {
      "text/plain": [
       "(2018, 5, 9, 9, 0, 0, 0)"
      ]
     },
     "execution_count": 54,
     "metadata": {},
     "output_type": "execute_result"
    }
   ],
   "source": [
    "date.year, date.month, date.day, date.hour, date.minute, date.second, date.microsecond"
   ]
  },
  {
   "cell_type": "code",
   "execution_count": 55,
   "id": "75c7fbcd",
   "metadata": {
    "scrolled": true
   },
   "outputs": [
    {
     "data": {
      "text/plain": [
       "2"
      ]
     },
     "execution_count": 55,
     "metadata": {},
     "output_type": "execute_result"
    }
   ],
   "source": [
    "date.weekday() # среда"
   ]
  },
  {
   "cell_type": "code",
   "execution_count": 78,
   "id": "3a2a77a2",
   "metadata": {},
   "outputs": [
    {
     "name": "stdout",
     "output_type": "stream",
     "text": [
      "2023-11-03 00:00:00\n"
     ]
    },
    {
     "data": {
      "text/plain": [
       "'2023-11-03 ...служебные данные...'"
      ]
     },
     "execution_count": 78,
     "metadata": {},
     "output_type": "execute_result"
    }
   ],
   "source": [
    "# Перевод даты в строку\n",
    "date = datetime(2023, 11, 3)\n",
    "print(date)\n",
    "date.strftime('%Y-%m-%d ...служебные данные...')"
   ]
  },
  {
   "cell_type": "code",
   "execution_count": 79,
   "id": "a82fb3a5",
   "metadata": {},
   "outputs": [
    {
     "data": {
      "text/plain": [
       "'2023-11-01'"
      ]
     },
     "execution_count": 79,
     "metadata": {},
     "output_type": "execute_result"
    }
   ],
   "source": [
    "# Получение первого дня месяца\n",
    "datetime.now().strftime('%Y-%m-01')"
   ]
  },
  {
   "cell_type": "markdown",
   "id": "d546ef65",
   "metadata": {},
   "source": [
    "### Прибавление интервала к датам"
   ]
  },
  {
   "cell_type": "code",
   "execution_count": 60,
   "id": "7b8637ef",
   "metadata": {},
   "outputs": [
    {
     "data": {
      "text/plain": [
       "True"
      ]
     },
     "execution_count": 60,
     "metadata": {},
     "output_type": "execute_result"
    }
   ],
   "source": [
    "# В Python строки сравниваются в алфавитном порядке\n",
    "'logs_2017-12-31.csv' < 'logs_2018-01-01'"
   ]
  },
  {
   "cell_type": "code",
   "execution_count": 4,
   "id": "0ce4337d",
   "metadata": {},
   "outputs": [
    {
     "name": "stdout",
     "output_type": "stream",
     "text": [
      "<class 'str'>\n",
      "2018-01-01 00:00:00\n",
      "2018-01-02 00:00:00\n",
      "2017-12-30 23:59:59.999000\n",
      "2018-01-01 00:29:59.999999\n"
     ]
    }
   ],
   "source": [
    "from datetime import timedelta\n",
    "start_date = '2018-01-01'\n",
    "end_date = '2018-01-07'\n",
    "print(type(start_date))\n",
    "start_date_datetime = datetime.strptime(start_date, '%Y-%m-%d')\n",
    "print(start_date_datetime)\n",
    "print(start_date_datetime + timedelta(days = 1))\n",
    "print(start_date_datetime + timedelta(days = -1, milliseconds = -1))\n",
    "print(start_date_datetime + timedelta(hours = 0.5, microseconds = -1))"
   ]
  },
  {
   "cell_type": "code",
   "execution_count": 95,
   "id": "a582bb4f",
   "metadata": {},
   "outputs": [
    {
     "name": "stdout",
     "output_type": "stream",
     "text": [
      "2018-01-01 00:00:00 2018-01-07 00:00:00\n",
      "1 способ:\n",
      "2018-01-01\n",
      "2018-01-02\n",
      "2018-01-03\n",
      "2018-01-04\n",
      "2018-01-05\n",
      "2018-01-06\n",
      "2018-01-07\n",
      "2 способ:\n",
      "2018-01-01\n",
      "2018-01-02\n",
      "2018-01-03\n",
      "2018-01-04\n",
      "2018-01-05\n",
      "2018-01-06\n",
      "2018-01-07\n",
      "3 способ\n",
      "['2018-01-01', '2018-01-02', '2018-01-03', '2018-01-04', '2018-01-05', '2018-01-06', '2018-01-07', '2018-01-08', '2018-01-09', '2018-01-10']\n"
     ]
    }
   ],
   "source": [
    "start_date_datetime = datetime.strptime(start_date, '%Y-%m-%d')\n",
    "end_date_datetime = datetime.strptime(end_date, '%Y-%m-%d')\n",
    "print(start_date_datetime, end_date_datetime)\n",
    "\n",
    "# Первый способ перебора дат в цикле\n",
    "print(\"1 способ:\")\n",
    "current = start_date_datetime\n",
    "while current <= end_date_datetime:\n",
    "    print(current.strftime('%Y-%m-%d'))\n",
    "    current += timedelta(days = 1)\n",
    "    \n",
    "# Второй способ перебора дат в цикле\n",
    "print(\"2 способ:\")\n",
    "current = start_date_datetime\n",
    "while current.strftime('%Y-%m-%d') <= end_date:\n",
    "    print(current.strftime('%Y-%m-%d'))\n",
    "    current += timedelta(days = 1)\n",
    "    \n",
    "# Третий (продвинутый) способ с помощью list comprehension\n",
    "print(\"3 способ\")\n",
    "print([(start_date_datetime + timedelta(days = x)).strftime('%Y-%m-%d') \n",
    "       for x in range(10)])\n"
   ]
  },
  {
   "cell_type": "markdown",
   "id": "11431293",
   "metadata": {},
   "source": [
    "### Нагрузка на систему по часам"
   ]
  },
  {
   "cell_type": "code",
   "execution_count": 105,
   "id": "43b5b68f",
   "metadata": {},
   "outputs": [
    {
     "name": "stdout",
     "output_type": "stream",
     "text": [
      "21\n",
      "2018-04-30T21:37:41Z ---> 2018-04-30 21:37:41\n",
      "21\n"
     ]
    }
   ],
   "source": [
    "# Необходимо вычислить, в какие часы нагрузка на систему максимальна\n",
    "stats = {}\n",
    "with open('date_logs.csv', 'w') as f:\n",
    "    f.write('2018-04-30T21:37:41Z\\n')\n",
    "with open('date_logs.csv') as f:\n",
    "    for line in f:\n",
    "        line = line.strip()\n",
    "        # Можно выделить номер часа из строки и таким образом. Этот способ гораздо\n",
    "        # быстрее, чем работать с библиотеками даты / времени (поиск подстроки в строке).\n",
    "        # Если задача позволяет избегать использование datetime, а можно использовать\n",
    "        # что-то более просто и банальное, то лучше это использовать. Это обеспечит \n",
    "        # прирост производительности.\n",
    "        print(line[11:13])\n",
    "        dt = datetime.strptime(line, '%Y-%m-%dT%H:%M:%SZ')\n",
    "        print(line, \"--->\", dt)\n",
    "        hour = dt.hour\n",
    "        print(hour)\n",
    "        stats.setdefault(hour, 0)\n",
    "        stats[hour] += 1"
   ]
  },
  {
   "cell_type": "markdown",
   "id": "e968429d",
   "metadata": {},
   "source": [
    "### Unixtime\n",
    "Количество секунд, прошедших с 1 января 1970 года по UTC\n",
    "\n",
    "Преимущества:\n",
    "* Можно не думать о формате, так как получается обычное целое число\n",
    "* В таком формате (целое число) дата занимаем меньше места (оптимизация)"
   ]
  },
  {
   "cell_type": "code",
   "execution_count": 146,
   "id": "e8570882",
   "metadata": {},
   "outputs": [
    {
     "name": "stdout",
     "output_type": "stream",
     "text": [
      "unixtime: 1552251600.0\n"
     ]
    },
    {
     "data": {
      "text/plain": [
       "datetime.datetime(2019, 3, 11, 0, 0)"
      ]
     },
     "execution_count": 146,
     "metadata": {},
     "output_type": "execute_result"
    }
   ],
   "source": [
    "import time\n",
    "from datetime import date\n",
    "from datetime import datetime\n",
    "d = date(2019, 3, 11)\n",
    "unixtime = time.mktime(d.timetuple())\n",
    "print(\"unixtime:\", unixtime)\n",
    "# Получение даты с помощью метода fromtimestamp\n",
    "# Внимание! Используется часовой пояс UTC\n",
    "datetime.fromtimestamp(1552251600.0)"
   ]
  },
  {
   "cell_type": "markdown",
   "id": "d84878cb",
   "metadata": {},
   "source": [
    "## Вебинар 2"
   ]
  },
  {
   "cell_type": "markdown",
   "id": "8e689b0d",
   "metadata": {},
   "source": [
    "### Cайты с задачками на Python:\n",
    "* hackerrand.com\n",
    "* leetcode.com\n",
    "* codeforces.com"
   ]
  },
  {
   "cell_type": "markdown",
   "id": "05da4bcc",
   "metadata": {},
   "source": [
    "### Задача про интервалы дат\n",
    "Имеется список отсортированных по возрастанию дат dates_list. А также дата date, которая лежит между минимальным и максимальным значениями из списка dates_list. Вам необходимо определить ближайшие даты в списке dates_list, которые окружают date."
   ]
  },
  {
   "cell_type": "code",
   "execution_count": 115,
   "id": "7fdcc133",
   "metadata": {},
   "outputs": [
    {
     "name": "stdout",
     "output_type": "stream",
     "text": [
      "'2021-12-31' < '2022-01-01':  True\n"
     ]
    }
   ],
   "source": [
    "# В таком формате порядок следования по календарю совпадает с алфавитным.\n",
    "# Python не знает, что это даты, и воспринимает это как обычным строки\n",
    "print(\"'2021-12-31' < '2022-01-01': \", '2021-12-31' < '2022-01-01')\n",
    "dates_list = ['2022-01-01', '2022-01-07', '2022-02-23', '2022-03-08', '2022-05-01',\n",
    "             '2022-05-09', '2022-06-12']\n",
    "date = '2022-04-01'"
   ]
  },
  {
   "cell_type": "code",
   "execution_count": 130,
   "id": "42c42033",
   "metadata": {},
   "outputs": [
    {
     "name": "stdout",
     "output_type": "stream",
     "text": [
      "0 2022-01-01 2022-01-07\n",
      "1 2022-01-07 2022-02-23\n",
      "2 2022-02-23 2022-03-08\n",
      "3 2022-03-08 2022-05-01\n",
      "4 2022-05-01 2022-05-09\n",
      "5 2022-05-09 2022-06-12\n"
     ]
    }
   ],
   "source": [
    "# Вариант 1. Счетчик\n",
    "i = 0\n",
    "for dt in dates_list[: -1]:\n",
    "    print(i, dt, dates_list[i + 1])\n",
    "    i += 1"
   ]
  },
  {
   "cell_type": "code",
   "execution_count": 123,
   "id": "b28d5f8c",
   "metadata": {},
   "outputs": [
    {
     "name": "stdout",
     "output_type": "stream",
     "text": [
      "0 2022-01-01\n",
      "1 2022-01-07\n",
      "2 2022-02-23\n",
      "3 2022-03-08\n",
      "4 2022-05-01\n",
      "5 2022-05-09\n",
      "6 2022-06-12\n"
     ]
    }
   ],
   "source": [
    "# Вариант 2. Только там, где известно количество элементов\n",
    "for i in range(len(dates_list)):\n",
    "    print(i, dates_list[i])"
   ]
  },
  {
   "cell_type": "code",
   "execution_count": 143,
   "id": "57b948dd",
   "metadata": {},
   "outputs": [
    {
     "name": "stdout",
     "output_type": "stream",
     "text": [
      "3 2022-03-08 2022-05-01\n"
     ]
    }
   ],
   "source": [
    "# Вариант 3. \n",
    "for i, dt in enumerate(dates_list):\n",
    "    if dt < date < dates_list[i + 1]: \n",
    "        print(i, dt, dates_list[i + 1])"
   ]
  },
  {
   "cell_type": "markdown",
   "id": "0527e762",
   "metadata": {},
   "source": [
    "### С какой скоростью работает алгоритм?\n",
    "Во сколько раз вырастет время работы кода, если количество данных вырастет в N раз?\n",
    "\n",
    "O(функция от N) - \"О\" большое, N - размер входных данных\n",
    "\n",
    "* Линейный поиск - O(N)   x100 ---> x100\n",
    "* Квадратичный поиск - О(N^2)   x100 ---> x10000\n",
    "* Бинарный поиск - O(log_2(N))\n",
    "\n",
    "Бинарный поиск. Пример - телефонный справочник. Открываем по середине, смотрим куда попали, берем какую-то из половин, снова делим пополам.\n",
    "\n",
    "При росте данных в 1024 раза, линейный замедлится в 1024 раза, бинарный - в 10 раз.\n",
    "\n",
    "2 ** 10, 2^N, N, log_2(N)"
   ]
  },
  {
   "cell_type": "markdown",
   "id": "8e328042",
   "metadata": {},
   "source": [
    "### Какой алгоритм самый быстрый? \n",
    "O(const) или O(1) - время работы не зависит от объема данных\n",
    "\n",
    "Пример: поиск по словарю или множеству (if user_id in purchases: )"
   ]
  },
  {
   "cell_type": "markdown",
   "id": "d676f7b2",
   "metadata": {},
   "source": [
    "### План по исправлению ошибок:\n",
    "Шаг 1.\n",
    "\n",
    "* Ошибка пишется в последней строке лога (traceback). Переводим на русский или читаем сразу по английский. Необходимо хотя бы примерно понять, о чем идет речь.\n",
    "* Читаем traceback (лог ошибки). Сверху вниз, стрелка указывает на строчку, где произошла ошибка, а в первой строке следующего блока написано, где именно в этой строке произошла ошибка. Так доходим до последнего блока лога, где указана строка, в которой изначально происходит ошибка.\n",
    "\n",
    "Шаг 2. Если не получился шаг 1 - ищем ошибку в интернете\n",
    "* Поисковая выдача, боты\n",
    "* Обязательно читать вопрос, который был задан на форуме / сайте. Он не всегда будет соответствовать изначальному, так как поисковик показывает максимально подходящую выдачу, не всегда точную.\n",
    "\n",
    "Шаг 3. Если не получился шаг 1 и шаг 2 - спросить коллегу\n",
    "* Если вы на работе: обязательно пишите, какую исходную задачу вы решаете. Во многих случаях скажут, как задачу решить проще\n",
    "* Если вы на учебе: убедитесь, что в вопросе понятно, что значат переменные\n",
    "* Покажите, какие данные на входе\n",
    "* Когда задаете вопрос, обязательно проверьте, что у коллеги достаточно информации: он должен иметь саму ошибку (TypeError), весь traceback и весь код.\n",
    "* У коллеги воспроизвелась ошибка: скорее всего помогут\n",
    "* У коллеги НЕ воспроизвелась ошибка: у нас разное окружение (набор инструментов, в которых выполняется код (ОС, библиотеки, версии Python))\n",
    "\n",
    "Шаг 4. Составить воспроизводимый пример\n",
    "* Создать новый и чистый отдельный файл\n",
    "* Скопировать в него весь код, приводящий к ошибке (минимально возможный объем)\n",
    "* Бывают случаи, что ячейки могут выполняться в хаотичном порядке, и в основном юпитер-ноутбуке можно забыть (запутаться) правильную последовательность, или может быть ячейка с забытой строкой. Следовательно, в новом файле может воспроизводится уже другая ошибка.\n",
    "-> Желательно попробовать разобраться самостоятельно\n",
    "\n",
    "-> Лайфхак: на русском stackoverflow плохо работает поиск на сайте. Часто помогает указать в поисковом запросе в самом браузере ключевое слово site:названиедомена.com (например, site:stackoverflow.com запрос)\n",
    "\n",
    "-> Иногда проблема возникает из-за отключенного корпоративного VPN\n",
    "\n",
    "-> Другие возможные проблемы: устарел пароль; изменили права в сетевых настройках; регион, в котором сервис недоступен; разные ОС"
   ]
  },
  {
   "cell_type": "code",
   "execution_count": 162,
   "id": "952324a5",
   "metadata": {},
   "outputs": [
    {
     "name": "stdout",
     "output_type": "stream",
     "text": [
      "moscow_times: 2002-10-02 00:00:00, type: <class 'datetime.datetime'>\n",
      "guardian: 2023-10-11 00:00:00, type: <class 'datetime.datetime'>\n",
      "daily_news: 1977-08-18 00:00:00, type: <class 'datetime.datetime'>\n"
     ]
    }
   ],
   "source": [
    "# Решение задачи 1\n",
    "# Записываю исходные данные в виде строк\n",
    "moscow_times = 'Wednesday, October 2, 2002'\n",
    "guardian = 'Friday, 11.10.23'\n",
    "daily_news = 'Thursday, 18 August 1977'\n",
    "\n",
    "from datetime import datetime\n",
    "\n",
    "# Преобразую сроку moscow_times в формат datetime с помощью метода strptime\n",
    "moscow_times = datetime.strptime(moscow_times, '%A, %B %d, %Y')\n",
    "print(f\"moscow_times: {moscow_times}, type: {type(moscow_times)}\")\n",
    "\n",
    "# Преобразую сроку guardian в формат datetime с помощью метода strptime\n",
    "guardian = datetime.strptime(guardian, '%A, %d.%m.%y')\n",
    "print(f\"guardian: {guardian}, type: {type(guardian)}\")\n",
    "\n",
    "# Преобразую сроку daily_news в формат datetime с помощью метода strptime\n",
    "daily_news = datetime.strptime(daily_news, '%A, %d %B %Y')\n",
    "print(f\"daily_news: {daily_news}, type: {type(daily_news)}\")"
   ]
  },
  {
   "cell_type": "code",
   "execution_count": 160,
   "id": "53639b7c",
   "metadata": {},
   "outputs": [
    {
     "name": "stdout",
     "output_type": "stream",
     "text": [
      "2022-01-01 00:00:00\n",
      "2022-01-03 00:00:00\n",
      "['2022-01-01', '2022-01-02']\n",
      "[]\n",
      "[]\n"
     ]
    }
   ],
   "source": [
    "# Решение задачи 2 для случая когда подходящий формат YYYY-MM-DD - единственный\n",
    "from datetime import datetime\n",
    "from datetime import timedelta\n",
    "\n",
    "def date_range(start_date, end_date):\n",
    "    \n",
    "    date_list = []\n",
    "    \n",
    "    # Проверка, что диапазон задан корректно (от меньшего к большему)\n",
    "    if start_date > end_date:\n",
    "        return date_list\n",
    "    \n",
    "    # Попытка преобразовать строки к формату даты\n",
    "    try:\n",
    "        start_date = datetime.strptime(start_date, '%Y-%m-%d')\n",
    "        print(start_date)\n",
    "        end_date = datetime.strptime(end_date, '%Y-%m-%d')\n",
    "        print(end_date)\n",
    "    # Если преобразование не удастся, сработает блок except\n",
    "    except:\n",
    "        return date_list\n",
    "    \n",
    "    # Заполняем список date_list датами из диапазона, конвертированными обратно в строки\n",
    "    date = start_date\n",
    "    while date < end_date:\n",
    "        date_list.append(datetime.strftime(date, '%Y-%m-%d'))\n",
    "        date += timedelta(days = 1)\n",
    "        \n",
    "    return date_list\n",
    "\n",
    "print(date_range('2022-01-01', '2022-01-03'))\n",
    "print(date_range('2022-01-03', '2022-01-01'))\n",
    "print(date_range('2022-02-30', '2022-02-31'))"
   ]
  },
  {
   "cell_type": "code",
   "execution_count": 161,
   "id": "aeb91947",
   "metadata": {},
   "outputs": [
    {
     "name": "stdout",
     "output_type": "stream",
     "text": [
      "['2022 01 01', '2022 01 02', '2022 01 03']\n",
      "['2022 01 01', '2022 01 02', '2022 01 03', '2022 01 04']\n",
      "['2022 01 01', '2022 01 02', '2022 01 03', '2022 01 04', '2022 01 05']\n",
      "[]\n",
      "[]\n"
     ]
    }
   ],
   "source": [
    "# Решение задачи 2 для случая когда подоходящих форматов > 1\n",
    "from datetime import datetime\n",
    "from datetime import timedelta\n",
    "\n",
    "def date_range(start_date, end_date):\n",
    "    \n",
    "    date_list = []\n",
    "    # Создаем список допустимых форматов дат\n",
    "    formats_list = ['%Y-%m-%d', '%Y.%m.%d', '%Y %m %d']\n",
    "    \n",
    "    # Проверка на корректность задания диапазона\n",
    "    if start_date > end_date:\n",
    "        return date_list\n",
    "    \n",
    "    # Поиск подходящего формата даты\n",
    "    for format_value in formats_list:\n",
    "        # Попытки преобразовать строки к разным форматам даты\n",
    "        try:\n",
    "            start_date = datetime.strptime(start_date, format_value)\n",
    "            end_date = datetime.strptime(end_date, format_value)\n",
    "        # Если ни один доступный формат даты не подойдет, то выполнится блок except\n",
    "        except:\n",
    "            pass\n",
    "            #format_value = 'No Format'\n",
    "        \n",
    "    # Попытка привести к формату. Если на предыдущем шаги формат был найден, то код\n",
    "    # будет выполняться корректно. Если подходящий формат не найден, \n",
    "    # выполнится блок except\n",
    "    try:\n",
    "        date = start_date\n",
    "        while date <= end_date:\n",
    "            date_list.append(datetime.strftime(date, format_value))\n",
    "            date += timedelta(days = 1)\n",
    "    except:    \n",
    "        return date_list\n",
    "    \n",
    "    return date_list\n",
    "\n",
    "print(date_range('2022.01.01', '2022.01.03'))\n",
    "print(date_range('2022-01-01', '2022-01-04'))\n",
    "print(date_range('2022 01 01', '2022 01 05'))\n",
    "print(date_range('2022-01-03', '2022-01-01'))\n",
    "print(date_range('2022-02-30', '2022-02-31'))"
   ]
  }
 ],
 "metadata": {
  "kernelspec": {
   "display_name": "Python 3 (ipykernel)",
   "language": "python",
   "name": "python3"
  },
  "language_info": {
   "codemirror_mode": {
    "name": "ipython",
    "version": 3
   },
   "file_extension": ".py",
   "mimetype": "text/x-python",
   "name": "python",
   "nbconvert_exporter": "python",
   "pygments_lexer": "ipython3",
   "version": "3.11.5"
  }
 },
 "nbformat": 4,
 "nbformat_minor": 5
}
