{
 "cells": [
  {
   "cell_type": "markdown",
   "id": "6d8a1772",
   "metadata": {},
   "source": [
    "## Домашняя работа №3"
   ]
  },
  {
   "cell_type": "markdown",
   "id": "28413b31",
   "metadata": {},
   "source": [
    "### Задача 1"
   ]
  },
  {
   "cell_type": "code",
   "execution_count": 3,
   "id": "83829631",
   "metadata": {},
   "outputs": [
    {
     "name": "stdout",
     "output_type": "stream",
     "text": [
      "СДР (специальные права заимствования)\n"
     ]
    }
   ],
   "source": [
    "import requests\n",
    "\n",
    "class Trading:\n",
    "    \n",
    "    def __init__(self):\n",
    "        ...\n",
    "        \n",
    "    def get_request(self):\n",
    "        self.request = requests.get(\n",
    "            'https://www.cbr-xml-daily.ru/daily_json.js')\n",
    "        return self.request.json()['Valute']\n",
    "    \n",
    "    def make_format(self):\n",
    "        ...\n",
    "        \n",
    "        \n",
    "    def make_dict(self):\n",
    "        data = self.get_request()\n",
    "        data_dict = {}\n",
    "        for key, value in data.items():\n",
    "            #print(value['Name'], value['Value'])\n",
    "            data_dict[value['Name']] = value['Value']\n",
    "        return data_dict\n",
    "    \n",
    "    def search_max(self):\n",
    "        data_dict = self.make_dict()\n",
    "        max_value = -1\n",
    "        max_value_key = '-1'\n",
    "        for key, value in data_dict.items():\n",
    "            if value > max_value:\n",
    "                max_value = value\n",
    "                max_value_key = key\n",
    "        return max_value_key  \n",
    "    def the_most_expensive_currency(self):\n",
    "        print(self.search_max())\n",
    "        \n",
    "info = Trading()\n",
    "info.the_most_expensive_currency()\n",
    "        \n",
    "\n",
    "        \n",
    "        \n",
    "\n"
   ]
  }
 ],
 "metadata": {
  "kernelspec": {
   "display_name": "Python 3 (ipykernel)",
   "language": "python",
   "name": "python3"
  },
  "language_info": {
   "codemirror_mode": {
    "name": "ipython",
    "version": 3
   },
   "file_extension": ".py",
   "mimetype": "text/x-python",
   "name": "python",
   "nbconvert_exporter": "python",
   "pygments_lexer": "ipython3",
   "version": "3.11.5"
  }
 },
 "nbformat": 4,
 "nbformat_minor": 5
}
