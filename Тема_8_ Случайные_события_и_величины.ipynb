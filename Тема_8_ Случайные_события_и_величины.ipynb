{
 "cells": [
  {
   "cell_type": "markdown",
   "metadata": {
    "id": "nXOA4pGqoi7p"
   },
   "source": [
    "# Случайные события. Случайные величины\n"
   ]
  },
  {
   "cell_type": "code",
   "execution_count": 2,
   "metadata": {
    "id": "PGZL3xvVoeTM"
   },
   "outputs": [],
   "source": [
    "import numpy as np"
   ]
  },
  {
   "cell_type": "code",
   "execution_count": 82,
   "metadata": {
    "colab": {
     "base_uri": "https://localhost:8080/"
    },
    "id": "YJPemaJOoeTR",
    "outputId": "97dce7d8-7822-4b20-98e8-a96d4fbced89"
   },
   "outputs": [
    {
     "data": {
      "text/plain": [
       "3"
      ]
     },
     "execution_count": 82,
     "metadata": {},
     "output_type": "execute_result"
    }
   ],
   "source": [
    "# генерируем дискретную величину\n",
    "np.random.randint(1, 5)"
   ]
  },
  {
   "cell_type": "code",
   "execution_count": 84,
   "metadata": {
    "colab": {
     "base_uri": "https://localhost:8080/"
    },
    "id": "G6L4hJQKoeTS",
    "outputId": "eb0c9032-0ec2-4351-d328-b6a388112ddb"
   },
   "outputs": [
    {
     "data": {
      "text/plain": [
       "array([2, 4, 4, 3, 4, 2, 3, 1, 1, 3, 4, 3, 3, 2, 2, 3, 2, 1, 2, 2, 2, 1,\n",
       "       4, 4, 2, 4, 1, 1, 1, 3, 2, 4, 1, 4, 4, 4, 4, 1, 4, 1, 1, 2, 3, 3,\n",
       "       3, 1, 1, 4, 4, 3])"
      ]
     },
     "execution_count": 84,
     "metadata": {},
     "output_type": "execute_result"
    }
   ],
   "source": [
    "np.random.randint(1, 5, 50)"
   ]
  },
  {
   "cell_type": "code",
   "execution_count": 85,
   "metadata": {
    "colab": {
     "base_uri": "https://localhost:8080/"
    },
    "id": "2oJZcFUtoeTS",
    "outputId": "fc80cffe-f819-4239-cf70-3597068ff4ad"
   },
   "outputs": [
    {
     "data": {
      "text/plain": [
       "array([0.05188007, 0.83927941, 0.72359219, 0.67199254, 0.03376713,\n",
       "       0.83551652, 0.9244759 , 0.25959464, 0.68482101, 0.65443823,\n",
       "       0.5051295 , 0.19695343, 0.27200834, 0.32243735, 0.66968785,\n",
       "       0.0994424 , 0.47319804, 0.36864648, 0.98565467, 0.62068372,\n",
       "       0.97173328, 0.30268424, 0.2028401 , 0.61060948, 0.76677355,\n",
       "       0.72967305, 0.2034617 , 0.815358  , 0.88387969, 0.81473423,\n",
       "       0.66289442, 0.4886647 , 0.63257836, 0.52362626, 0.85640161,\n",
       "       0.22425554, 0.16132674, 0.71606528, 0.27530091, 0.78243308,\n",
       "       0.64476452, 0.08092575, 0.67479264, 0.84792047, 0.06375238,\n",
       "       0.49234613, 0.66935165, 0.3086855 , 0.91656354, 0.65908861,\n",
       "       0.5470008 , 0.54798737, 0.52445203, 0.19107809, 0.90280829,\n",
       "       0.93815026, 0.61368456, 0.48601225, 0.03658463, 0.21813062,\n",
       "       0.0113208 , 0.37063188, 0.56881198, 0.5635375 , 0.69763919,\n",
       "       0.18731291, 0.38264403, 0.72272315, 0.89655467, 0.37947746,\n",
       "       0.21567344, 0.46123287, 0.58635019, 0.5513857 , 0.67687561,\n",
       "       0.9004299 , 0.13138388, 0.94914958, 0.53879224, 0.49145208,\n",
       "       0.24300356, 0.10760061, 0.10850797, 0.82247084, 0.39620386,\n",
       "       0.6778017 , 0.36800812, 0.82431373, 0.81333047, 0.31793399,\n",
       "       0.85450043, 0.48521979, 0.26722804, 0.76807246, 0.3892059 ,\n",
       "       0.89394275, 0.91026274, 0.33942293, 0.04154858, 0.38760019])"
      ]
     },
     "execution_count": 85,
     "metadata": {},
     "output_type": "execute_result"
    }
   ],
   "source": [
    "# генерируем непрерывную величину\n",
    "np.random.random(100)"
   ]
  },
  {
   "cell_type": "code",
   "execution_count": 86,
   "metadata": {
    "colab": {
     "base_uri": "https://localhost:8080/"
    },
    "id": "m8sHru95oeTT",
    "outputId": "9947e84a-653f-468b-983d-e264762c9e28"
   },
   "outputs": [
    {
     "data": {
      "text/plain": [
       "array([2.04448892, 2.02666088, 1.40237214, 4.14937158, 3.73982052,\n",
       "       3.20536018])"
      ]
     },
     "execution_count": 86,
     "metadata": {},
     "output_type": "execute_result"
    }
   ],
   "source": [
    "np.random.uniform(1, 5, 6)"
   ]
  },
  {
   "cell_type": "code",
   "execution_count": 87,
   "metadata": {
    "colab": {
     "base_uri": "https://localhost:8080/"
    },
    "id": "yIYQIh1coeTT",
    "outputId": "3a3e4e10-0a50-4e69-9687-1d8f93ccc36a"
   },
   "outputs": [
    {
     "data": {
      "text/plain": [
       "array([3.79232091, 4.32452318, 4.22494241, 3.22987379, 3.72584235,\n",
       "       2.6669651 , 2.57892854, 1.57095194, 1.12492667, 2.09153554,\n",
       "       3.49929617, 1.31417885, 1.38508871, 4.6363764 , 2.23429184,\n",
       "       1.55032577, 4.83780543, 1.62049025, 3.01374952, 2.4444369 ,\n",
       "       4.50827232, 1.01788585, 1.59587928, 2.55242057, 4.2789419 ,\n",
       "       3.00340205, 2.25194401, 2.51791505, 3.74871808, 1.20613462,\n",
       "       4.84178647, 1.07424706, 1.47093781, 1.82394053, 1.01383893,\n",
       "       3.31542283, 3.91397205, 1.8459614 , 1.16675364, 1.09502786,\n",
       "       4.79538377, 3.3904482 , 4.3390102 , 1.47000499, 4.93809691,\n",
       "       2.54255615, 2.23566019, 4.40411647, 1.16804242, 4.09713926,\n",
       "       3.38180436, 4.06130155, 2.57680401, 4.10752385, 2.24220589,\n",
       "       3.87054304, 2.06187638, 4.79928146, 4.47703501, 4.1812119 ,\n",
       "       3.65422746, 1.4166085 , 1.72521184, 1.51247971, 1.04100875,\n",
       "       3.44099986, 3.86092396, 4.67460765, 4.66193394, 2.33343729,\n",
       "       2.31493902, 3.75671566, 3.54816028, 4.44137128, 1.98985651,\n",
       "       3.79913603, 2.95942296, 4.78363581, 1.2321973 , 3.74003201,\n",
       "       4.24829897, 2.04130131, 2.65414808, 1.39095782, 3.72059289,\n",
       "       3.07133499, 2.94845199, 3.45575534, 2.85176895, 4.72184416,\n",
       "       2.78556173, 3.31082794, 4.96416774, 2.10526764, 3.10273938,\n",
       "       3.57767751, 1.30768454, 2.27658711, 2.41218605, 1.7888149 ])"
      ]
     },
     "execution_count": 87,
     "metadata": {},
     "output_type": "execute_result"
    }
   ],
   "source": [
    "np.random.uniform(1, 5, 100)"
   ]
  },
  {
   "cell_type": "code",
   "execution_count": 101,
   "metadata": {
    "colab": {
     "base_uri": "https://localhost:8080/"
    },
    "id": "z1ulCBFjBbuz",
    "outputId": "e921fb53-4790-4f9b-a6aa-80583c000c86"
   },
   "outputs": [
    {
     "data": {
      "text/plain": [
       "array([3, 4, 1, 3, 3, 4, 1, 1, 3, 2])"
      ]
     },
     "execution_count": 101,
     "metadata": {},
     "output_type": "execute_result"
    }
   ],
   "source": [
    "np.random.seed(42)\n",
    "np.random.randint(1, 5, 10)\n"
   ]
  },
  {
   "cell_type": "markdown",
   "metadata": {
    "id": "HKqYmkjsoeTT"
   },
   "source": [
    "**Задача 1.** Оценить вероятность того, что на игральной кости выпадет больше 4 очков. Сравнить с теоретической вероятностью."
   ]
  },
  {
   "cell_type": "code",
   "execution_count": 106,
   "metadata": {
    "colab": {
     "base_uri": "https://localhost:8080/"
    },
    "id": "EZX-A7geoeTW",
    "outputId": "9e5d9730-6091-469d-c0b0-bf109ad60754"
   },
   "outputs": [
    {
     "name": "stdout",
     "output_type": "stream",
     "text": [
      "3334604 10000000 0.3334604 0.3333333333333333\n"
     ]
    }
   ],
   "source": [
    "trials = 10000000    # Количество попыток\n",
    "successes = 0    # Количество успехов\n",
    "\n",
    "for i in range(trials):\n",
    "    random_score = np.random.randint(1, 7)    # Случайное количество очков от 1 до 6\n",
    "    if random_score > 4:\n",
    "        successes += 1\n",
    "\n",
    "p_monte_carlo = successes / trials    # Вероятность из моделирования\n",
    "p = 2 / 6                             # Теоретическая вероятность\n",
    "\n",
    "print(successes, trials, p_monte_carlo, p)"
   ]
  },
  {
   "cell_type": "markdown",
   "metadata": {
    "id": "qfisTQyscxLx"
   },
   "source": []
  },
  {
   "cell_type": "markdown",
   "metadata": {
    "id": "gFfgFS68oeTY"
   },
   "source": [
    "**Задача 1А** (опциональная). Дан квадрат, в который вписан круг (касаясь сторон квадрата). В квадрат случайным образом попадают точки. Какова вероятность, что наугад взятая точка попадёт в круг?  \n",
    "_Подсказка:_ Удобно взять квардат со стороной, равной 2, и отсчитывать координаты точек от его центра."
   ]
  },
  {
   "cell_type": "code",
   "execution_count": 151,
   "metadata": {
    "scrolled": true
   },
   "outputs": [
    {
     "name": "stdout",
     "output_type": "stream",
     "text": [
      "0.7853 0.7853981633974483\n",
      "CPU times: user 29.6 ms, sys: 4.45 ms, total: 34 ms\n",
      "Wall time: 32.3 ms\n"
     ]
    }
   ],
   "source": [
    "%%time\n",
    "trials = 10000\n",
    "successes = 0\n",
    "\n",
    "for i in range(trials):\n",
    "    random_x = np.random.uniform(-1, 1)\n",
    "    random_y = np.random.uniform(-1, 1)\n",
    "    if random_x ** 2 + random_y ** 2 <= 1:\n",
    "        successes += 1\n",
    "print(successes / trials, np.pi*1 / 4)"
   ]
  },
  {
   "cell_type": "code",
   "execution_count": null,
   "metadata": {},
   "outputs": [],
   "source": []
  },
  {
   "cell_type": "code",
   "execution_count": null,
   "metadata": {
    "colab": {
     "base_uri": "https://localhost:8080/"
    },
    "id": "J1w1PeKdoeTZ",
    "outputId": "9f63f23c-fdd2-4590-bb73-4bdf3b84ef50"
   },
   "outputs": [
    {
     "name": "stdout",
     "output_type": "stream",
     "text": [
      "0.785514\n"
     ]
    }
   ],
   "source": [
    "trials = 1000000\n",
    "successes = 0\n",
    "\n",
    "for i in range(100, 1000):\n",
    "    x = np.random.uniform(-1, 1)\n",
    "    y = np.random.uniform(-1, 1)\n",
    "\n",
    "    if x**2 + y**2 < 1:\n",
    "        successes += 1\n",
    "\n",
    "res = successes / trials\n",
    "print (res)"
   ]
  },
  {
   "cell_type": "code",
   "execution_count": null,
   "metadata": {
    "colab": {
     "base_uri": "https://localhost:8080/"
    },
    "id": "ku7A1BQ9oeTZ",
    "outputId": "d550c1f7-e048-446a-c1df-9f3f5d83f7ea"
   },
   "outputs": [
    {
     "data": {
      "text/plain": [
       "3.142056"
      ]
     },
     "execution_count": 25,
     "metadata": {},
     "output_type": "execute_result"
    }
   ],
   "source": [
    "res * 4"
   ]
  },
  {
   "cell_type": "markdown",
   "metadata": {
    "id": "yqMozu-9oeTa"
   },
   "source": [
    "**Задача 2.** Смоделировать стрельбу по мишени."
   ]
  },
  {
   "cell_type": "code",
   "execution_count": 173,
   "metadata": {
    "colab": {
     "base_uri": "https://localhost:8080/",
     "height": 283
    },
    "id": "ZFk3cFwKoeTa",
    "outputId": "4d4d8d4d-537a-4b9d-d674-167f0e769432"
   },
   "outputs": [
    {
     "data": {
      "text/plain": [
       "<matplotlib.collections.PathCollection at 0x1400e7450>"
      ]
     },
     "execution_count": 173,
     "metadata": {},
     "output_type": "execute_result"
    },
    {
     "data": {
      "image/png": "[encoded data removed]",
      "text/plain": [
       "<Figure size 640x480 with 1 Axes>"
      ]
     },
     "metadata": {},
     "output_type": "display_data"
    }
   ],
   "source": [
    "import matplotlib.pyplot as plt\n",
    "\n",
    "shots = 1000    # Количество выстрелов\n",
    "std_dev = 1 # Стандартное отклонение (на сколько мы в среднем будем мазать)\n",
    "\n",
    "x = np.random.normal(0, std_dev, shots) # 0 - и среднее, и мода, и медиана\n",
    "y = np.random.normal(0, std_dev, shots)\n",
    "\n",
    "\n",
    "plt.scatter(x, y)\n",
    "# почему разброс от -3 до 3? Согласно закону о нормальном распределении: 3 сигмы\n",
    "# 99.7% вероятность попадания в этот диапазон"
   ]
  },
  {
   "cell_type": "markdown",
   "metadata": {
    "id": "l_0GysxhoeTb"
   },
   "source": [
    "**Задача 3.** Графически определить распределение измеренных значений физической величины, когда измерительный прибор имеет случайную погрешность."
   ]
  },
  {
   "cell_type": "code",
   "execution_count": null,
   "metadata": {
    "colab": {
     "base_uri": "https://localhost:8080/"
    },
    "id": "REebYTl8oeTb",
    "outputId": "0877aaeb-0b9d-4688-d0b5-57e4266f7e43"
   },
   "outputs": [
    {
     "data": {
      "text/plain": [
       "count    1040.000000\n",
       "mean       -9.797112\n",
       "std         0.087958\n",
       "min       -10.030373\n",
       "25%        -9.866481\n",
       "50%        -9.800747\n",
       "75%        -9.727398\n",
       "max        -9.570811\n",
       "Name: az, dtype: float64"
      ]
     },
     "execution_count": 34,
     "metadata": {},
     "output_type": "execute_result"
    }
   ],
   "source": [
    "import pandas as pd\n",
    "\n",
    "data = pd.read_csv(\"https://raw.githubusercontent.com/obulygin/netology_pyda_files/main/data.log\", sep=\" \")[\"az\"]\n",
    "data.describe()"
   ]
  },
  {
   "cell_type": "code",
   "execution_count": null,
   "metadata": {
    "id": "lZSTBr-poeTb"
   },
   "outputs": [],
   "source": [
    "uni = np.random.uniform(min(data), max(data), 10000)\n",
    "normal = np.random.normal(np.mean(data), np.std(data, ddof=1), 10000)"
   ]
  },
  {
   "cell_type": "code",
   "execution_count": null,
   "metadata": {
    "colab": {
     "base_uri": "https://localhost:8080/",
     "height": 283
    },
    "id": "p84mWD6CoeTc",
    "outputId": "dd733018-0b0a-4a63-de6f-9f39594dbc9e"
   },
   "outputs": [
    {
     "data": {
      "text/plain": [
       "<AxesSubplot:>"
      ]
     },
     "execution_count": 36,
     "metadata": {},
     "output_type": "execute_result"
    },
    {
     "data": {
      "image/png": "[encoded data removed]",
      "text/plain": [
       "<Figure size 432x288 with 1 Axes>"
      ]
     },
     "metadata": {
      "needs_background": "light"
     },
     "output_type": "display_data"
    }
   ],
   "source": [
    "data.plot()"
   ]
  },
  {
   "cell_type": "code",
   "execution_count": null,
   "metadata": {
    "colab": {
     "base_uri": "https://localhost:8080/",
     "height": 764
    },
    "id": "XkKEW5SDoeTc",
    "outputId": "d6b68012-2740-48fc-e7da-5c70b5ad371c"
   },
   "outputs": [
    {
     "data": {
      "image/png": "[encoded data removed]",
      "text/plain": [
       "<Figure size 432x288 with 1 Axes>"
      ]
     },
     "metadata": {
      "needs_background": "light"
     },
     "output_type": "display_data"
    },
    {
     "data": {
      "image/png": "[encoded data removed]",
      "text/plain": [
       "<Figure size 432x288 with 1 Axes>"
      ]
     },
     "metadata": {
      "needs_background": "light"
     },
     "output_type": "display_data"
    },
    {
     "data": {
      "image/png": "[encoded data removed]",
      "text/plain": [
       "<Figure size 432x288 with 1 Axes>"
      ]
     },
     "metadata": {
      "needs_background": "light"
     },
     "output_type": "display_data"
    }
   ],
   "source": [
    "plt.hist(uni, bins=11)\n",
    "plt.show()\n",
    "plt.hist(normal, bins=11)\n",
    "plt.show()\n",
    "plt.hist(data, bins=11)\n",
    "plt.show()"
   ]
  },
  {
   "cell_type": "markdown",
   "metadata": {
    "id": "M6O0YMakoeTd"
   },
   "source": [
    "**Задача 4.** Рассчитать вероятность того, что пациент заражён COVID-19, если известно, что тест дал положительный результат. Сравнить с результатом моделирования."
   ]
  },
  {
   "cell_type": "code",
   "execution_count": null,
   "metadata": {
    "colab": {
     "base_uri": "https://localhost:8080/"
    },
    "id": "pR9cS38LoeTd",
    "outputId": "8f18549d-01fb-498f-83b9-cf6b046b8c30"
   },
   "outputs": [
    {
     "name": "stdout",
     "output_type": "stream",
     "text": [
      "0.019242096995876676\n"
     ]
    }
   ],
   "source": [
    "prev = 0.001    # Распространённость болезни\n",
    "sens = 0.98    # Чувствительность теста\n",
    "spec = 0.95    # Специфичность теста\n",
    "\n",
    "p = (sens * prev) / (sens * prev + (1 - spec) * (1 - prev))   # Теоретическая вероятность\n",
    "print(p)"
   ]
  },
  {
   "cell_type": "code",
   "execution_count": null,
   "metadata": {
    "colab": {
     "base_uri": "https://localhost:8080/"
    },
    "id": "d_YGeyIjoeTd",
    "outputId": "d0a8431e-1c7b-43c6-911d-b572bd12beeb"
   },
   "outputs": [
    {
     "name": "stdout",
     "output_type": "stream",
     "text": [
      "0.019856635094616867\n"
     ]
    }
   ],
   "source": [
    "population = 1000000    # Количество испытуемых\n",
    "\n",
    "true_pos = 0    # Количество больных с положительным тестом\n",
    "false_pos = 0   # Количество здоровых с положительным тестом\n",
    "\n",
    "for i in range(population):\n",
    "    # Наугад решаем, заражён ли человек\n",
    "    # для этого генерируем случайную величину от 0 до 1\n",
    "    infected = np.random.uniform() < prev\n",
    "\n",
    "    # Наугад решаем, дал ли тест положительный результат\n",
    "    positive = np.random.uniform() < sens if infected else np.random.uniform() < 1 - spec\n",
    "\n",
    "    if positive:\n",
    "        if infected:\n",
    "            true_pos += 1\n",
    "        else:\n",
    "            false_pos += 1\n",
    "\n",
    "p_monte_carlo = true_pos / (true_pos + false_pos)    # частота из моделирования\n",
    "print(p_monte_carlo)"
   ]
  },
  {
   "cell_type": "code",
   "execution_count": null,
   "metadata": {
    "colab": {
     "base_uri": "https://localhost:8080/"
    },
    "id": "VspqTLDnSKVF",
    "outputId": "5170570d-2647-4a5d-d211-7e232523e6f6"
   },
   "outputs": [
    {
     "data": {
      "text/plain": [
       "0.6011150117432088"
      ]
     },
     "execution_count": 16,
     "metadata": {},
     "output_type": "execute_result"
    }
   ],
   "source": [
    "np.random.uniform()"
   ]
  }
 ],
 "metadata": {
  "colab": {
   "provenance": []
  },
  "kernelspec": {
   "display_name": "Python 3 (ipykernel)",
   "language": "python",
   "name": "python3"
  },
  "language_info": {
   "codemirror_mode": {
    "name": "ipython",
    "version": 3
   },
   "file_extension": ".py",
   "mimetype": "text/x-python",
   "name": "python",
   "nbconvert_exporter": "python",
   "pygments_lexer": "ipython3",
   "version": "3.11.5"
  }
 },
 "nbformat": 4,
 "nbformat_minor": 1
}
