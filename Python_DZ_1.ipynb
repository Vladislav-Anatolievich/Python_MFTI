{
 "cells": [
  {
   "cell_type": "markdown",
   "id": "8271b818",
   "metadata": {},
   "source": [
    "## Домашняя работа №1\n",
    "\n",
    "Никогда не стоит делать поиск по словарю циклом. Это долго и не эффективно.\n",
    "\n",
    "Правильно: if user_id in purchases (пример)"
   ]
  },
  {
   "cell_type": "markdown",
   "id": "dcad311c",
   "metadata": {},
   "source": [
    "### Задача №1"
   ]
  },
  {
   "cell_type": "code",
   "execution_count": 7,
   "id": "d1a6a0e8",
   "metadata": {
    "scrolled": false
   },
   "outputs": [
    {
     "name": "stdout",
     "output_type": "stream",
     "text": [
      "1840e0b9d4 Продукты\n",
      "4e4f90fcfb Электроника\n"
     ]
    }
   ],
   "source": [
    "# Импортирую библиотеку json\n",
    "import json\n",
    "# Открываю файл 'purchase_log.txt'\n",
    "f = open('purchase_log.txt')\n",
    "# Создаю пустой словарь\n",
    "purchases = {}\n",
    "# Пропускаю первую строку, в которой содержится заголовок\n",
    "f.readline()\n",
    "# Преобразую каждую строку файла в словарь с помощью метода json.loads\n",
    "for i, line in enumerate(f):\n",
    "    line = json.loads(line)\n",
    "    # Записываю в словарь purchases значения, полученное по ключу user_id и category\n",
    "    purchases[line['user_id']] = line['category']\n",
    "\n",
    "# Проверка и демонстрация работы\n",
    "for i, key in enumerate(purchases):\n",
    "    if i == 2:\n",
    "        break\n",
    "    print(key, purchases[key])    \n",
    "\n"
   ]
  },
  {
   "cell_type": "markdown",
   "id": "e41c8404",
   "metadata": {},
   "source": [
    "### Задача №2"
   ]
  },
  {
   "cell_type": "code",
   "execution_count": 173,
   "id": "80dfcca0",
   "metadata": {},
   "outputs": [
    {
     "name": "stdout",
     "output_type": "stream",
     "text": [
      "1840e0b9d4, other, Продукты\n",
      "4e4f90fcfb, context, Электроника\n",
      "afea8d72fc, other, Электроника\n"
     ]
    }
   ],
   "source": [
    "# В задаче №2 используется решение задачи №1 (словарь purchases)\n",
    "# Открываю файлы с помощью контекстного менеджера\n",
    "with open('visit_log.csv') as visit:\n",
    "        with open('funnel.csv', 'w') as funnel:\n",
    "            # Построчно перебираю файл visit_log.csv\n",
    "            for i, line in enumerate(visit):\n",
    "                line = line.strip().split(',')\n",
    "                # Проверяю наличие user_id из visit_log.csv в словаре purchases\n",
    "                if line[0] in purchases:\n",
    "                    funnel.write(line[0]+ ', ' \n",
    "                                 + line[1] + ', ' \n",
    "                                 + purchases[line[0]] + '\\n')\n",
    "                    # Демонстрирую работу алгоритма на первых 100 строках\n",
    "                    if i < 100:\n",
    "                        print(line[0]+ ', ' + line[1] + ', ' + purchases[line[0]])"
   ]
  }
 ],
 "metadata": {
  "kernelspec": {
   "display_name": "Python 3 (ipykernel)",
   "language": "python",
   "name": "python3"
  },
  "language_info": {
   "codemirror_mode": {
    "name": "ipython",
    "version": 3
   },
   "file_extension": ".py",
   "mimetype": "text/x-python",
   "name": "python",
   "nbconvert_exporter": "python",
   "pygments_lexer": "ipython3",
   "version": "3.11.5"
  }
 },
 "nbformat": 4,
 "nbformat_minor": 5
}
